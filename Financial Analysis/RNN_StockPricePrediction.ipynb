{
  "nbformat": 4,
  "nbformat_minor": 0,
  "metadata": {
    "colab": {
      "name": "RNN:- StockPricePrediction.ipynb",
      "provenance": [],
      "collapsed_sections": []
    },
    "kernelspec": {
      "name": "python3",
      "display_name": "Python 3"
    },
    "language_info": {
      "name": "python"
    },
    "accelerator": "GPU"
  },
  "cells": [
    {
      "cell_type": "code",
      "execution_count": null,
      "metadata": {
        "id": "8FlPegZcNcB1"
      },
      "outputs": [],
      "source": [
        "import pandas as pd\n",
        "import numpy as np\n",
        "import matplotlib.pyplot as plt"
      ]
    },
    {
      "cell_type": "code",
      "source": [
        "df_train=pd.read_csv(\"/content/trainset.csv\")\n",
        "train_data=df_train.iloc[:, 1:2].values"
      ],
      "metadata": {
        "id": "WC4xgj-qNlgS"
      },
      "execution_count": null,
      "outputs": []
    },
    {
      "cell_type": "code",
      "source": [
        "train_data.reshape(-1,1)"
      ],
      "metadata": {
        "colab": {
          "base_uri": "https://localhost:8080/"
        },
        "id": "IP8OCqLSVKTA",
        "outputId": "87973552-c924-40fe-e2e0-eef6a903ac57"
      },
      "execution_count": null,
      "outputs": [
        {
          "output_type": "execute_result",
          "data": {
            "text/plain": [
              "array([[ 357.385559],\n",
              "       [ 360.122742],\n",
              "       [ 362.313507],\n",
              "       ...,\n",
              "       [1057.390015],\n",
              "       [1051.599976],\n",
              "       [1046.719971]])"
            ]
          },
          "metadata": {},
          "execution_count": 86
        }
      ]
    },
    {
      "cell_type": "code",
      "source": [
        "from sklearn.preprocessing import MinMaxScaler\n",
        "sc = MinMaxScaler(feature_range = (0, 1))\n",
        "train_data_scaled = sc.fit_transform(train_data)"
      ],
      "metadata": {
        "id": "1dG578fXNx8a"
      },
      "execution_count": null,
      "outputs": []
    },
    {
      "cell_type": "code",
      "source": [
        "X_train = []\n",
        "y_train = []\n",
        "for i in range(60 , len(df_train)):\n",
        "  X_train.append(train_data_scaled[i-60:i, 0])\n",
        "  y_train.append(train_data_scaled[i,0])\n",
        "\n",
        "X_train, y_train =  np.array(X_train), np.array(y_train)"
      ],
      "metadata": {
        "id": "2GogCosJOMGY"
      },
      "execution_count": null,
      "outputs": []
    },
    {
      "cell_type": "code",
      "source": [
        "X_train = np.reshape(X_train, (X_train.shape[0], X_train.shape[1], 1))"
      ],
      "metadata": {
        "id": "QNzUMnG0Opoq"
      },
      "execution_count": null,
      "outputs": []
    },
    {
      "cell_type": "code",
      "source": [
        "from keras.models import Sequential\n",
        "from keras.layers import LSTM\n",
        "from keras.layers import Dense\n",
        "from keras.layers import Dropout"
      ],
      "metadata": {
        "id": "bTk_56VzO2E-"
      },
      "execution_count": null,
      "outputs": []
    },
    {
      "cell_type": "code",
      "source": [
        "model = Sequential()"
      ],
      "metadata": {
        "id": "CtKsu_9sPC_-"
      },
      "execution_count": null,
      "outputs": []
    },
    {
      "cell_type": "code",
      "source": [
        "model.add(LSTM(units = 60, return_sequences = True, input_shape = (X_train.shape[1],1)))\n",
        "model.add(Dropout(0.2))"
      ],
      "metadata": {
        "id": "kP34QEqiPKlu"
      },
      "execution_count": null,
      "outputs": []
    },
    {
      "cell_type": "code",
      "source": [
        "model.add(LSTM(units = 60, return_sequences = True))\n",
        "model.add(Dropout(0.2))"
      ],
      "metadata": {
        "id": "_sC_7cMJPkqI"
      },
      "execution_count": null,
      "outputs": []
    },
    {
      "cell_type": "code",
      "source": [
        "model.add(LSTM(units = 60, return_sequences = True))\n",
        "model.add(Dropout(0.2))"
      ],
      "metadata": {
        "id": "wCysR0YlPp6L"
      },
      "execution_count": null,
      "outputs": []
    },
    {
      "cell_type": "code",
      "source": [
        "model.add(LSTM(units = 60))\n",
        "model.add(Dropout(0.2))"
      ],
      "metadata": {
        "id": "HP0NjJl6PqmX"
      },
      "execution_count": null,
      "outputs": []
    },
    {
      "cell_type": "code",
      "source": [
        "model.add(Dense(units = 1))"
      ],
      "metadata": {
        "id": "dlOM-Vg1PraI"
      },
      "execution_count": null,
      "outputs": []
    },
    {
      "cell_type": "code",
      "source": [
        "model.compile(optimizer = \"adam\", loss=\"mean_squared_error\")"
      ],
      "metadata": {
        "id": "DF-yfqh7QXiA"
      },
      "execution_count": null,
      "outputs": []
    },
    {
      "cell_type": "code",
      "source": [
        "model.fit(X_train, y_train, epochs=100, batch_size=32)"
      ],
      "metadata": {
        "colab": {
          "base_uri": "https://localhost:8080/"
        },
        "id": "sFQz_BzVPudy",
        "outputId": "5be2b315-f6d4-4764-bd01-2ebfa399e828"
      },
      "execution_count": null,
      "outputs": [
        {
          "output_type": "stream",
          "name": "stdout",
          "text": [
            "Epoch 1/100\n",
            "38/38 [==============================] - 9s 60ms/step - loss: 0.0278\n",
            "Epoch 2/100\n",
            "38/38 [==============================] - 2s 60ms/step - loss: 0.0045\n",
            "Epoch 3/100\n",
            "38/38 [==============================] - 2s 60ms/step - loss: 0.0037\n",
            "Epoch 4/100\n",
            "38/38 [==============================] - 2s 60ms/step - loss: 0.0033\n",
            "Epoch 5/100\n",
            "38/38 [==============================] - 2s 60ms/step - loss: 0.0032\n",
            "Epoch 6/100\n",
            "38/38 [==============================] - 2s 60ms/step - loss: 0.0032\n",
            "Epoch 7/100\n",
            "38/38 [==============================] - 2s 60ms/step - loss: 0.0035\n",
            "Epoch 8/100\n",
            "38/38 [==============================] - 2s 64ms/step - loss: 0.0032\n",
            "Epoch 9/100\n",
            "38/38 [==============================] - 2s 65ms/step - loss: 0.0036\n",
            "Epoch 10/100\n",
            "38/38 [==============================] - 2s 60ms/step - loss: 0.0027\n",
            "Epoch 11/100\n",
            "38/38 [==============================] - 2s 60ms/step - loss: 0.0028\n",
            "Epoch 12/100\n",
            "38/38 [==============================] - 2s 60ms/step - loss: 0.0028\n",
            "Epoch 13/100\n",
            "38/38 [==============================] - 2s 60ms/step - loss: 0.0026\n",
            "Epoch 14/100\n",
            "38/38 [==============================] - 2s 59ms/step - loss: 0.0039\n",
            "Epoch 15/100\n",
            "38/38 [==============================] - 2s 60ms/step - loss: 0.0029\n",
            "Epoch 16/100\n",
            "38/38 [==============================] - 2s 60ms/step - loss: 0.0027\n",
            "Epoch 17/100\n",
            "38/38 [==============================] - 2s 60ms/step - loss: 0.0027\n",
            "Epoch 18/100\n",
            "38/38 [==============================] - 2s 60ms/step - loss: 0.0025\n",
            "Epoch 19/100\n",
            "38/38 [==============================] - 2s 60ms/step - loss: 0.0027\n",
            "Epoch 20/100\n",
            "38/38 [==============================] - 2s 60ms/step - loss: 0.0024\n",
            "Epoch 21/100\n",
            "38/38 [==============================] - 2s 60ms/step - loss: 0.0023\n",
            "Epoch 22/100\n",
            "38/38 [==============================] - 2s 60ms/step - loss: 0.0024\n",
            "Epoch 23/100\n",
            "38/38 [==============================] - 2s 59ms/step - loss: 0.0023\n",
            "Epoch 24/100\n",
            "38/38 [==============================] - 2s 59ms/step - loss: 0.0023\n",
            "Epoch 25/100\n",
            "38/38 [==============================] - 2s 59ms/step - loss: 0.0022\n",
            "Epoch 26/100\n",
            "38/38 [==============================] - 2s 60ms/step - loss: 0.0023\n",
            "Epoch 27/100\n",
            "38/38 [==============================] - 2s 60ms/step - loss: 0.0024\n",
            "Epoch 28/100\n",
            "38/38 [==============================] - 2s 60ms/step - loss: 0.0023\n",
            "Epoch 29/100\n",
            "38/38 [==============================] - 2s 60ms/step - loss: 0.0020\n",
            "Epoch 30/100\n",
            "38/38 [==============================] - 2s 60ms/step - loss: 0.0020\n",
            "Epoch 31/100\n",
            "38/38 [==============================] - 2s 60ms/step - loss: 0.0020\n",
            "Epoch 32/100\n",
            "38/38 [==============================] - 2s 60ms/step - loss: 0.0019\n",
            "Epoch 33/100\n",
            "38/38 [==============================] - 2s 60ms/step - loss: 0.0019\n",
            "Epoch 34/100\n",
            "38/38 [==============================] - 2s 60ms/step - loss: 0.0020\n",
            "Epoch 35/100\n",
            "38/38 [==============================] - 2s 60ms/step - loss: 0.0021\n",
            "Epoch 36/100\n",
            "38/38 [==============================] - 2s 60ms/step - loss: 0.0020\n",
            "Epoch 37/100\n",
            "38/38 [==============================] - 2s 60ms/step - loss: 0.0017\n",
            "Epoch 38/100\n",
            "38/38 [==============================] - 2s 59ms/step - loss: 0.0018\n",
            "Epoch 39/100\n",
            "38/38 [==============================] - 2s 63ms/step - loss: 0.0018\n",
            "Epoch 40/100\n",
            "38/38 [==============================] - 2s 63ms/step - loss: 0.0018\n",
            "Epoch 41/100\n",
            "38/38 [==============================] - 2s 63ms/step - loss: 0.0019\n",
            "Epoch 42/100\n",
            "38/38 [==============================] - 2s 60ms/step - loss: 0.0016\n",
            "Epoch 43/100\n",
            "38/38 [==============================] - 2s 59ms/step - loss: 0.0016\n",
            "Epoch 44/100\n",
            "38/38 [==============================] - 2s 60ms/step - loss: 0.0018\n",
            "Epoch 45/100\n",
            "38/38 [==============================] - 2s 60ms/step - loss: 0.0016\n",
            "Epoch 46/100\n",
            "38/38 [==============================] - 2s 60ms/step - loss: 0.0016\n",
            "Epoch 47/100\n",
            "38/38 [==============================] - 2s 60ms/step - loss: 0.0023\n",
            "Epoch 48/100\n",
            "38/38 [==============================] - 2s 60ms/step - loss: 0.0017\n",
            "Epoch 49/100\n",
            "38/38 [==============================] - 2s 59ms/step - loss: 0.0017\n",
            "Epoch 50/100\n",
            "38/38 [==============================] - 2s 59ms/step - loss: 0.0017\n",
            "Epoch 51/100\n",
            "38/38 [==============================] - 2s 60ms/step - loss: 0.0016\n",
            "Epoch 52/100\n",
            "38/38 [==============================] - 2s 60ms/step - loss: 0.0017\n",
            "Epoch 53/100\n",
            "38/38 [==============================] - 2s 61ms/step - loss: 0.0016\n",
            "Epoch 54/100\n",
            "38/38 [==============================] - 2s 60ms/step - loss: 0.0017\n",
            "Epoch 55/100\n",
            "38/38 [==============================] - 2s 59ms/step - loss: 0.0016\n",
            "Epoch 56/100\n",
            "38/38 [==============================] - 2s 60ms/step - loss: 0.0014\n",
            "Epoch 57/100\n",
            "38/38 [==============================] - 2s 60ms/step - loss: 0.0016\n",
            "Epoch 58/100\n",
            "38/38 [==============================] - 2s 60ms/step - loss: 0.0016\n",
            "Epoch 59/100\n",
            "38/38 [==============================] - 2s 60ms/step - loss: 0.0014\n",
            "Epoch 60/100\n",
            "38/38 [==============================] - 2s 60ms/step - loss: 0.0013\n",
            "Epoch 61/100\n",
            "38/38 [==============================] - 2s 60ms/step - loss: 0.0013\n",
            "Epoch 62/100\n",
            "38/38 [==============================] - 2s 60ms/step - loss: 0.0014\n",
            "Epoch 63/100\n",
            "38/38 [==============================] - 2s 59ms/step - loss: 0.0014\n",
            "Epoch 64/100\n",
            "38/38 [==============================] - 2s 60ms/step - loss: 0.0012\n",
            "Epoch 65/100\n",
            "38/38 [==============================] - 2s 60ms/step - loss: 0.0014\n",
            "Epoch 66/100\n",
            "38/38 [==============================] - 2s 60ms/step - loss: 0.0015\n",
            "Epoch 67/100\n",
            "38/38 [==============================] - 2s 60ms/step - loss: 0.0013\n",
            "Epoch 68/100\n",
            "38/38 [==============================] - 2s 60ms/step - loss: 0.0013\n",
            "Epoch 69/100\n",
            "38/38 [==============================] - 2s 59ms/step - loss: 0.0014\n",
            "Epoch 70/100\n",
            "38/38 [==============================] - 2s 60ms/step - loss: 0.0014\n",
            "Epoch 71/100\n",
            "38/38 [==============================] - 2s 60ms/step - loss: 0.0012\n",
            "Epoch 72/100\n",
            "38/38 [==============================] - 2s 60ms/step - loss: 0.0012\n",
            "Epoch 73/100\n",
            "38/38 [==============================] - 2s 60ms/step - loss: 0.0014\n",
            "Epoch 74/100\n",
            "38/38 [==============================] - 2s 60ms/step - loss: 0.0011\n",
            "Epoch 75/100\n",
            "38/38 [==============================] - 2s 60ms/step - loss: 0.0012\n",
            "Epoch 76/100\n",
            "38/38 [==============================] - 2s 60ms/step - loss: 0.0012\n",
            "Epoch 77/100\n",
            "38/38 [==============================] - 2s 60ms/step - loss: 0.0013\n",
            "Epoch 78/100\n",
            "38/38 [==============================] - 2s 60ms/step - loss: 0.0013\n",
            "Epoch 79/100\n",
            "38/38 [==============================] - 2s 60ms/step - loss: 0.0013\n",
            "Epoch 80/100\n",
            "38/38 [==============================] - 2s 60ms/step - loss: 0.0014\n",
            "Epoch 81/100\n",
            "38/38 [==============================] - 2s 60ms/step - loss: 0.0012\n",
            "Epoch 82/100\n",
            "38/38 [==============================] - 2s 60ms/step - loss: 0.0011\n",
            "Epoch 83/100\n",
            "38/38 [==============================] - 2s 60ms/step - loss: 0.0011\n",
            "Epoch 84/100\n",
            "38/38 [==============================] - 2s 60ms/step - loss: 9.9239e-04\n",
            "Epoch 85/100\n",
            "38/38 [==============================] - 2s 59ms/step - loss: 0.0011\n",
            "Epoch 86/100\n",
            "38/38 [==============================] - 2s 60ms/step - loss: 0.0010\n",
            "Epoch 87/100\n",
            "38/38 [==============================] - 2s 60ms/step - loss: 0.0010\n",
            "Epoch 88/100\n",
            "38/38 [==============================] - 2s 60ms/step - loss: 9.5360e-04\n",
            "Epoch 89/100\n",
            "38/38 [==============================] - 2s 60ms/step - loss: 0.0010\n",
            "Epoch 90/100\n",
            "38/38 [==============================] - 2s 60ms/step - loss: 9.8330e-04\n",
            "Epoch 91/100\n",
            "38/38 [==============================] - 2s 60ms/step - loss: 9.4364e-04\n",
            "Epoch 92/100\n",
            "38/38 [==============================] - 2s 60ms/step - loss: 0.0010\n",
            "Epoch 93/100\n",
            "38/38 [==============================] - 2s 60ms/step - loss: 9.9621e-04\n",
            "Epoch 94/100\n",
            "38/38 [==============================] - 2s 59ms/step - loss: 9.6634e-04\n",
            "Epoch 95/100\n",
            "38/38 [==============================] - 2s 60ms/step - loss: 9.6564e-04\n",
            "Epoch 96/100\n",
            "38/38 [==============================] - 2s 60ms/step - loss: 0.0010\n",
            "Epoch 97/100\n",
            "38/38 [==============================] - 2s 59ms/step - loss: 9.7361e-04\n",
            "Epoch 98/100\n",
            "38/38 [==============================] - 2s 60ms/step - loss: 0.0011\n",
            "Epoch 99/100\n",
            "38/38 [==============================] - 2s 60ms/step - loss: 0.0010\n",
            "Epoch 100/100\n",
            "38/38 [==============================] - 2s 60ms/step - loss: 0.0010\n"
          ]
        },
        {
          "output_type": "execute_result",
          "data": {
            "text/plain": [
              "<keras.callbacks.History at 0x7f0d2e7309d0>"
            ]
          },
          "metadata": {},
          "execution_count": 98
        }
      ]
    },
    {
      "cell_type": "code",
      "source": [
        "df_test = pd.read_csv(\"testset.csv\")\n",
        "real_stock_price = df_test.iloc[:, 1:2].values"
      ],
      "metadata": {
        "id": "RHJP5Pz6QesZ"
      },
      "execution_count": null,
      "outputs": []
    },
    {
      "cell_type": "code",
      "source": [
        "df_total = pd.concat((df_train['Open'], df_test['Open']), axis = 0)\n",
        "inputs = df_total[len(df_total) - len(df_test) -60: ].values\n",
        "inputs = inputs.reshape(-1,1)\n",
        "inputs = sc.transform(inputs)\n",
        "X_test = []\n",
        "for i in range (60, 60+(len(df_test))):\n",
        "  X_test.append(inputs[i-60:i, 0])\n",
        "X_test = np.array(X_test)\n",
        "X_test = np.reshape(X_test, (X_test.shape[0], X_test.shape[1], 1))\n",
        "prediction = model.predict(X_test)"
      ],
      "metadata": {
        "id": "ReUq4txuQ75b"
      },
      "execution_count": null,
      "outputs": []
    },
    {
      "cell_type": "code",
      "source": [
        "prediction=sc.inverse_transform(prediction)\n",
        "prediction"
      ],
      "metadata": {
        "colab": {
          "base_uri": "https://localhost:8080/"
        },
        "id": "u56c0G6mRo8F",
        "outputId": "885e858a-15e6-4059-81f6-5fc8a6ed9f45"
      },
      "execution_count": null,
      "outputs": [
        {
          "output_type": "execute_result",
          "data": {
            "text/plain": [
              "array([[1066.6918],\n",
              "       [1065.5591],\n",
              "       [1068.325 ],\n",
              "       [1077.1178],\n",
              "       [1087.7278],\n",
              "       [1097.2659],\n",
              "       [1104.7252],\n",
              "       [1106.8682],\n",
              "       [1107.6055],\n",
              "       [1107.4863],\n",
              "       [1113.123 ],\n",
              "       [1119.7628],\n",
              "       [1125.8857],\n",
              "       [1130.3613],\n",
              "       [1134.2031],\n",
              "       [1141.3815],\n",
              "       [1152.0947],\n",
              "       [1160.7749],\n",
              "       [1166.455 ],\n",
              "       [1169.8165],\n",
              "       [1170.1746],\n",
              "       [1170.1002],\n",
              "       [1169.1243],\n",
              "       [1161.0743],\n",
              "       [1146.2452],\n",
              "       [1121.2878],\n",
              "       [1106.9452],\n",
              "       [1099.4385],\n",
              "       [1089.5269],\n",
              "       [1084.6063],\n",
              "       [1083.1655],\n",
              "       [1083.4575],\n",
              "       [1088.9133],\n",
              "       [1096.6614],\n",
              "       [1102.6404],\n",
              "       [1108.091 ],\n",
              "       [1113.4032],\n",
              "       [1116.4268],\n",
              "       [1120.2635],\n",
              "       [1126.4875],\n",
              "       [1129.1531],\n",
              "       [1126.5068],\n",
              "       [1112.4408],\n",
              "       [1100.4569],\n",
              "       [1098.9286],\n",
              "       [1102.2612],\n",
              "       [1111.1182],\n",
              "       [1123.9154],\n",
              "       [1139.808 ],\n",
              "       [1153.3859],\n",
              "       [1156.8237],\n",
              "       [1155.2214],\n",
              "       [1153.3385],\n",
              "       [1146.4954],\n",
              "       [1135.5304],\n",
              "       [1124.9374],\n",
              "       [1116.2091],\n",
              "       [1104.7559],\n",
              "       [1094.1769],\n",
              "       [1090.0587],\n",
              "       [1078.7812],\n",
              "       [1066.9558],\n",
              "       [1060.1096],\n",
              "       [1055.9625],\n",
              "       [1049.3229],\n",
              "       [1050.4131],\n",
              "       [1051.8082],\n",
              "       [1050.642 ],\n",
              "       [1049.337 ],\n",
              "       [1048.4753],\n",
              "       [1047.2198],\n",
              "       [1048.6759],\n",
              "       [1050.5875],\n",
              "       [1054.5176],\n",
              "       [1063.4846],\n",
              "       [1071.307 ],\n",
              "       [1078.1888],\n",
              "       [1082.1794],\n",
              "       [1078.951 ],\n",
              "       [1068.1085],\n",
              "       [1057.3666],\n",
              "       [1053.7601],\n",
              "       [1052.7942],\n",
              "       [1049.7526],\n",
              "       [1048.4619],\n",
              "       [1047.1085],\n",
              "       [1045.2206],\n",
              "       [1049.2534],\n",
              "       [1057.4753],\n",
              "       [1064.8748],\n",
              "       [1074.3353],\n",
              "       [1083.8867],\n",
              "       [1091.876 ],\n",
              "       [1095.0302],\n",
              "       [1092.6852],\n",
              "       [1089.2347],\n",
              "       [1083.8029],\n",
              "       [1081.4855],\n",
              "       [1084.0499],\n",
              "       [1085.3114],\n",
              "       [1087.6249],\n",
              "       [1090.2042],\n",
              "       [1089.5476],\n",
              "       [1086.7782],\n",
              "       [1084.6947],\n",
              "       [1089.7627],\n",
              "       [1101.923 ],\n",
              "       [1117.4244],\n",
              "       [1129.8085],\n",
              "       [1134.7213],\n",
              "       [1132.3569],\n",
              "       [1127.8651],\n",
              "       [1126.9514],\n",
              "       [1130.9385],\n",
              "       [1137.161 ],\n",
              "       [1143.6925],\n",
              "       [1147.6923],\n",
              "       [1152.2443],\n",
              "       [1159.4639],\n",
              "       [1166.1904],\n",
              "       [1167.8579],\n",
              "       [1163.899 ],\n",
              "       [1155.9789],\n",
              "       [1147.7108],\n",
              "       [1138.6748]], dtype=float32)"
            ]
          },
          "metadata": {},
          "execution_count": 101
        }
      ]
    },
    {
      "cell_type": "code",
      "source": [
        ""
      ],
      "metadata": {
        "id": "od0LsQt2SH0z"
      },
      "execution_count": null,
      "outputs": []
    },
    {
      "cell_type": "code",
      "source": [
        ""
      ],
      "metadata": {
        "id": "9nU2UGrQSY5E"
      },
      "execution_count": null,
      "outputs": []
    },
    {
      "cell_type": "code",
      "source": [
        "plt.plot(real_stock_price, color = 'red', label = 'Real Google Stock Price')\n",
        "plt.plot(prediction, color = 'blue', label = 'Predicted Google Stock Price')\n",
        "plt.title('Google Stock Price Prediction')\n",
        "plt.xlabel('Time')\n",
        "plt.ylabel('Google Stock Price')\n",
        "plt.legend()\n",
        "plt.show()"
      ],
      "metadata": {
        "colab": {
          "base_uri": "https://localhost:8080/",
          "height": 295
        },
        "id": "p-iuiYNOSgm7",
        "outputId": "25f9d9c1-5490-4f38-9551-c760db31e30f"
      },
      "execution_count": null,
      "outputs": [
        {
          "output_type": "display_data",
          "data": {
            "text/plain": [
              "<Figure size 432x288 with 1 Axes>"
            ],
            "image/png": "[encoded data removed]"
          },
          "metadata": {
            "needs_background": "light"
          }
        }
      ]
    },
    {
      "cell_type": "code",
      "source": [
        ""
      ],
      "metadata": {
        "id": "nSkZiqfcSkUY"
      },
      "execution_count": null,
      "outputs": []
    }
  ]
}