{
 "cells": [
  {
   "cell_type": "code",
   "execution_count": 8,
   "metadata": {},
   "outputs": [],
   "source": [
    "import numpy as np"
   ]
  },
  {
   "cell_type": "code",
   "execution_count": 9,
   "metadata": {},
   "outputs": [],
   "source": [
    "totalPeople = 30\n",
    "chairAvailability = 0.6\n",
    "\n",
    "numberOfChairAvailable = 30*0.6"
   ]
  },
  {
   "cell_type": "code",
   "execution_count": 10,
   "metadata": {},
   "outputs": [],
   "source": [
    "workday = 5\n",
    "wfo = 3"
   ]
  },
  {
   "cell_type": "code",
   "execution_count": 11,
   "metadata": {},
   "outputs": [
    {
     "data": {
      "text/plain": [
       "18"
      ]
     },
     "execution_count": 11,
     "metadata": {},
     "output_type": "execute_result"
    }
   ],
   "source": [
    "monthlyWorkdayNeeded = int((3/5)*30)\n",
    "monthlyWorkdayNeeded"
   ]
  },
  {
   "cell_type": "code",
   "execution_count": 12,
   "metadata": {},
   "outputs": [
    {
     "data": {
      "text/plain": [
       "array([1, 2, 5, 4, 4, 4, 4, 2, 2, 4, 5, 5, 4, 5, 5, 2, 3, 3])"
      ]
     },
     "execution_count": 12,
     "metadata": {},
     "output_type": "execute_result"
    }
   ],
   "source": [
    "schedule = np.random.choice(range(1, workday + 1),monthlyWorkdayNeeded, replace=True)\n",
    "schedule"
   ]
  },
  {
   "cell_type": "code",
   "execution_count": 13,
   "metadata": {},
   "outputs": [
    {
     "name": "stdout",
     "output_type": "stream",
     "text": [
      "Number of chairs available: 18\n",
      "Total workdays needed for all people: 18\n",
      "Schedule: [1 2 2 3 4 4 3 1 2 4 1 3 4 5 3 4 5 5]\n"
     ]
    }
   ],
   "source": [
    "import numpy as np\n",
    "\n",
    "# Number of people in office\n",
    "total_people = 30\n",
    "\n",
    "# Percentage of chairs available\n",
    "chair_percentage = 0.6\n",
    "\n",
    "# Calculate number of chairs\n",
    "num_chairs = int(total_people * chair_percentage)\n",
    "\n",
    "# Number of workdays\n",
    "total_workdays = 5\n",
    "\n",
    "# Number of days each person comes to the office\n",
    "days_per_person = 3\n",
    "\n",
    "# Calculate total workdays needed for all people\n",
    "total_workdays_needed = int((days_per_person / total_workdays) * total_people)\n",
    "\n",
    "# Generate a random schedule\n",
    "schedule = np.random.choice(range(1, total_workdays + 1), total_workdays_needed, replace=True)\n",
    "\n",
    "print(\"Number of chairs available:\", num_chairs)\n",
    "print(\"Total workdays needed for all people:\", total_workdays_needed)\n",
    "print(\"Schedule:\", schedule)\n"
   ]
  },
  {
   "cell_type": "code",
   "execution_count": null,
   "metadata": {},
   "outputs": [],
   "source": []
  },
  {
   "cell_type": "code",
   "execution_count": 14,
   "metadata": {},
   "outputs": [
    {
     "name": "stdout",
     "output_type": "stream",
     "text": [
      "Total chairs available: 18.0\n",
      "Chairs needed per day: 10.799999999999999\n"
     ]
    }
   ],
   "source": [
    "# Total number of people in office\n",
    "total_people = 30\n",
    "\n",
    "# Percentage of people having chairs\n",
    "chair_percentage = 0.60\n",
    "\n",
    "# Number of chairs available\n",
    "total_chairs = total_people * chair_percentage\n",
    "\n",
    "# Number of days people need to come to the office out of 5 days\n",
    "days_to_come = 3 / 5\n",
    "\n",
    "# Calculate the number of chairs needed each day\n",
    "chairs_needed_per_day = total_people * days_to_come * chair_percentage\n",
    "\n",
    "print(\"Total chairs available:\", total_chairs)\n",
    "print(\"Chairs needed per day:\", chairs_needed_per_day)\n"
   ]
  },
  {
   "cell_type": "code",
   "execution_count": null,
   "metadata": {},
   "outputs": [],
   "source": []
  }
 ],
 "metadata": {
  "kernelspec": {
   "display_name": "my_env",
   "language": "python",
   "name": "python3"
  },
  "language_info": {
   "codemirror_mode": {
    "name": "ipython",
    "version": 3
   },
   "file_extension": ".py",
   "mimetype": "text/x-python",
   "name": "python",
   "nbconvert_exporter": "python",
   "pygments_lexer": "ipython3",
   "version": "3.11.0"
  }
 },
 "nbformat": 4,
 "nbformat_minor": 2
}
