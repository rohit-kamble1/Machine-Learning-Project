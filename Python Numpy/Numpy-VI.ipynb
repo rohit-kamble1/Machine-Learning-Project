{
 "cells": [
  {
   "cell_type": "code",
   "execution_count": 18,
   "metadata": {},
   "outputs": [],
   "source": [
    "import numpy as np"
   ]
  },
  {
   "cell_type": "code",
   "execution_count": 20,
   "metadata": {},
   "outputs": [
    {
     "data": {
      "text/plain": [
       "matrix([[ 0,  1,  2,  3],\n",
       "        [ 4,  5,  6,  7],\n",
       "        [ 8,  9, 10, 11],\n",
       "        [12, 13, 14, 15],\n",
       "        [16, 17, 18, 19]])"
      ]
     },
     "execution_count": 20,
     "metadata": {},
     "output_type": "execute_result"
    }
   ],
   "source": [
    "mat_1=np.matrix(np.arange(20)).reshape(5,4)\n",
    "mat_1"
   ]
  },
  {
   "cell_type": "code",
   "execution_count": 22,
   "metadata": {},
   "outputs": [
    {
     "data": {
      "text/plain": [
       "matrix([[0.37844135, 0.37114316, 0.37898253, 0.28251593],\n",
       "        [0.74619023, 0.19400443, 0.55760822, 0.71005564],\n",
       "        [0.12523356, 0.45182032, 0.32546264, 0.46011377],\n",
       "        [0.22302171, 0.11858239, 0.67230987, 0.65007411],\n",
       "        [0.43694708, 0.96820151, 0.95546428, 0.0162446 ]])"
      ]
     },
     "execution_count": 22,
     "metadata": {},
     "output_type": "execute_result"
    }
   ],
   "source": [
    "mat_2=np.matrix(np.random.rand(20)).reshape(5,4)\n",
    "mat_2"
   ]
  },
  {
   "cell_type": "code",
   "execution_count": 23,
   "metadata": {},
   "outputs": [
    {
     "data": {
      "text/plain": [
       "matrix([[ 0.37844135,  1.37114316,  2.37898253,  3.28251593],\n",
       "        [ 4.74619023,  5.19400443,  6.55760822,  7.71005564],\n",
       "        [ 8.12523356,  9.45182032, 10.32546264, 11.46011377],\n",
       "        [12.22302171, 13.11858239, 14.67230987, 15.65007411],\n",
       "        [16.43694708, 17.96820151, 18.95546428, 19.0162446 ]])"
      ]
     },
     "execution_count": 23,
     "metadata": {},
     "output_type": "execute_result"
    }
   ],
   "source": [
    "mat_c=np.add(mat_1,mat_2)\n",
    "mat_c"
   ]
  },
  {
   "cell_type": "code",
   "execution_count": 24,
   "metadata": {},
   "outputs": [
    {
     "data": {
      "text/plain": [
       "matrix([[-0.37844135,  0.62885684,  1.62101747,  2.71748407],\n",
       "        [ 3.25380977,  4.80599557,  5.44239178,  6.28994436],\n",
       "        [ 7.87476644,  8.54817968,  9.67453736, 10.53988623],\n",
       "        [11.77697829, 12.88141761, 13.32769013, 14.34992589],\n",
       "        [15.56305292, 16.03179849, 17.04453572, 18.9837554 ]])"
      ]
     },
     "execution_count": 24,
     "metadata": {},
     "output_type": "execute_result"
    }
   ],
   "source": [
    "mat_c=np.subtract(mat_1,mat_2)\n",
    "mat_c"
   ]
  },
  {
   "cell_type": "code",
   "execution_count": 25,
   "metadata": {},
   "outputs": [
    {
     "data": {
      "text/plain": [
       "matrix([[ 0.        ,  0.37114316,  0.75796505,  0.8475478 ],\n",
       "        [ 2.9847609 ,  0.97002214,  3.34564932,  4.97038945],\n",
       "        [ 1.00186845,  4.06638288,  3.2546264 ,  5.06125152],\n",
       "        [ 2.67626049,  1.54157106,  9.4123382 ,  9.75111161],\n",
       "        [ 6.99115328, 16.45942575, 17.19835707,  0.30864746]])"
      ]
     },
     "execution_count": 25,
     "metadata": {},
     "output_type": "execute_result"
    }
   ],
   "source": [
    "mat_c=np.multiply(mat_1,mat_2)\n",
    "mat_c"
   ]
  },
  {
   "cell_type": "code",
   "execution_count": 26,
   "metadata": {},
   "outputs": [
    {
     "data": {
      "text/plain": [
       "matrix([[   0.        ,    2.69437809,    5.27728816,   10.61887009],\n",
       "        [   5.36056338,   25.77260766,   10.76024309,    9.85838243],\n",
       "        [  63.88064206,   19.91942284,   30.72549283,   23.90713038],\n",
       "        [  53.80642158,  109.62842006,   20.82373113,   23.07429235],\n",
       "        [  36.61770663,   17.55832824,   18.83900878, 1169.61922834]])"
      ]
     },
     "execution_count": 26,
     "metadata": {},
     "output_type": "execute_result"
    }
   ],
   "source": [
    "mat_c=np.divide(mat_1,mat_2)\n",
    "mat_c"
   ]
  },
  {
   "cell_type": "code",
   "execution_count": null,
   "metadata": {},
   "outputs": [],
   "source": []
  }
 ],
 "metadata": {
  "kernelspec": {
   "display_name": "Python 3",
   "language": "python",
   "name": "python3"
  },
  "language_info": {
   "codemirror_mode": {
    "name": "ipython",
    "version": 3
   },
   "file_extension": ".py",
   "mimetype": "text/x-python",
   "name": "python",
   "nbconvert_exporter": "python",
   "pygments_lexer": "ipython3",
   "version": "3.7.3"
  }
 },
 "nbformat": 4,
 "nbformat_minor": 2
}
