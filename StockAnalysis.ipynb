{
  "cells": [
    {
      "cell_type": "markdown",
      "metadata": {
        "id": "EBfeEAAxqFOA"
      },
      "source": [
        "**Import required libraries**"
      ]
    },
    {
      "cell_type": "code",
      "execution_count": null,
      "metadata": {
        "id": "rI1fmYqJpbFu"
      },
      "outputs": [],
      "source": [
        "import pandas as pd\n",
        "import numpy as np\n",
        "import matplotlib.pyplot as plt"
      ]
    },
    {
      "cell_type": "markdown",
      "metadata": {
        "id": "G5rZmiSgqUUA"
      },
      "source": [
        "**Importing csv data using pandas dataframe**"
      ]
    },
    {
      "cell_type": "code",
      "execution_count": null,
      "metadata": {
        "colab": {
          "base_uri": "https://localhost:8080/",
          "height": 206
        },
        "id": "Y5WVCf7gqD3H",
        "outputId": "d802c5fc-8c81-436a-cab2-e7cfb1203324"
      },
      "outputs": [
        {
          "output_type": "execute_result",
          "data": {
            "text/plain": [
              "       Date         Open         High          Low        Close    Adj Close  \\\n",
              "0  1/3/2000  1469.250000  1478.000000  1438.359985  1455.219971  1455.219971   \n",
              "1  1/4/2000  1455.219971  1455.219971  1397.430054  1399.420044  1399.420044   \n",
              "2  1/5/2000  1399.420044  1413.270020  1377.680054  1402.109985  1402.109985   \n",
              "3  1/6/2000  1402.109985  1411.900024  1392.099976  1403.449951  1403.449951   \n",
              "4  1/7/2000  1403.449951  1441.469971  1400.729980  1441.469971  1441.469971   \n",
              "\n",
              "       Volume  \n",
              "0   931800000  \n",
              "1  1009000000  \n",
              "2  1085500000  \n",
              "3  1092300000  \n",
              "4  1225200000  "
            ],
            "text/html": [
              "\n",
              "  <div id=\"df-ff0bc72e-5f8f-46a8-9e17-9b0fc7cb591d\">\n",
              "    <div class=\"colab-df-container\">\n",
              "      <div>\n",
              "<style scoped>\n",
              "    .dataframe tbody tr th:only-of-type {\n",
              "        vertical-align: middle;\n",
              "    }\n",
              "\n",
              "    .dataframe tbody tr th {\n",
              "        vertical-align: top;\n",
              "    }\n",
              "\n",
              "    .dataframe thead th {\n",
              "        text-align: right;\n",
              "    }\n",
              "</style>\n",
              "<table border=\"1\" class=\"dataframe\">\n",
              "  <thead>\n",
              "    <tr style=\"text-align: right;\">\n",
              "      <th></th>\n",
              "      <th>Date</th>\n",
              "      <th>Open</th>\n",
              "      <th>High</th>\n",
              "      <th>Low</th>\n",
              "      <th>Close</th>\n",
              "      <th>Adj Close</th>\n",
              "      <th>Volume</th>\n",
              "    </tr>\n",
              "  </thead>\n",
              "  <tbody>\n",
              "    <tr>\n",
              "      <th>0</th>\n",
              "      <td>1/3/2000</td>\n",
              "      <td>1469.250000</td>\n",
              "      <td>1478.000000</td>\n",
              "      <td>1438.359985</td>\n",
              "      <td>1455.219971</td>\n",
              "      <td>1455.219971</td>\n",
              "      <td>931800000</td>\n",
              "    </tr>\n",
              "    <tr>\n",
              "      <th>1</th>\n",
              "      <td>1/4/2000</td>\n",
              "      <td>1455.219971</td>\n",
              "      <td>1455.219971</td>\n",
              "      <td>1397.430054</td>\n",
              "      <td>1399.420044</td>\n",
              "      <td>1399.420044</td>\n",
              "      <td>1009000000</td>\n",
              "    </tr>\n",
              "    <tr>\n",
              "      <th>2</th>\n",
              "      <td>1/5/2000</td>\n",
              "      <td>1399.420044</td>\n",
              "      <td>1413.270020</td>\n",
              "      <td>1377.680054</td>\n",
              "      <td>1402.109985</td>\n",
              "      <td>1402.109985</td>\n",
              "      <td>1085500000</td>\n",
              "    </tr>\n",
              "    <tr>\n",
              "      <th>3</th>\n",
              "      <td>1/6/2000</td>\n",
              "      <td>1402.109985</td>\n",
              "      <td>1411.900024</td>\n",
              "      <td>1392.099976</td>\n",
              "      <td>1403.449951</td>\n",
              "      <td>1403.449951</td>\n",
              "      <td>1092300000</td>\n",
              "    </tr>\n",
              "    <tr>\n",
              "      <th>4</th>\n",
              "      <td>1/7/2000</td>\n",
              "      <td>1403.449951</td>\n",
              "      <td>1441.469971</td>\n",
              "      <td>1400.729980</td>\n",
              "      <td>1441.469971</td>\n",
              "      <td>1441.469971</td>\n",
              "      <td>1225200000</td>\n",
              "    </tr>\n",
              "  </tbody>\n",
              "</table>\n",
              "</div>\n",
              "      <button class=\"colab-df-convert\" onclick=\"convertToInteractive('df-ff0bc72e-5f8f-46a8-9e17-9b0fc7cb591d')\"\n",
              "              title=\"Convert this dataframe to an interactive table.\"\n",
              "              style=\"display:none;\">\n",
              "        \n",
              "  <svg xmlns=\"http://www.w3.org/2000/svg\" height=\"24px\"viewBox=\"0 0 24 24\"\n",
              "       width=\"24px\">\n",
              "    <path d=\"M0 0h24v24H0V0z\" fill=\"none\"/>\n",
              "    <path d=\"M18.56 5.44l.94 2.06.94-2.06 2.06-.94-2.06-.94-.94-2.06-.94 2.06-2.06.94zm-11 1L8.5 8.5l.94-2.06 2.06-.94-2.06-.94L8.5 2.5l-.94 2.06-2.06.94zm10 10l.94 2.06.94-2.06 2.06-.94-2.06-.94-.94-2.06-.94 2.06-2.06.94z\"/><path d=\"M17.41 7.96l-1.37-1.37c-.4-.4-.92-.59-1.43-.59-.52 0-1.04.2-1.43.59L10.3 9.45l-7.72 7.72c-.78.78-.78 2.05 0 2.83L4 21.41c.39.39.9.59 1.41.59.51 0 1.02-.2 1.41-.59l7.78-7.78 2.81-2.81c.8-.78.8-2.07 0-2.86zM5.41 20L4 18.59l7.72-7.72 1.47 1.35L5.41 20z\"/>\n",
              "  </svg>\n",
              "      </button>\n",
              "      \n",
              "  <style>\n",
              "    .colab-df-container {\n",
              "      display:flex;\n",
              "      flex-wrap:wrap;\n",
              "      gap: 12px;\n",
              "    }\n",
              "\n",
              "    .colab-df-convert {\n",
              "      background-color: #E8F0FE;\n",
              "      border: none;\n",
              "      border-radius: 50%;\n",
              "      cursor: pointer;\n",
              "      display: none;\n",
              "      fill: #1967D2;\n",
              "      height: 32px;\n",
              "      padding: 0 0 0 0;\n",
              "      width: 32px;\n",
              "    }\n",
              "\n",
              "    .colab-df-convert:hover {\n",
              "      background-color: #E2EBFA;\n",
              "      box-shadow: 0px 1px 2px rgba(60, 64, 67, 0.3), 0px 1px 3px 1px rgba(60, 64, 67, 0.15);\n",
              "      fill: #174EA6;\n",
              "    }\n",
              "\n",
              "    [theme=dark] .colab-df-convert {\n",
              "      background-color: #3B4455;\n",
              "      fill: #D2E3FC;\n",
              "    }\n",
              "\n",
              "    [theme=dark] .colab-df-convert:hover {\n",
              "      background-color: #434B5C;\n",
              "      box-shadow: 0px 1px 3px 1px rgba(0, 0, 0, 0.15);\n",
              "      filter: drop-shadow(0px 1px 2px rgba(0, 0, 0, 0.3));\n",
              "      fill: #FFFFFF;\n",
              "    }\n",
              "  </style>\n",
              "\n",
              "      <script>\n",
              "        const buttonEl =\n",
              "          document.querySelector('#df-ff0bc72e-5f8f-46a8-9e17-9b0fc7cb591d button.colab-df-convert');\n",
              "        buttonEl.style.display =\n",
              "          google.colab.kernel.accessAllowed ? 'block' : 'none';\n",
              "\n",
              "        async function convertToInteractive(key) {\n",
              "          const element = document.querySelector('#df-ff0bc72e-5f8f-46a8-9e17-9b0fc7cb591d');\n",
              "          const dataTable =\n",
              "            await google.colab.kernel.invokeFunction('convertToInteractive',\n",
              "                                                     [key], {});\n",
              "          if (!dataTable) return;\n",
              "\n",
              "          const docLinkHtml = 'Like what you see? Visit the ' +\n",
              "            '<a target=\"_blank\" href=https://colab.research.google.com/notebooks/data_table.ipynb>data table notebook</a>'\n",
              "            + ' to learn more about interactive tables.';\n",
              "          element.innerHTML = '';\n",
              "          dataTable['output_type'] = 'display_data';\n",
              "          await google.colab.output.renderOutput(dataTable, element);\n",
              "          const docLink = document.createElement('div');\n",
              "          docLink.innerHTML = docLinkHtml;\n",
              "          element.appendChild(docLink);\n",
              "        }\n",
              "      </script>\n",
              "    </div>\n",
              "  </div>\n",
              "  "
            ]
          },
          "metadata": {},
          "execution_count": 2
        }
      ],
      "source": [
        "df=pd.read_csv('MarketData.csv')\n",
        "df.head()"
      ]
    },
    {
      "cell_type": "markdown",
      "metadata": {
        "id": "bapt0gU6qxP_"
      },
      "source": [
        "**Checking the info of dataset and checking for any duplicates as well as null values**"
      ]
    },
    {
      "cell_type": "code",
      "execution_count": null,
      "metadata": {
        "colab": {
          "base_uri": "https://localhost:8080/"
        },
        "id": "if33eGniqSse",
        "outputId": "bc749e39-3712-4056-a7dd-697d7d78e5dc"
      },
      "outputs": [
        {
          "output_type": "stream",
          "name": "stdout",
          "text": [
            "<class 'pandas.core.frame.DataFrame'>\n",
            "RangeIndex: 5232 entries, 0 to 5231\n",
            "Data columns (total 7 columns):\n",
            " #   Column     Non-Null Count  Dtype  \n",
            "---  ------     --------------  -----  \n",
            " 0   Date       5232 non-null   object \n",
            " 1   Open       5232 non-null   float64\n",
            " 2   High       5232 non-null   float64\n",
            " 3   Low        5232 non-null   float64\n",
            " 4   Close      5232 non-null   float64\n",
            " 5   Adj Close  5232 non-null   float64\n",
            " 6   Volume     5232 non-null   int64  \n",
            "dtypes: float64(5), int64(1), object(1)\n",
            "memory usage: 286.2+ KB\n"
          ]
        }
      ],
      "source": [
        "df.info()"
      ]
    },
    {
      "cell_type": "markdown",
      "metadata": {
        "id": "vbUzEJzqrFa4"
      },
      "source": [
        "**Converting the date column into object to datetime**"
      ]
    },
    {
      "cell_type": "code",
      "execution_count": null,
      "metadata": {
        "id": "KX2lzRKGrB6p"
      },
      "outputs": [],
      "source": [
        "df['Date']= pd.to_datetime(df['Date'])"
      ]
    },
    {
      "cell_type": "code",
      "execution_count": null,
      "metadata": {
        "colab": {
          "base_uri": "https://localhost:8080/"
        },
        "id": "hUhvAv91rXSW",
        "outputId": "5eea1569-357b-4da0-e1ef-e4116df251bc"
      },
      "outputs": [
        {
          "output_type": "stream",
          "name": "stdout",
          "text": [
            "<class 'pandas.core.frame.DataFrame'>\n",
            "RangeIndex: 5232 entries, 0 to 5231\n",
            "Data columns (total 7 columns):\n",
            " #   Column     Non-Null Count  Dtype         \n",
            "---  ------     --------------  -----         \n",
            " 0   Date       5232 non-null   datetime64[ns]\n",
            " 1   Open       5232 non-null   float64       \n",
            " 2   High       5232 non-null   float64       \n",
            " 3   Low        5232 non-null   float64       \n",
            " 4   Close      5232 non-null   float64       \n",
            " 5   Adj Close  5232 non-null   float64       \n",
            " 6   Volume     5232 non-null   int64         \n",
            "dtypes: datetime64[ns](1), float64(5), int64(1)\n",
            "memory usage: 286.2 KB\n"
          ]
        }
      ],
      "source": [
        "df.info()"
      ]
    },
    {
      "cell_type": "markdown",
      "metadata": {
        "id": "o8A4MtuAreCy"
      },
      "source": [
        "*Checking for any null values*"
      ]
    },
    {
      "cell_type": "code",
      "execution_count": null,
      "metadata": {
        "colab": {
          "base_uri": "https://localhost:8080/"
        },
        "id": "ZMuYUtn8rcZF",
        "outputId": "c738fe0c-f083-4b05-bc89-afe6bcbb25f8"
      },
      "outputs": [
        {
          "output_type": "execute_result",
          "data": {
            "text/plain": [
              "Date         0\n",
              "Open         0\n",
              "High         0\n",
              "Low          0\n",
              "Close        0\n",
              "Adj Close    0\n",
              "Volume       0\n",
              "dtype: int64"
            ]
          },
          "metadata": {},
          "execution_count": 6
        }
      ],
      "source": [
        "df.isnull().sum()"
      ]
    },
    {
      "cell_type": "markdown",
      "metadata": {
        "id": "OvqJG1KErnHa"
      },
      "source": [
        "*No null value are presenet in dataset*"
      ]
    },
    {
      "cell_type": "markdown",
      "source": [
        "*Co-relation Matrix*"
      ],
      "metadata": {
        "id": "gipo1XCBWcki"
      }
    },
    {
      "cell_type": "code",
      "source": [
        "corr_matrix=df.corr()"
      ],
      "metadata": {
        "id": "IOWdE1ixPm-d"
      },
      "execution_count": null,
      "outputs": []
    },
    {
      "cell_type": "code",
      "source": [
        "corr_matrix[\"Close\"].sort_values(ascending=False)"
      ],
      "metadata": {
        "colab": {
          "base_uri": "https://localhost:8080/"
        },
        "id": "7eKJf5v1P5Pr",
        "outputId": "e7e705a3-175a-49a9-cef3-f090bebed722"
      },
      "execution_count": null,
      "outputs": [
        {
          "output_type": "execute_result",
          "data": {
            "text/plain": [
              "Close        1.000000\n",
              "Adj Close    1.000000\n",
              "Low          0.999830\n",
              "High         0.999814\n",
              "Open         0.999652\n",
              "Volume       0.241236\n",
              "Name: Close, dtype: float64"
            ]
          },
          "metadata": {},
          "execution_count": 8
        }
      ]
    },
    {
      "cell_type": "markdown",
      "source": [
        "*Describe the data*"
      ],
      "metadata": {
        "id": "h-EM6Q2iWvOJ"
      }
    },
    {
      "cell_type": "code",
      "source": [
        "df.describe()"
      ],
      "metadata": {
        "colab": {
          "base_uri": "https://localhost:8080/",
          "height": 300
        },
        "id": "lkaESQWlWzvD",
        "outputId": "43e41ae5-651e-4173-ab56-476c42d4cbd1"
      },
      "execution_count": null,
      "outputs": [
        {
          "output_type": "execute_result",
          "data": {
            "text/plain": [
              "              Open         High          Low        Close    Adj Close  \\\n",
              "count  5232.000000  5232.000000  5232.000000  5232.000000  5232.000000   \n",
              "mean   1634.346903  1643.870727  1623.976516  1634.527020  1634.527020   \n",
              "std     649.457995   651.384321   647.211263   649.548486   649.548486   \n",
              "min     679.280029   695.270020   666.789978   676.530029   676.530029   \n",
              "25%    1161.485016  1169.445007  1151.432464  1161.425019  1161.425019   \n",
              "50%    1379.804993  1390.145019  1370.369995  1380.025024  1380.025024   \n",
              "75%    2059.962463  2070.492614  2045.802521  2059.942566  2059.942566   \n",
              "max    3564.739990  3588.110107  3535.229980  3580.840088  3580.840088   \n",
              "\n",
              "             Volume  \n",
              "count  5.232000e+03  \n",
              "mean   3.164975e+09  \n",
              "std    1.516307e+09  \n",
              "min    3.560700e+08  \n",
              "25%    1.732522e+09  \n",
              "50%    3.270445e+09  \n",
              "75%    3.990660e+09  \n",
              "max    1.145623e+10  "
            ],
            "text/html": [
              "\n",
              "  <div id=\"df-14b0dc5e-f68b-4442-9f03-93314bb3d92f\">\n",
              "    <div class=\"colab-df-container\">\n",
              "      <div>\n",
              "<style scoped>\n",
              "    .dataframe tbody tr th:only-of-type {\n",
              "        vertical-align: middle;\n",
              "    }\n",
              "\n",
              "    .dataframe tbody tr th {\n",
              "        vertical-align: top;\n",
              "    }\n",
              "\n",
              "    .dataframe thead th {\n",
              "        text-align: right;\n",
              "    }\n",
              "</style>\n",
              "<table border=\"1\" class=\"dataframe\">\n",
              "  <thead>\n",
              "    <tr style=\"text-align: right;\">\n",
              "      <th></th>\n",
              "      <th>Open</th>\n",
              "      <th>High</th>\n",
              "      <th>Low</th>\n",
              "      <th>Close</th>\n",
              "      <th>Adj Close</th>\n",
              "      <th>Volume</th>\n",
              "    </tr>\n",
              "  </thead>\n",
              "  <tbody>\n",
              "    <tr>\n",
              "      <th>count</th>\n",
              "      <td>5232.000000</td>\n",
              "      <td>5232.000000</td>\n",
              "      <td>5232.000000</td>\n",
              "      <td>5232.000000</td>\n",
              "      <td>5232.000000</td>\n",
              "      <td>5.232000e+03</td>\n",
              "    </tr>\n",
              "    <tr>\n",
              "      <th>mean</th>\n",
              "      <td>1634.346903</td>\n",
              "      <td>1643.870727</td>\n",
              "      <td>1623.976516</td>\n",
              "      <td>1634.527020</td>\n",
              "      <td>1634.527020</td>\n",
              "      <td>3.164975e+09</td>\n",
              "    </tr>\n",
              "    <tr>\n",
              "      <th>std</th>\n",
              "      <td>649.457995</td>\n",
              "      <td>651.384321</td>\n",
              "      <td>647.211263</td>\n",
              "      <td>649.548486</td>\n",
              "      <td>649.548486</td>\n",
              "      <td>1.516307e+09</td>\n",
              "    </tr>\n",
              "    <tr>\n",
              "      <th>min</th>\n",
              "      <td>679.280029</td>\n",
              "      <td>695.270020</td>\n",
              "      <td>666.789978</td>\n",
              "      <td>676.530029</td>\n",
              "      <td>676.530029</td>\n",
              "      <td>3.560700e+08</td>\n",
              "    </tr>\n",
              "    <tr>\n",
              "      <th>25%</th>\n",
              "      <td>1161.485016</td>\n",
              "      <td>1169.445007</td>\n",
              "      <td>1151.432464</td>\n",
              "      <td>1161.425019</td>\n",
              "      <td>1161.425019</td>\n",
              "      <td>1.732522e+09</td>\n",
              "    </tr>\n",
              "    <tr>\n",
              "      <th>50%</th>\n",
              "      <td>1379.804993</td>\n",
              "      <td>1390.145019</td>\n",
              "      <td>1370.369995</td>\n",
              "      <td>1380.025024</td>\n",
              "      <td>1380.025024</td>\n",
              "      <td>3.270445e+09</td>\n",
              "    </tr>\n",
              "    <tr>\n",
              "      <th>75%</th>\n",
              "      <td>2059.962463</td>\n",
              "      <td>2070.492614</td>\n",
              "      <td>2045.802521</td>\n",
              "      <td>2059.942566</td>\n",
              "      <td>2059.942566</td>\n",
              "      <td>3.990660e+09</td>\n",
              "    </tr>\n",
              "    <tr>\n",
              "      <th>max</th>\n",
              "      <td>3564.739990</td>\n",
              "      <td>3588.110107</td>\n",
              "      <td>3535.229980</td>\n",
              "      <td>3580.840088</td>\n",
              "      <td>3580.840088</td>\n",
              "      <td>1.145623e+10</td>\n",
              "    </tr>\n",
              "  </tbody>\n",
              "</table>\n",
              "</div>\n",
              "      <button class=\"colab-df-convert\" onclick=\"convertToInteractive('df-14b0dc5e-f68b-4442-9f03-93314bb3d92f')\"\n",
              "              title=\"Convert this dataframe to an interactive table.\"\n",
              "              style=\"display:none;\">\n",
              "        \n",
              "  <svg xmlns=\"http://www.w3.org/2000/svg\" height=\"24px\"viewBox=\"0 0 24 24\"\n",
              "       width=\"24px\">\n",
              "    <path d=\"M0 0h24v24H0V0z\" fill=\"none\"/>\n",
              "    <path d=\"M18.56 5.44l.94 2.06.94-2.06 2.06-.94-2.06-.94-.94-2.06-.94 2.06-2.06.94zm-11 1L8.5 8.5l.94-2.06 2.06-.94-2.06-.94L8.5 2.5l-.94 2.06-2.06.94zm10 10l.94 2.06.94-2.06 2.06-.94-2.06-.94-.94-2.06-.94 2.06-2.06.94z\"/><path d=\"M17.41 7.96l-1.37-1.37c-.4-.4-.92-.59-1.43-.59-.52 0-1.04.2-1.43.59L10.3 9.45l-7.72 7.72c-.78.78-.78 2.05 0 2.83L4 21.41c.39.39.9.59 1.41.59.51 0 1.02-.2 1.41-.59l7.78-7.78 2.81-2.81c.8-.78.8-2.07 0-2.86zM5.41 20L4 18.59l7.72-7.72 1.47 1.35L5.41 20z\"/>\n",
              "  </svg>\n",
              "      </button>\n",
              "      \n",
              "  <style>\n",
              "    .colab-df-container {\n",
              "      display:flex;\n",
              "      flex-wrap:wrap;\n",
              "      gap: 12px;\n",
              "    }\n",
              "\n",
              "    .colab-df-convert {\n",
              "      background-color: #E8F0FE;\n",
              "      border: none;\n",
              "      border-radius: 50%;\n",
              "      cursor: pointer;\n",
              "      display: none;\n",
              "      fill: #1967D2;\n",
              "      height: 32px;\n",
              "      padding: 0 0 0 0;\n",
              "      width: 32px;\n",
              "    }\n",
              "\n",
              "    .colab-df-convert:hover {\n",
              "      background-color: #E2EBFA;\n",
              "      box-shadow: 0px 1px 2px rgba(60, 64, 67, 0.3), 0px 1px 3px 1px rgba(60, 64, 67, 0.15);\n",
              "      fill: #174EA6;\n",
              "    }\n",
              "\n",
              "    [theme=dark] .colab-df-convert {\n",
              "      background-color: #3B4455;\n",
              "      fill: #D2E3FC;\n",
              "    }\n",
              "\n",
              "    [theme=dark] .colab-df-convert:hover {\n",
              "      background-color: #434B5C;\n",
              "      box-shadow: 0px 1px 3px 1px rgba(0, 0, 0, 0.15);\n",
              "      filter: drop-shadow(0px 1px 2px rgba(0, 0, 0, 0.3));\n",
              "      fill: #FFFFFF;\n",
              "    }\n",
              "  </style>\n",
              "\n",
              "      <script>\n",
              "        const buttonEl =\n",
              "          document.querySelector('#df-14b0dc5e-f68b-4442-9f03-93314bb3d92f button.colab-df-convert');\n",
              "        buttonEl.style.display =\n",
              "          google.colab.kernel.accessAllowed ? 'block' : 'none';\n",
              "\n",
              "        async function convertToInteractive(key) {\n",
              "          const element = document.querySelector('#df-14b0dc5e-f68b-4442-9f03-93314bb3d92f');\n",
              "          const dataTable =\n",
              "            await google.colab.kernel.invokeFunction('convertToInteractive',\n",
              "                                                     [key], {});\n",
              "          if (!dataTable) return;\n",
              "\n",
              "          const docLinkHtml = 'Like what you see? Visit the ' +\n",
              "            '<a target=\"_blank\" href=https://colab.research.google.com/notebooks/data_table.ipynb>data table notebook</a>'\n",
              "            + ' to learn more about interactive tables.';\n",
              "          element.innerHTML = '';\n",
              "          dataTable['output_type'] = 'display_data';\n",
              "          await google.colab.output.renderOutput(dataTable, element);\n",
              "          const docLink = document.createElement('div');\n",
              "          docLink.innerHTML = docLinkHtml;\n",
              "          element.appendChild(docLink);\n",
              "        }\n",
              "      </script>\n",
              "    </div>\n",
              "  </div>\n",
              "  "
            ]
          },
          "metadata": {},
          "execution_count": 9
        }
      ]
    },
    {
      "cell_type": "markdown",
      "metadata": {
        "id": "a_odpbRsr6sf"
      },
      "source": [
        "**Assign date coulmn to index column**"
      ]
    },
    {
      "cell_type": "code",
      "execution_count": null,
      "metadata": {
        "id": "YOzyd_SArZvb"
      },
      "outputs": [],
      "source": [
        "df.set_index(df['Date'], inplace=True)"
      ]
    },
    {
      "cell_type": "code",
      "execution_count": null,
      "metadata": {
        "colab": {
          "base_uri": "https://localhost:8080/",
          "height": 238
        },
        "id": "zxTi-VV2rx-d",
        "outputId": "61023061-7da7-46b4-b5d1-c9bf3df2fba7"
      },
      "outputs": [
        {
          "output_type": "execute_result",
          "data": {
            "text/plain": [
              "                 Date         Open         High          Low        Close  \\\n",
              "Date                                                                        \n",
              "2000-01-03 2000-01-03  1469.250000  1478.000000  1438.359985  1455.219971   \n",
              "2000-01-04 2000-01-04  1455.219971  1455.219971  1397.430054  1399.420044   \n",
              "2000-01-05 2000-01-05  1399.420044  1413.270020  1377.680054  1402.109985   \n",
              "2000-01-06 2000-01-06  1402.109985  1411.900024  1392.099976  1403.449951   \n",
              "2000-01-07 2000-01-07  1403.449951  1441.469971  1400.729980  1441.469971   \n",
              "\n",
              "              Adj Close      Volume  \n",
              "Date                                 \n",
              "2000-01-03  1455.219971   931800000  \n",
              "2000-01-04  1399.420044  1009000000  \n",
              "2000-01-05  1402.109985  1085500000  \n",
              "2000-01-06  1403.449951  1092300000  \n",
              "2000-01-07  1441.469971  1225200000  "
            ],
            "text/html": [
              "\n",
              "  <div id=\"df-3af04d22-deb9-40c1-9c09-2f7391c7f5ad\">\n",
              "    <div class=\"colab-df-container\">\n",
              "      <div>\n",
              "<style scoped>\n",
              "    .dataframe tbody tr th:only-of-type {\n",
              "        vertical-align: middle;\n",
              "    }\n",
              "\n",
              "    .dataframe tbody tr th {\n",
              "        vertical-align: top;\n",
              "    }\n",
              "\n",
              "    .dataframe thead th {\n",
              "        text-align: right;\n",
              "    }\n",
              "</style>\n",
              "<table border=\"1\" class=\"dataframe\">\n",
              "  <thead>\n",
              "    <tr style=\"text-align: right;\">\n",
              "      <th></th>\n",
              "      <th>Date</th>\n",
              "      <th>Open</th>\n",
              "      <th>High</th>\n",
              "      <th>Low</th>\n",
              "      <th>Close</th>\n",
              "      <th>Adj Close</th>\n",
              "      <th>Volume</th>\n",
              "    </tr>\n",
              "    <tr>\n",
              "      <th>Date</th>\n",
              "      <th></th>\n",
              "      <th></th>\n",
              "      <th></th>\n",
              "      <th></th>\n",
              "      <th></th>\n",
              "      <th></th>\n",
              "      <th></th>\n",
              "    </tr>\n",
              "  </thead>\n",
              "  <tbody>\n",
              "    <tr>\n",
              "      <th>2000-01-03</th>\n",
              "      <td>2000-01-03</td>\n",
              "      <td>1469.250000</td>\n",
              "      <td>1478.000000</td>\n",
              "      <td>1438.359985</td>\n",
              "      <td>1455.219971</td>\n",
              "      <td>1455.219971</td>\n",
              "      <td>931800000</td>\n",
              "    </tr>\n",
              "    <tr>\n",
              "      <th>2000-01-04</th>\n",
              "      <td>2000-01-04</td>\n",
              "      <td>1455.219971</td>\n",
              "      <td>1455.219971</td>\n",
              "      <td>1397.430054</td>\n",
              "      <td>1399.420044</td>\n",
              "      <td>1399.420044</td>\n",
              "      <td>1009000000</td>\n",
              "    </tr>\n",
              "    <tr>\n",
              "      <th>2000-01-05</th>\n",
              "      <td>2000-01-05</td>\n",
              "      <td>1399.420044</td>\n",
              "      <td>1413.270020</td>\n",
              "      <td>1377.680054</td>\n",
              "      <td>1402.109985</td>\n",
              "      <td>1402.109985</td>\n",
              "      <td>1085500000</td>\n",
              "    </tr>\n",
              "    <tr>\n",
              "      <th>2000-01-06</th>\n",
              "      <td>2000-01-06</td>\n",
              "      <td>1402.109985</td>\n",
              "      <td>1411.900024</td>\n",
              "      <td>1392.099976</td>\n",
              "      <td>1403.449951</td>\n",
              "      <td>1403.449951</td>\n",
              "      <td>1092300000</td>\n",
              "    </tr>\n",
              "    <tr>\n",
              "      <th>2000-01-07</th>\n",
              "      <td>2000-01-07</td>\n",
              "      <td>1403.449951</td>\n",
              "      <td>1441.469971</td>\n",
              "      <td>1400.729980</td>\n",
              "      <td>1441.469971</td>\n",
              "      <td>1441.469971</td>\n",
              "      <td>1225200000</td>\n",
              "    </tr>\n",
              "  </tbody>\n",
              "</table>\n",
              "</div>\n",
              "      <button class=\"colab-df-convert\" onclick=\"convertToInteractive('df-3af04d22-deb9-40c1-9c09-2f7391c7f5ad')\"\n",
              "              title=\"Convert this dataframe to an interactive table.\"\n",
              "              style=\"display:none;\">\n",
              "        \n",
              "  <svg xmlns=\"http://www.w3.org/2000/svg\" height=\"24px\"viewBox=\"0 0 24 24\"\n",
              "       width=\"24px\">\n",
              "    <path d=\"M0 0h24v24H0V0z\" fill=\"none\"/>\n",
              "    <path d=\"M18.56 5.44l.94 2.06.94-2.06 2.06-.94-2.06-.94-.94-2.06-.94 2.06-2.06.94zm-11 1L8.5 8.5l.94-2.06 2.06-.94-2.06-.94L8.5 2.5l-.94 2.06-2.06.94zm10 10l.94 2.06.94-2.06 2.06-.94-2.06-.94-.94-2.06-.94 2.06-2.06.94z\"/><path d=\"M17.41 7.96l-1.37-1.37c-.4-.4-.92-.59-1.43-.59-.52 0-1.04.2-1.43.59L10.3 9.45l-7.72 7.72c-.78.78-.78 2.05 0 2.83L4 21.41c.39.39.9.59 1.41.59.51 0 1.02-.2 1.41-.59l7.78-7.78 2.81-2.81c.8-.78.8-2.07 0-2.86zM5.41 20L4 18.59l7.72-7.72 1.47 1.35L5.41 20z\"/>\n",
              "  </svg>\n",
              "      </button>\n",
              "      \n",
              "  <style>\n",
              "    .colab-df-container {\n",
              "      display:flex;\n",
              "      flex-wrap:wrap;\n",
              "      gap: 12px;\n",
              "    }\n",
              "\n",
              "    .colab-df-convert {\n",
              "      background-color: #E8F0FE;\n",
              "      border: none;\n",
              "      border-radius: 50%;\n",
              "      cursor: pointer;\n",
              "      display: none;\n",
              "      fill: #1967D2;\n",
              "      height: 32px;\n",
              "      padding: 0 0 0 0;\n",
              "      width: 32px;\n",
              "    }\n",
              "\n",
              "    .colab-df-convert:hover {\n",
              "      background-color: #E2EBFA;\n",
              "      box-shadow: 0px 1px 2px rgba(60, 64, 67, 0.3), 0px 1px 3px 1px rgba(60, 64, 67, 0.15);\n",
              "      fill: #174EA6;\n",
              "    }\n",
              "\n",
              "    [theme=dark] .colab-df-convert {\n",
              "      background-color: #3B4455;\n",
              "      fill: #D2E3FC;\n",
              "    }\n",
              "\n",
              "    [theme=dark] .colab-df-convert:hover {\n",
              "      background-color: #434B5C;\n",
              "      box-shadow: 0px 1px 3px 1px rgba(0, 0, 0, 0.15);\n",
              "      filter: drop-shadow(0px 1px 2px rgba(0, 0, 0, 0.3));\n",
              "      fill: #FFFFFF;\n",
              "    }\n",
              "  </style>\n",
              "\n",
              "      <script>\n",
              "        const buttonEl =\n",
              "          document.querySelector('#df-3af04d22-deb9-40c1-9c09-2f7391c7f5ad button.colab-df-convert');\n",
              "        buttonEl.style.display =\n",
              "          google.colab.kernel.accessAllowed ? 'block' : 'none';\n",
              "\n",
              "        async function convertToInteractive(key) {\n",
              "          const element = document.querySelector('#df-3af04d22-deb9-40c1-9c09-2f7391c7f5ad');\n",
              "          const dataTable =\n",
              "            await google.colab.kernel.invokeFunction('convertToInteractive',\n",
              "                                                     [key], {});\n",
              "          if (!dataTable) return;\n",
              "\n",
              "          const docLinkHtml = 'Like what you see? Visit the ' +\n",
              "            '<a target=\"_blank\" href=https://colab.research.google.com/notebooks/data_table.ipynb>data table notebook</a>'\n",
              "            + ' to learn more about interactive tables.';\n",
              "          element.innerHTML = '';\n",
              "          dataTable['output_type'] = 'display_data';\n",
              "          await google.colab.output.renderOutput(dataTable, element);\n",
              "          const docLink = document.createElement('div');\n",
              "          docLink.innerHTML = docLinkHtml;\n",
              "          element.appendChild(docLink);\n",
              "        }\n",
              "      </script>\n",
              "    </div>\n",
              "  </div>\n",
              "  "
            ]
          },
          "metadata": {},
          "execution_count": 11
        }
      ],
      "source": [
        "df.head()"
      ]
    },
    {
      "cell_type": "markdown",
      "metadata": {
        "id": "1X2adYWhsv5j"
      },
      "source": [
        "**plotting graph for open and close values**"
      ]
    },
    {
      "cell_type": "code",
      "execution_count": null,
      "metadata": {
        "colab": {
          "base_uri": "https://localhost:8080/",
          "height": 383
        },
        "id": "pnJfPXrlsRIa",
        "outputId": "cb3f74c3-566c-4554-aaa0-927d9c212011"
      },
      "outputs": [
        {
          "output_type": "display_data",
          "data": {
            "text/plain": [
              "<Figure size 864x432 with 1 Axes>"
            ],
            "image/png": "[encoded data removed]"
          },
          "metadata": {
            "needs_background": "light"
          }
        }
      ],
      "source": [
        "df['Open'].plot(ylabel=\"Price\", label=\"Stock Price at Open\", figsize=(12, 6), color='g')\n",
        "#df['Close'].plot(label=\"Stock Price at Close\")\n",
        "plt.legend()\n",
        "plt.title(\"Stock price\")\n",
        "plt.show()"
      ]
    },
    {
      "cell_type": "code",
      "execution_count": null,
      "metadata": {
        "colab": {
          "base_uri": "https://localhost:8080/",
          "height": 383
        },
        "id": "bGfsNKhisl-b",
        "outputId": "42415dd6-4773-41ed-d3a4-dac217e5cc73"
      },
      "outputs": [
        {
          "output_type": "display_data",
          "data": {
            "text/plain": [
              "<Figure size 864x432 with 1 Axes>"
            ],
            "image/png": "[encoded data removed]"
          },
          "metadata": {
            "needs_background": "light"
          }
        }
      ],
      "source": [
        "plt.figure(figsize=(12, 6))\n",
        "df['Open'].plot(ylabel=\"Price\", label=\"Stock Price At Open\")\n",
        "df['Close'].plot(ylabel=\"Price\",label=\"Stock Price At Close\", color='r')\n",
        "df['High'].plot(ylabel=\"Price\",label=\"Stock Price On A High\")\n",
        "df['Low'].plot(ylabel=\"Price\",label=\"Stock Price On A Low\")\n",
        "plt.legend()\n",
        "plt.title(\"Stock price\")\n",
        "plt.show()"
      ]
    },
    {
      "cell_type": "code",
      "execution_count": null,
      "metadata": {
        "colab": {
          "base_uri": "https://localhost:8080/",
          "height": 383
        },
        "id": "VNWwB11hyPJg",
        "outputId": "c2ed3eca-4ec8-4f8f-8985-7e889b00318c"
      },
      "outputs": [
        {
          "output_type": "display_data",
          "data": {
            "text/plain": [
              "<Figure size 864x432 with 1 Axes>"
            ],
            "image/png": "[encoded data removed]"
          },
          "metadata": {
            "needs_background": "light"
          }
        }
      ],
      "source": [
        "#plot for volume data\n",
        "df['Volume'].plot(ylabel='Volume of stock', figsize=(12, 6))\n",
        "plt.title('Stock Volume')\n",
        "plt.show()"
      ]
    },
    {
      "cell_type": "code",
      "source": [
        "df1=pd.read_csv('MarketData.csv')\n",
        "df1['Volume'].plot(label=\" Volume of stock\", color='r')\n",
        "plt.xlim(5000, 5232)\n",
        "plt.ylabel('Volume')\n",
        "plt.legend()\n",
        "plt.title('Stock Volume')"
      ],
      "metadata": {
        "colab": {
          "base_uri": "https://localhost:8080/",
          "height": 298
        },
        "id": "eSSrgKrtsb3z",
        "outputId": "74884923-f266-4e23-d0f7-e731246b7944"
      },
      "execution_count": null,
      "outputs": [
        {
          "output_type": "execute_result",
          "data": {
            "text/plain": [
              "Text(0.5, 1.0, 'Stock Volume')"
            ]
          },
          "metadata": {},
          "execution_count": 15
        },
        {
          "output_type": "display_data",
          "data": {
            "text/plain": [
              "<Figure size 432x288 with 1 Axes>"
            ],
            "image/png": "[encoded data removed]"
          },
          "metadata": {
            "needs_background": "light"
          }
        }
      ]
    },
    {
      "cell_type": "markdown",
      "metadata": {
        "id": "OEgQA9uq2SUY"
      },
      "source": [
        "●\tExamine the daily volume data"
      ]
    },
    {
      "cell_type": "markdown",
      "metadata": {
        "id": "YBI_zS1-2XZ_"
      },
      "source": [
        "○\t*Identify the optimal number of clusters for daily volume data*"
      ]
    },
    {
      "cell_type": "code",
      "execution_count": null,
      "metadata": {
        "colab": {
          "base_uri": "https://localhost:8080/",
          "height": 536
        },
        "id": "M54T2_cdyuLr",
        "outputId": "39ab13d2-b653-4eb2-ed38-95e78f357524"
      },
      "outputs": [
        {
          "output_type": "display_data",
          "data": {
            "text/plain": [
              "<Figure size 864x432 with 0 Axes>"
            ]
          },
          "metadata": {}
        },
        {
          "output_type": "display_data",
          "data": {
            "text/plain": [
              "<Figure size 720x576 with 1 Axes>"
            ],
            "image/png": "[encoded data removed]"
          },
          "metadata": {
            "needs_background": "light"
          }
        }
      ],
      "source": [
        "#Identify the optimal number of clusters for daily volume data using elbow method\n",
        "from sklearn.cluster import KMeans\n",
        "plt.figure(figsize=(12,6))\n",
        "cs=[]\n",
        "for i in range(1, 10):\n",
        "  kmeans=KMeans(n_clusters=i, init='k-means++', max_iter=400, n_init=10, random_state=0)\n",
        "  kmeans.fit(df[['Close', 'Volume']])\n",
        "  cs.append(kmeans.inertia_)\n",
        "plt.figure(figsize=(10,8))\n",
        "plt.plot(range(1,10), cs)\n",
        "plt.title('The Elbow Method', size=14)\n",
        "plt.xlabel('Number of clusters', size=16)\n",
        "plt.ylabel('CS', size=16)\n",
        "plt.show()"
      ]
    },
    {
      "cell_type": "markdown",
      "metadata": {
        "id": "1d5O6Ju23p46"
      },
      "source": [
        "Observe sharp bend at 3 numbers of cluster in graph."
      ]
    },
    {
      "cell_type": "code",
      "source": [
        "#data points before clustering\n",
        "plt.figure(figsize=(12,6))\n",
        "plt.scatter(df['Close'], df['Volume'], label=\"Volume\", color='y')\n",
        "plt.xlabel(\"Close\", size=14)\n",
        "plt.ylabel(\"Volume\", size=14)\n",
        "plt.title(\"Close vs Volume\", size=16)\n",
        "plt.legend()\n",
        "plt.show()"
      ],
      "metadata": {
        "colab": {
          "base_uri": "https://localhost:8080/",
          "height": 410
        },
        "id": "S34G-pf0MXkT",
        "outputId": "0b41e11e-7c7e-42b2-f5bc-fd7054766068"
      },
      "execution_count": null,
      "outputs": [
        {
          "output_type": "display_data",
          "data": {
            "text/plain": [
              "<Figure size 864x432 with 1 Axes>"
            ],
            "image/png": "[encoded data removed]"
          },
          "metadata": {}
        }
      ]
    },
    {
      "cell_type": "markdown",
      "metadata": {
        "id": "WCVaqXfx4TPJ"
      },
      "source": [
        "*Visualize the cluster by plotting them with centroids.*"
      ]
    },
    {
      "cell_type": "markdown",
      "metadata": {
        "id": "S7stoNTv4uqM"
      },
      "source": [
        "**Preprocess the data**"
      ]
    },
    {
      "cell_type": "code",
      "execution_count": null,
      "metadata": {
        "colab": {
          "base_uri": "https://localhost:8080/"
        },
        "id": "FtScQLe42-EP",
        "outputId": "5e053d11-e656-44bb-bc98-6c62dec3b9f2"
      },
      "outputs": [
        {
          "output_type": "stream",
          "name": "stdout",
          "text": [
            "MinMaxScaler()\n"
          ]
        },
        {
          "output_type": "execute_result",
          "data": {
            "text/plain": [
              "array([[0.26811529, 0.05186682],\n",
              "       [0.24890249, 0.05882167],\n",
              "       [0.24982868, 0.06571347],\n",
              "       ...,\n",
              "       [0.96826435, 0.3139198 ],\n",
              "       [0.9664292 , 0.30283978],\n",
              "       [0.96659102, 0.38916736]])"
            ]
          },
          "metadata": {},
          "execution_count": 17
        }
      ],
      "source": [
        "#Preprocess the data\n",
        "from sklearn.preprocessing import MinMaxScaler\n",
        "data = df[['Close','Volume']]\n",
        "scaler = MinMaxScaler()\n",
        "print(scaler.fit(data))\n",
        "\n",
        "df_clus=scaler.transform(data)\n",
        "df_clus"
      ]
    },
    {
      "cell_type": "code",
      "execution_count": null,
      "metadata": {
        "colab": {
          "base_uri": "https://localhost:8080/"
        },
        "id": "n90Z_6Km40us",
        "outputId": "2a05548e-fd7c-42d8-bfb5-1144e46cb38c"
      },
      "outputs": [
        {
          "output_type": "execute_result",
          "data": {
            "text/plain": [
              "(5232, 2)"
            ]
          },
          "metadata": {},
          "execution_count": 18
        }
      ],
      "source": [
        "df_clus.shape"
      ]
    },
    {
      "cell_type": "code",
      "execution_count": null,
      "metadata": {
        "colab": {
          "base_uri": "https://localhost:8080/"
        },
        "id": "jybB7yaJ49HF",
        "outputId": "93d18b77-ae29-4b39-e20f-eb79ec4edf92"
      },
      "outputs": [
        {
          "output_type": "stream",
          "name": "stdout",
          "text": [
            "[0 0 0 ... 2 2 2]\n"
          ]
        }
      ],
      "source": [
        "#Import required module\n",
        "from sklearn.cluster import KMeans\n",
        " \n",
        "#Initialize the class object\n",
        "\n",
        "n_clusters=3 \n",
        "kmeans = KMeans(n_clusters)\n",
        " \n",
        "#predict the labels of clusters.\n",
        "label = kmeans.fit_predict(df_clus)\n",
        " \n",
        "print(label)"
      ]
    },
    {
      "cell_type": "code",
      "execution_count": null,
      "metadata": {
        "colab": {
          "base_uri": "https://localhost:8080/",
          "height": 282
        },
        "id": "q4TQrA835Hwu",
        "outputId": "7678785b-8d0e-4de9-dc41-1b9381c64892"
      },
      "outputs": [
        {
          "output_type": "stream",
          "name": "stdout",
          "text": [
            "[0 1 2]\n"
          ]
        },
        {
          "output_type": "display_data",
          "data": {
            "text/plain": [
              "<Figure size 432x288 with 1 Axes>"
            ],
            "image/png": "[encoded data removed]"
          },
          "metadata": {
            "needs_background": "light"
          }
        }
      ],
      "source": [
        "u_labels = np.unique(label)\n",
        "print(u_labels)\n",
        " \n",
        "#plotting the results:\n",
        " \n",
        "for i in u_labels:\n",
        "    plt.scatter(df_clus[label == i , 0] , df_clus[label == i , 1] , label = i)\n",
        "plt.legend()\n",
        "plt.show()"
      ]
    },
    {
      "cell_type": "code",
      "execution_count": null,
      "metadata": {
        "colab": {
          "base_uri": "https://localhost:8080/",
          "height": 426
        },
        "id": "er36fzfW5cR3",
        "outputId": "9068b398-95ce-428c-8bb9-75f7eac900b6"
      },
      "outputs": [
        {
          "output_type": "stream",
          "name": "stdout",
          "text": [
            "[[0.17845709 0.11270107]\n",
            " [0.22480462 0.36120876]\n",
            " [0.62968624 0.30316232]]\n"
          ]
        },
        {
          "output_type": "display_data",
          "data": {
            "text/plain": [
              "<Figure size 864x432 with 1 Axes>"
            ],
            "image/png": "[encoded data removed]"
          },
          "metadata": {
            "needs_background": "light"
          }
        }
      ],
      "source": [
        "centroids = kmeans.cluster_centers_\n",
        "u_labels = np.unique(label)\n",
        "print(centroids)\n",
        " \n",
        "#plotting the results:\n",
        "plt.figure(figsize=(12,6))\n",
        "for i in u_labels:\n",
        "    plt.scatter(df_clus[label == i , 0] , df_clus[label == i , 1] , label = i)\n",
        "plt.scatter(centroids[:,0] , centroids[:,1] , s = 40, color = 'k')\n",
        "plt.legend()\n",
        "plt.show()"
      ]
    },
    {
      "cell_type": "code",
      "execution_count": null,
      "metadata": {
        "colab": {
          "base_uri": "https://localhost:8080/"
        },
        "id": "DQxxGSP_672t",
        "outputId": "4a650a6e-ca1e-41bf-8838-b8b2e4c158b0"
      },
      "outputs": [
        {
          "output_type": "execute_result",
          "data": {
            "text/plain": [
              "0.49698753544715507"
            ]
          },
          "metadata": {},
          "execution_count": 22
        }
      ],
      "source": [
        "#calculate silhouette score and silhouette samples\n",
        "from sklearn.metrics import silhouette_score, silhouette_samples\n",
        "silhouette_avg= silhouette_score(df_clus, label)\n",
        "silhouette_avg"
      ]
    },
    {
      "cell_type": "code",
      "execution_count": null,
      "metadata": {
        "colab": {
          "base_uri": "https://localhost:8080/"
        },
        "id": "7HyQwJtn68_O",
        "outputId": "212a17e5-9107-48cc-8ca4-7c4958aa5551"
      },
      "outputs": [
        {
          "output_type": "execute_result",
          "data": {
            "text/plain": [
              "array([0.6198169 , 0.65807637, 0.65831893, ..., 0.53355064, 0.53525234,\n",
              "       0.51885946])"
            ]
          },
          "metadata": {},
          "execution_count": 23
        }
      ],
      "source": [
        "sample_silhouette_values=silhouette_samples(df_clus, label)\n",
        "sample_silhouette_values"
      ]
    },
    {
      "cell_type": "code",
      "execution_count": null,
      "metadata": {
        "colab": {
          "base_uri": "https://localhost:8080/",
          "height": 393
        },
        "id": "qM1TEZZN6shu",
        "outputId": "a9d497a8-0aa4-4e83-c8ab-c86986e0dd1a"
      },
      "outputs": [
        {
          "output_type": "display_data",
          "data": {
            "text/plain": [
              "<Figure size 576x396 with 1 Axes>"
            ],
            "image/png": "[encoded data removed]"
          },
          "metadata": {}
        },
        {
          "output_type": "execute_result",
          "data": {
            "text/plain": [
              "<matplotlib.axes._subplots.AxesSubplot at 0x7f36383f2f90>"
            ]
          },
          "metadata": {},
          "execution_count": 24
        }
      ],
      "source": [
        "#plotting the silhouette\n",
        "from yellowbrick.cluster import SilhouetteVisualizer\n",
        "viz=SilhouetteVisualizer(kmeans, color='yellowbrick')\n",
        "viz.fit(df_clus)\n",
        "viz.show()"
      ]
    },
    {
      "cell_type": "code",
      "source": [
        "print( \"for the\", n_clusters, \"clusters, the silhouette_score is\",silhouette_avg )"
      ],
      "metadata": {
        "colab": {
          "base_uri": "https://localhost:8080/"
        },
        "id": "b8Dp_Wd_a2z6",
        "outputId": "9cc6d03c-2bd3-4a76-b26d-9090a400a3e3"
      },
      "execution_count": null,
      "outputs": [
        {
          "output_type": "stream",
          "name": "stdout",
          "text": [
            "for the 3 clusters, the silhouette_score is 0.49698753544715507\n"
          ]
        }
      ]
    },
    {
      "cell_type": "markdown",
      "metadata": {
        "id": "jTJdfCvh69im"
      },
      "source": [
        "**●\tExamine the daily open, close, and volume data**"
      ]
    },
    {
      "cell_type": "markdown",
      "metadata": {
        "id": "un9UzlLH7RhC"
      },
      "source": [
        "○\tCompute the fractional difference between current day open and previous day open (Parameter 1)."
      ]
    },
    {
      "cell_type": "code",
      "execution_count": null,
      "metadata": {
        "colab": {
          "base_uri": "https://localhost:8080/",
          "height": 175
        },
        "id": "KO0FM8ii7Gmr",
        "outputId": "51488fa2-a4c0-4e30-8c8a-3a9854e82a75"
      },
      "outputs": [
        {
          "output_type": "execute_result",
          "data": {
            "text/plain": [
              "                 Date         Open         High          Low        Close  \\\n",
              "Date                                                                        \n",
              "2000-01-03 2000-01-03  1469.250000  1478.000000  1438.359985  1455.219971   \n",
              "2000-01-04 2000-01-04  1455.219971  1455.219971  1397.430054  1399.420044   \n",
              "2000-01-05 2000-01-05  1399.420044  1413.270020  1377.680054  1402.109985   \n",
              "\n",
              "              Adj Close      Volume  \n",
              "Date                                 \n",
              "2000-01-03  1455.219971   931800000  \n",
              "2000-01-04  1399.420044  1009000000  \n",
              "2000-01-05  1402.109985  1085500000  "
            ],
            "text/html": [
              "\n",
              "  <div id=\"df-9c909e12-f170-4dfb-9c98-0746c05d5c0f\">\n",
              "    <div class=\"colab-df-container\">\n",
              "      <div>\n",
              "<style scoped>\n",
              "    .dataframe tbody tr th:only-of-type {\n",
              "        vertical-align: middle;\n",
              "    }\n",
              "\n",
              "    .dataframe tbody tr th {\n",
              "        vertical-align: top;\n",
              "    }\n",
              "\n",
              "    .dataframe thead th {\n",
              "        text-align: right;\n",
              "    }\n",
              "</style>\n",
              "<table border=\"1\" class=\"dataframe\">\n",
              "  <thead>\n",
              "    <tr style=\"text-align: right;\">\n",
              "      <th></th>\n",
              "      <th>Date</th>\n",
              "      <th>Open</th>\n",
              "      <th>High</th>\n",
              "      <th>Low</th>\n",
              "      <th>Close</th>\n",
              "      <th>Adj Close</th>\n",
              "      <th>Volume</th>\n",
              "    </tr>\n",
              "    <tr>\n",
              "      <th>Date</th>\n",
              "      <th></th>\n",
              "      <th></th>\n",
              "      <th></th>\n",
              "      <th></th>\n",
              "      <th></th>\n",
              "      <th></th>\n",
              "      <th></th>\n",
              "    </tr>\n",
              "  </thead>\n",
              "  <tbody>\n",
              "    <tr>\n",
              "      <th>2000-01-03</th>\n",
              "      <td>2000-01-03</td>\n",
              "      <td>1469.250000</td>\n",
              "      <td>1478.000000</td>\n",
              "      <td>1438.359985</td>\n",
              "      <td>1455.219971</td>\n",
              "      <td>1455.219971</td>\n",
              "      <td>931800000</td>\n",
              "    </tr>\n",
              "    <tr>\n",
              "      <th>2000-01-04</th>\n",
              "      <td>2000-01-04</td>\n",
              "      <td>1455.219971</td>\n",
              "      <td>1455.219971</td>\n",
              "      <td>1397.430054</td>\n",
              "      <td>1399.420044</td>\n",
              "      <td>1399.420044</td>\n",
              "      <td>1009000000</td>\n",
              "    </tr>\n",
              "    <tr>\n",
              "      <th>2000-01-05</th>\n",
              "      <td>2000-01-05</td>\n",
              "      <td>1399.420044</td>\n",
              "      <td>1413.270020</td>\n",
              "      <td>1377.680054</td>\n",
              "      <td>1402.109985</td>\n",
              "      <td>1402.109985</td>\n",
              "      <td>1085500000</td>\n",
              "    </tr>\n",
              "  </tbody>\n",
              "</table>\n",
              "</div>\n",
              "      <button class=\"colab-df-convert\" onclick=\"convertToInteractive('df-9c909e12-f170-4dfb-9c98-0746c05d5c0f')\"\n",
              "              title=\"Convert this dataframe to an interactive table.\"\n",
              "              style=\"display:none;\">\n",
              "        \n",
              "  <svg xmlns=\"http://www.w3.org/2000/svg\" height=\"24px\"viewBox=\"0 0 24 24\"\n",
              "       width=\"24px\">\n",
              "    <path d=\"M0 0h24v24H0V0z\" fill=\"none\"/>\n",
              "    <path d=\"M18.56 5.44l.94 2.06.94-2.06 2.06-.94-2.06-.94-.94-2.06-.94 2.06-2.06.94zm-11 1L8.5 8.5l.94-2.06 2.06-.94-2.06-.94L8.5 2.5l-.94 2.06-2.06.94zm10 10l.94 2.06.94-2.06 2.06-.94-2.06-.94-.94-2.06-.94 2.06-2.06.94z\"/><path d=\"M17.41 7.96l-1.37-1.37c-.4-.4-.92-.59-1.43-.59-.52 0-1.04.2-1.43.59L10.3 9.45l-7.72 7.72c-.78.78-.78 2.05 0 2.83L4 21.41c.39.39.9.59 1.41.59.51 0 1.02-.2 1.41-.59l7.78-7.78 2.81-2.81c.8-.78.8-2.07 0-2.86zM5.41 20L4 18.59l7.72-7.72 1.47 1.35L5.41 20z\"/>\n",
              "  </svg>\n",
              "      </button>\n",
              "      \n",
              "  <style>\n",
              "    .colab-df-container {\n",
              "      display:flex;\n",
              "      flex-wrap:wrap;\n",
              "      gap: 12px;\n",
              "    }\n",
              "\n",
              "    .colab-df-convert {\n",
              "      background-color: #E8F0FE;\n",
              "      border: none;\n",
              "      border-radius: 50%;\n",
              "      cursor: pointer;\n",
              "      display: none;\n",
              "      fill: #1967D2;\n",
              "      height: 32px;\n",
              "      padding: 0 0 0 0;\n",
              "      width: 32px;\n",
              "    }\n",
              "\n",
              "    .colab-df-convert:hover {\n",
              "      background-color: #E2EBFA;\n",
              "      box-shadow: 0px 1px 2px rgba(60, 64, 67, 0.3), 0px 1px 3px 1px rgba(60, 64, 67, 0.15);\n",
              "      fill: #174EA6;\n",
              "    }\n",
              "\n",
              "    [theme=dark] .colab-df-convert {\n",
              "      background-color: #3B4455;\n",
              "      fill: #D2E3FC;\n",
              "    }\n",
              "\n",
              "    [theme=dark] .colab-df-convert:hover {\n",
              "      background-color: #434B5C;\n",
              "      box-shadow: 0px 1px 3px 1px rgba(0, 0, 0, 0.15);\n",
              "      filter: drop-shadow(0px 1px 2px rgba(0, 0, 0, 0.3));\n",
              "      fill: #FFFFFF;\n",
              "    }\n",
              "  </style>\n",
              "\n",
              "      <script>\n",
              "        const buttonEl =\n",
              "          document.querySelector('#df-9c909e12-f170-4dfb-9c98-0746c05d5c0f button.colab-df-convert');\n",
              "        buttonEl.style.display =\n",
              "          google.colab.kernel.accessAllowed ? 'block' : 'none';\n",
              "\n",
              "        async function convertToInteractive(key) {\n",
              "          const element = document.querySelector('#df-9c909e12-f170-4dfb-9c98-0746c05d5c0f');\n",
              "          const dataTable =\n",
              "            await google.colab.kernel.invokeFunction('convertToInteractive',\n",
              "                                                     [key], {});\n",
              "          if (!dataTable) return;\n",
              "\n",
              "          const docLinkHtml = 'Like what you see? Visit the ' +\n",
              "            '<a target=\"_blank\" href=https://colab.research.google.com/notebooks/data_table.ipynb>data table notebook</a>'\n",
              "            + ' to learn more about interactive tables.';\n",
              "          element.innerHTML = '';\n",
              "          dataTable['output_type'] = 'display_data';\n",
              "          await google.colab.output.renderOutput(dataTable, element);\n",
              "          const docLink = document.createElement('div');\n",
              "          docLink.innerHTML = docLinkHtml;\n",
              "          element.appendChild(docLink);\n",
              "        }\n",
              "      </script>\n",
              "    </div>\n",
              "  </div>\n",
              "  "
            ]
          },
          "metadata": {},
          "execution_count": 26
        }
      ],
      "source": [
        "#Visualize the first three row of the dataset\n",
        "df.head(3)"
      ]
    },
    {
      "cell_type": "code",
      "execution_count": null,
      "metadata": {
        "id": "HwKSLOHb7DTz"
      },
      "outputs": [],
      "source": [
        "#fractional difference between current day open and previous day open \n",
        "df['Parameter1']=df['Open'].pct_change(1)"
      ]
    },
    {
      "cell_type": "code",
      "execution_count": null,
      "metadata": {
        "colab": {
          "base_uri": "https://localhost:8080/",
          "height": 175
        },
        "id": "_z8ISLef7l4_",
        "outputId": "0670e101-a091-4244-c4fa-95ed8c4d2f6f"
      },
      "outputs": [
        {
          "output_type": "execute_result",
          "data": {
            "text/plain": [
              "                 Date         Open         High          Low        Close  \\\n",
              "Date                                                                        \n",
              "2000-01-03 2000-01-03  1469.250000  1478.000000  1438.359985  1455.219971   \n",
              "2000-01-04 2000-01-04  1455.219971  1455.219971  1397.430054  1399.420044   \n",
              "2000-01-05 2000-01-05  1399.420044  1413.270020  1377.680054  1402.109985   \n",
              "\n",
              "              Adj Close      Volume  Parameter1  \n",
              "Date                                             \n",
              "2000-01-03  1455.219971   931800000         NaN  \n",
              "2000-01-04  1399.420044  1009000000   -0.009549  \n",
              "2000-01-05  1402.109985  1085500000   -0.038345  "
            ],
            "text/html": [
              "\n",
              "  <div id=\"df-22742614-edc8-42cd-87d4-fad9b170c0ec\">\n",
              "    <div class=\"colab-df-container\">\n",
              "      <div>\n",
              "<style scoped>\n",
              "    .dataframe tbody tr th:only-of-type {\n",
              "        vertical-align: middle;\n",
              "    }\n",
              "\n",
              "    .dataframe tbody tr th {\n",
              "        vertical-align: top;\n",
              "    }\n",
              "\n",
              "    .dataframe thead th {\n",
              "        text-align: right;\n",
              "    }\n",
              "</style>\n",
              "<table border=\"1\" class=\"dataframe\">\n",
              "  <thead>\n",
              "    <tr style=\"text-align: right;\">\n",
              "      <th></th>\n",
              "      <th>Date</th>\n",
              "      <th>Open</th>\n",
              "      <th>High</th>\n",
              "      <th>Low</th>\n",
              "      <th>Close</th>\n",
              "      <th>Adj Close</th>\n",
              "      <th>Volume</th>\n",
              "      <th>Parameter1</th>\n",
              "    </tr>\n",
              "    <tr>\n",
              "      <th>Date</th>\n",
              "      <th></th>\n",
              "      <th></th>\n",
              "      <th></th>\n",
              "      <th></th>\n",
              "      <th></th>\n",
              "      <th></th>\n",
              "      <th></th>\n",
              "      <th></th>\n",
              "    </tr>\n",
              "  </thead>\n",
              "  <tbody>\n",
              "    <tr>\n",
              "      <th>2000-01-03</th>\n",
              "      <td>2000-01-03</td>\n",
              "      <td>1469.250000</td>\n",
              "      <td>1478.000000</td>\n",
              "      <td>1438.359985</td>\n",
              "      <td>1455.219971</td>\n",
              "      <td>1455.219971</td>\n",
              "      <td>931800000</td>\n",
              "      <td>NaN</td>\n",
              "    </tr>\n",
              "    <tr>\n",
              "      <th>2000-01-04</th>\n",
              "      <td>2000-01-04</td>\n",
              "      <td>1455.219971</td>\n",
              "      <td>1455.219971</td>\n",
              "      <td>1397.430054</td>\n",
              "      <td>1399.420044</td>\n",
              "      <td>1399.420044</td>\n",
              "      <td>1009000000</td>\n",
              "      <td>-0.009549</td>\n",
              "    </tr>\n",
              "    <tr>\n",
              "      <th>2000-01-05</th>\n",
              "      <td>2000-01-05</td>\n",
              "      <td>1399.420044</td>\n",
              "      <td>1413.270020</td>\n",
              "      <td>1377.680054</td>\n",
              "      <td>1402.109985</td>\n",
              "      <td>1402.109985</td>\n",
              "      <td>1085500000</td>\n",
              "      <td>-0.038345</td>\n",
              "    </tr>\n",
              "  </tbody>\n",
              "</table>\n",
              "</div>\n",
              "      <button class=\"colab-df-convert\" onclick=\"convertToInteractive('df-22742614-edc8-42cd-87d4-fad9b170c0ec')\"\n",
              "              title=\"Convert this dataframe to an interactive table.\"\n",
              "              style=\"display:none;\">\n",
              "        \n",
              "  <svg xmlns=\"http://www.w3.org/2000/svg\" height=\"24px\"viewBox=\"0 0 24 24\"\n",
              "       width=\"24px\">\n",
              "    <path d=\"M0 0h24v24H0V0z\" fill=\"none\"/>\n",
              "    <path d=\"M18.56 5.44l.94 2.06.94-2.06 2.06-.94-2.06-.94-.94-2.06-.94 2.06-2.06.94zm-11 1L8.5 8.5l.94-2.06 2.06-.94-2.06-.94L8.5 2.5l-.94 2.06-2.06.94zm10 10l.94 2.06.94-2.06 2.06-.94-2.06-.94-.94-2.06-.94 2.06-2.06.94z\"/><path d=\"M17.41 7.96l-1.37-1.37c-.4-.4-.92-.59-1.43-.59-.52 0-1.04.2-1.43.59L10.3 9.45l-7.72 7.72c-.78.78-.78 2.05 0 2.83L4 21.41c.39.39.9.59 1.41.59.51 0 1.02-.2 1.41-.59l7.78-7.78 2.81-2.81c.8-.78.8-2.07 0-2.86zM5.41 20L4 18.59l7.72-7.72 1.47 1.35L5.41 20z\"/>\n",
              "  </svg>\n",
              "      </button>\n",
              "      \n",
              "  <style>\n",
              "    .colab-df-container {\n",
              "      display:flex;\n",
              "      flex-wrap:wrap;\n",
              "      gap: 12px;\n",
              "    }\n",
              "\n",
              "    .colab-df-convert {\n",
              "      background-color: #E8F0FE;\n",
              "      border: none;\n",
              "      border-radius: 50%;\n",
              "      cursor: pointer;\n",
              "      display: none;\n",
              "      fill: #1967D2;\n",
              "      height: 32px;\n",
              "      padding: 0 0 0 0;\n",
              "      width: 32px;\n",
              "    }\n",
              "\n",
              "    .colab-df-convert:hover {\n",
              "      background-color: #E2EBFA;\n",
              "      box-shadow: 0px 1px 2px rgba(60, 64, 67, 0.3), 0px 1px 3px 1px rgba(60, 64, 67, 0.15);\n",
              "      fill: #174EA6;\n",
              "    }\n",
              "\n",
              "    [theme=dark] .colab-df-convert {\n",
              "      background-color: #3B4455;\n",
              "      fill: #D2E3FC;\n",
              "    }\n",
              "\n",
              "    [theme=dark] .colab-df-convert:hover {\n",
              "      background-color: #434B5C;\n",
              "      box-shadow: 0px 1px 3px 1px rgba(0, 0, 0, 0.15);\n",
              "      filter: drop-shadow(0px 1px 2px rgba(0, 0, 0, 0.3));\n",
              "      fill: #FFFFFF;\n",
              "    }\n",
              "  </style>\n",
              "\n",
              "      <script>\n",
              "        const buttonEl =\n",
              "          document.querySelector('#df-22742614-edc8-42cd-87d4-fad9b170c0ec button.colab-df-convert');\n",
              "        buttonEl.style.display =\n",
              "          google.colab.kernel.accessAllowed ? 'block' : 'none';\n",
              "\n",
              "        async function convertToInteractive(key) {\n",
              "          const element = document.querySelector('#df-22742614-edc8-42cd-87d4-fad9b170c0ec');\n",
              "          const dataTable =\n",
              "            await google.colab.kernel.invokeFunction('convertToInteractive',\n",
              "                                                     [key], {});\n",
              "          if (!dataTable) return;\n",
              "\n",
              "          const docLinkHtml = 'Like what you see? Visit the ' +\n",
              "            '<a target=\"_blank\" href=https://colab.research.google.com/notebooks/data_table.ipynb>data table notebook</a>'\n",
              "            + ' to learn more about interactive tables.';\n",
              "          element.innerHTML = '';\n",
              "          dataTable['output_type'] = 'display_data';\n",
              "          await google.colab.output.renderOutput(dataTable, element);\n",
              "          const docLink = document.createElement('div');\n",
              "          docLink.innerHTML = docLinkHtml;\n",
              "          element.appendChild(docLink);\n",
              "        }\n",
              "      </script>\n",
              "    </div>\n",
              "  </div>\n",
              "  "
            ]
          },
          "metadata": {},
          "execution_count": 28
        }
      ],
      "source": [
        "#Visualize the first three row of the dataset\n",
        "df.head(3)"
      ]
    },
    {
      "cell_type": "code",
      "execution_count": null,
      "metadata": {
        "id": "MXILXAIU7sK5"
      },
      "outputs": [],
      "source": [
        ""
      ]
    },
    {
      "cell_type": "code",
      "execution_count": null,
      "metadata": {
        "id": "A15Ti1dZ83cd"
      },
      "outputs": [],
      "source": [
        ""
      ]
    },
    {
      "cell_type": "markdown",
      "metadata": {
        "id": "z2JkWlPxkjyp"
      },
      "source": [
        "○\tCompute the fractional difference between current day open and current day close (Parameter 2)"
      ]
    },
    {
      "cell_type": "code",
      "execution_count": null,
      "metadata": {
        "colab": {
          "base_uri": "https://localhost:8080/",
          "height": 175
        },
        "id": "I4Cp_KYCkngR",
        "outputId": "fcf942ae-c0a4-4897-85ef-0701dc57492c"
      },
      "outputs": [
        {
          "output_type": "execute_result",
          "data": {
            "text/plain": [
              "                 Date         Open         High          Low        Close  \\\n",
              "Date                                                                        \n",
              "2000-01-03 2000-01-03  1469.250000  1478.000000  1438.359985  1455.219971   \n",
              "2000-01-04 2000-01-04  1455.219971  1455.219971  1397.430054  1399.420044   \n",
              "2000-01-05 2000-01-05  1399.420044  1413.270020  1377.680054  1402.109985   \n",
              "\n",
              "              Adj Close      Volume  Parameter1  \n",
              "Date                                             \n",
              "2000-01-03  1455.219971   931800000         NaN  \n",
              "2000-01-04  1399.420044  1009000000   -0.009549  \n",
              "2000-01-05  1402.109985  1085500000   -0.038345  "
            ],
            "text/html": [
              "\n",
              "  <div id=\"df-830aa7e6-e3c3-4d1d-98d4-8db7efa05230\">\n",
              "    <div class=\"colab-df-container\">\n",
              "      <div>\n",
              "<style scoped>\n",
              "    .dataframe tbody tr th:only-of-type {\n",
              "        vertical-align: middle;\n",
              "    }\n",
              "\n",
              "    .dataframe tbody tr th {\n",
              "        vertical-align: top;\n",
              "    }\n",
              "\n",
              "    .dataframe thead th {\n",
              "        text-align: right;\n",
              "    }\n",
              "</style>\n",
              "<table border=\"1\" class=\"dataframe\">\n",
              "  <thead>\n",
              "    <tr style=\"text-align: right;\">\n",
              "      <th></th>\n",
              "      <th>Date</th>\n",
              "      <th>Open</th>\n",
              "      <th>High</th>\n",
              "      <th>Low</th>\n",
              "      <th>Close</th>\n",
              "      <th>Adj Close</th>\n",
              "      <th>Volume</th>\n",
              "      <th>Parameter1</th>\n",
              "    </tr>\n",
              "    <tr>\n",
              "      <th>Date</th>\n",
              "      <th></th>\n",
              "      <th></th>\n",
              "      <th></th>\n",
              "      <th></th>\n",
              "      <th></th>\n",
              "      <th></th>\n",
              "      <th></th>\n",
              "      <th></th>\n",
              "    </tr>\n",
              "  </thead>\n",
              "  <tbody>\n",
              "    <tr>\n",
              "      <th>2000-01-03</th>\n",
              "      <td>2000-01-03</td>\n",
              "      <td>1469.250000</td>\n",
              "      <td>1478.000000</td>\n",
              "      <td>1438.359985</td>\n",
              "      <td>1455.219971</td>\n",
              "      <td>1455.219971</td>\n",
              "      <td>931800000</td>\n",
              "      <td>NaN</td>\n",
              "    </tr>\n",
              "    <tr>\n",
              "      <th>2000-01-04</th>\n",
              "      <td>2000-01-04</td>\n",
              "      <td>1455.219971</td>\n",
              "      <td>1455.219971</td>\n",
              "      <td>1397.430054</td>\n",
              "      <td>1399.420044</td>\n",
              "      <td>1399.420044</td>\n",
              "      <td>1009000000</td>\n",
              "      <td>-0.009549</td>\n",
              "    </tr>\n",
              "    <tr>\n",
              "      <th>2000-01-05</th>\n",
              "      <td>2000-01-05</td>\n",
              "      <td>1399.420044</td>\n",
              "      <td>1413.270020</td>\n",
              "      <td>1377.680054</td>\n",
              "      <td>1402.109985</td>\n",
              "      <td>1402.109985</td>\n",
              "      <td>1085500000</td>\n",
              "      <td>-0.038345</td>\n",
              "    </tr>\n",
              "  </tbody>\n",
              "</table>\n",
              "</div>\n",
              "      <button class=\"colab-df-convert\" onclick=\"convertToInteractive('df-830aa7e6-e3c3-4d1d-98d4-8db7efa05230')\"\n",
              "              title=\"Convert this dataframe to an interactive table.\"\n",
              "              style=\"display:none;\">\n",
              "        \n",
              "  <svg xmlns=\"http://www.w3.org/2000/svg\" height=\"24px\"viewBox=\"0 0 24 24\"\n",
              "       width=\"24px\">\n",
              "    <path d=\"M0 0h24v24H0V0z\" fill=\"none\"/>\n",
              "    <path d=\"M18.56 5.44l.94 2.06.94-2.06 2.06-.94-2.06-.94-.94-2.06-.94 2.06-2.06.94zm-11 1L8.5 8.5l.94-2.06 2.06-.94-2.06-.94L8.5 2.5l-.94 2.06-2.06.94zm10 10l.94 2.06.94-2.06 2.06-.94-2.06-.94-.94-2.06-.94 2.06-2.06.94z\"/><path d=\"M17.41 7.96l-1.37-1.37c-.4-.4-.92-.59-1.43-.59-.52 0-1.04.2-1.43.59L10.3 9.45l-7.72 7.72c-.78.78-.78 2.05 0 2.83L4 21.41c.39.39.9.59 1.41.59.51 0 1.02-.2 1.41-.59l7.78-7.78 2.81-2.81c.8-.78.8-2.07 0-2.86zM5.41 20L4 18.59l7.72-7.72 1.47 1.35L5.41 20z\"/>\n",
              "  </svg>\n",
              "      </button>\n",
              "      \n",
              "  <style>\n",
              "    .colab-df-container {\n",
              "      display:flex;\n",
              "      flex-wrap:wrap;\n",
              "      gap: 12px;\n",
              "    }\n",
              "\n",
              "    .colab-df-convert {\n",
              "      background-color: #E8F0FE;\n",
              "      border: none;\n",
              "      border-radius: 50%;\n",
              "      cursor: pointer;\n",
              "      display: none;\n",
              "      fill: #1967D2;\n",
              "      height: 32px;\n",
              "      padding: 0 0 0 0;\n",
              "      width: 32px;\n",
              "    }\n",
              "\n",
              "    .colab-df-convert:hover {\n",
              "      background-color: #E2EBFA;\n",
              "      box-shadow: 0px 1px 2px rgba(60, 64, 67, 0.3), 0px 1px 3px 1px rgba(60, 64, 67, 0.15);\n",
              "      fill: #174EA6;\n",
              "    }\n",
              "\n",
              "    [theme=dark] .colab-df-convert {\n",
              "      background-color: #3B4455;\n",
              "      fill: #D2E3FC;\n",
              "    }\n",
              "\n",
              "    [theme=dark] .colab-df-convert:hover {\n",
              "      background-color: #434B5C;\n",
              "      box-shadow: 0px 1px 3px 1px rgba(0, 0, 0, 0.15);\n",
              "      filter: drop-shadow(0px 1px 2px rgba(0, 0, 0, 0.3));\n",
              "      fill: #FFFFFF;\n",
              "    }\n",
              "  </style>\n",
              "\n",
              "      <script>\n",
              "        const buttonEl =\n",
              "          document.querySelector('#df-830aa7e6-e3c3-4d1d-98d4-8db7efa05230 button.colab-df-convert');\n",
              "        buttonEl.style.display =\n",
              "          google.colab.kernel.accessAllowed ? 'block' : 'none';\n",
              "\n",
              "        async function convertToInteractive(key) {\n",
              "          const element = document.querySelector('#df-830aa7e6-e3c3-4d1d-98d4-8db7efa05230');\n",
              "          const dataTable =\n",
              "            await google.colab.kernel.invokeFunction('convertToInteractive',\n",
              "                                                     [key], {});\n",
              "          if (!dataTable) return;\n",
              "\n",
              "          const docLinkHtml = 'Like what you see? Visit the ' +\n",
              "            '<a target=\"_blank\" href=https://colab.research.google.com/notebooks/data_table.ipynb>data table notebook</a>'\n",
              "            + ' to learn more about interactive tables.';\n",
              "          element.innerHTML = '';\n",
              "          dataTable['output_type'] = 'display_data';\n",
              "          await google.colab.output.renderOutput(dataTable, element);\n",
              "          const docLink = document.createElement('div');\n",
              "          docLink.innerHTML = docLinkHtml;\n",
              "          element.appendChild(docLink);\n",
              "        }\n",
              "      </script>\n",
              "    </div>\n",
              "  </div>\n",
              "  "
            ]
          },
          "metadata": {},
          "execution_count": 29
        }
      ],
      "source": [
        "#Visualize the first three row of the dataset\n",
        "df.head(3)"
      ]
    },
    {
      "cell_type": "code",
      "execution_count": null,
      "metadata": {
        "colab": {
          "base_uri": "https://localhost:8080/",
          "height": 219
        },
        "id": "1e1MABUhkp7F",
        "outputId": "181cbe03-cdab-4ede-87c5-8236cdd0a11d"
      },
      "outputs": [
        {
          "output_type": "execute_result",
          "data": {
            "text/plain": [
              "                 Date         Open         High          Low        Close  \\\n",
              "Date                                                                        \n",
              "2000-01-03 2000-01-03  1469.250000  1478.000000  1438.359985  1455.219971   \n",
              "2000-01-04 2000-01-04  1455.219971  1455.219971  1397.430054  1399.420044   \n",
              "2000-01-05 2000-01-05  1399.420044  1413.270020  1377.680054  1402.109985   \n",
              "\n",
              "              Adj Close      Volume  Parameter1  Parameter2  \n",
              "Date                                                         \n",
              "2000-01-03  1455.219971   931800000         NaN    0.009641  \n",
              "2000-01-04  1399.420044  1009000000   -0.009549    0.039874  \n",
              "2000-01-05  1402.109985  1085500000   -0.038345   -0.001918  "
            ],
            "text/html": [
              "\n",
              "  <div id=\"df-5c92c7ae-12bb-45dd-a466-efb64f4dfb23\">\n",
              "    <div class=\"colab-df-container\">\n",
              "      <div>\n",
              "<style scoped>\n",
              "    .dataframe tbody tr th:only-of-type {\n",
              "        vertical-align: middle;\n",
              "    }\n",
              "\n",
              "    .dataframe tbody tr th {\n",
              "        vertical-align: top;\n",
              "    }\n",
              "\n",
              "    .dataframe thead th {\n",
              "        text-align: right;\n",
              "    }\n",
              "</style>\n",
              "<table border=\"1\" class=\"dataframe\">\n",
              "  <thead>\n",
              "    <tr style=\"text-align: right;\">\n",
              "      <th></th>\n",
              "      <th>Date</th>\n",
              "      <th>Open</th>\n",
              "      <th>High</th>\n",
              "      <th>Low</th>\n",
              "      <th>Close</th>\n",
              "      <th>Adj Close</th>\n",
              "      <th>Volume</th>\n",
              "      <th>Parameter1</th>\n",
              "      <th>Parameter2</th>\n",
              "    </tr>\n",
              "    <tr>\n",
              "      <th>Date</th>\n",
              "      <th></th>\n",
              "      <th></th>\n",
              "      <th></th>\n",
              "      <th></th>\n",
              "      <th></th>\n",
              "      <th></th>\n",
              "      <th></th>\n",
              "      <th></th>\n",
              "      <th></th>\n",
              "    </tr>\n",
              "  </thead>\n",
              "  <tbody>\n",
              "    <tr>\n",
              "      <th>2000-01-03</th>\n",
              "      <td>2000-01-03</td>\n",
              "      <td>1469.250000</td>\n",
              "      <td>1478.000000</td>\n",
              "      <td>1438.359985</td>\n",
              "      <td>1455.219971</td>\n",
              "      <td>1455.219971</td>\n",
              "      <td>931800000</td>\n",
              "      <td>NaN</td>\n",
              "      <td>0.009641</td>\n",
              "    </tr>\n",
              "    <tr>\n",
              "      <th>2000-01-04</th>\n",
              "      <td>2000-01-04</td>\n",
              "      <td>1455.219971</td>\n",
              "      <td>1455.219971</td>\n",
              "      <td>1397.430054</td>\n",
              "      <td>1399.420044</td>\n",
              "      <td>1399.420044</td>\n",
              "      <td>1009000000</td>\n",
              "      <td>-0.009549</td>\n",
              "      <td>0.039874</td>\n",
              "    </tr>\n",
              "    <tr>\n",
              "      <th>2000-01-05</th>\n",
              "      <td>2000-01-05</td>\n",
              "      <td>1399.420044</td>\n",
              "      <td>1413.270020</td>\n",
              "      <td>1377.680054</td>\n",
              "      <td>1402.109985</td>\n",
              "      <td>1402.109985</td>\n",
              "      <td>1085500000</td>\n",
              "      <td>-0.038345</td>\n",
              "      <td>-0.001918</td>\n",
              "    </tr>\n",
              "  </tbody>\n",
              "</table>\n",
              "</div>\n",
              "      <button class=\"colab-df-convert\" onclick=\"convertToInteractive('df-5c92c7ae-12bb-45dd-a466-efb64f4dfb23')\"\n",
              "              title=\"Convert this dataframe to an interactive table.\"\n",
              "              style=\"display:none;\">\n",
              "        \n",
              "  <svg xmlns=\"http://www.w3.org/2000/svg\" height=\"24px\"viewBox=\"0 0 24 24\"\n",
              "       width=\"24px\">\n",
              "    <path d=\"M0 0h24v24H0V0z\" fill=\"none\"/>\n",
              "    <path d=\"M18.56 5.44l.94 2.06.94-2.06 2.06-.94-2.06-.94-.94-2.06-.94 2.06-2.06.94zm-11 1L8.5 8.5l.94-2.06 2.06-.94-2.06-.94L8.5 2.5l-.94 2.06-2.06.94zm10 10l.94 2.06.94-2.06 2.06-.94-2.06-.94-.94-2.06-.94 2.06-2.06.94z\"/><path d=\"M17.41 7.96l-1.37-1.37c-.4-.4-.92-.59-1.43-.59-.52 0-1.04.2-1.43.59L10.3 9.45l-7.72 7.72c-.78.78-.78 2.05 0 2.83L4 21.41c.39.39.9.59 1.41.59.51 0 1.02-.2 1.41-.59l7.78-7.78 2.81-2.81c.8-.78.8-2.07 0-2.86zM5.41 20L4 18.59l7.72-7.72 1.47 1.35L5.41 20z\"/>\n",
              "  </svg>\n",
              "      </button>\n",
              "      \n",
              "  <style>\n",
              "    .colab-df-container {\n",
              "      display:flex;\n",
              "      flex-wrap:wrap;\n",
              "      gap: 12px;\n",
              "    }\n",
              "\n",
              "    .colab-df-convert {\n",
              "      background-color: #E8F0FE;\n",
              "      border: none;\n",
              "      border-radius: 50%;\n",
              "      cursor: pointer;\n",
              "      display: none;\n",
              "      fill: #1967D2;\n",
              "      height: 32px;\n",
              "      padding: 0 0 0 0;\n",
              "      width: 32px;\n",
              "    }\n",
              "\n",
              "    .colab-df-convert:hover {\n",
              "      background-color: #E2EBFA;\n",
              "      box-shadow: 0px 1px 2px rgba(60, 64, 67, 0.3), 0px 1px 3px 1px rgba(60, 64, 67, 0.15);\n",
              "      fill: #174EA6;\n",
              "    }\n",
              "\n",
              "    [theme=dark] .colab-df-convert {\n",
              "      background-color: #3B4455;\n",
              "      fill: #D2E3FC;\n",
              "    }\n",
              "\n",
              "    [theme=dark] .colab-df-convert:hover {\n",
              "      background-color: #434B5C;\n",
              "      box-shadow: 0px 1px 3px 1px rgba(0, 0, 0, 0.15);\n",
              "      filter: drop-shadow(0px 1px 2px rgba(0, 0, 0, 0.3));\n",
              "      fill: #FFFFFF;\n",
              "    }\n",
              "  </style>\n",
              "\n",
              "      <script>\n",
              "        const buttonEl =\n",
              "          document.querySelector('#df-5c92c7ae-12bb-45dd-a466-efb64f4dfb23 button.colab-df-convert');\n",
              "        buttonEl.style.display =\n",
              "          google.colab.kernel.accessAllowed ? 'block' : 'none';\n",
              "\n",
              "        async function convertToInteractive(key) {\n",
              "          const element = document.querySelector('#df-5c92c7ae-12bb-45dd-a466-efb64f4dfb23');\n",
              "          const dataTable =\n",
              "            await google.colab.kernel.invokeFunction('convertToInteractive',\n",
              "                                                     [key], {});\n",
              "          if (!dataTable) return;\n",
              "\n",
              "          const docLinkHtml = 'Like what you see? Visit the ' +\n",
              "            '<a target=\"_blank\" href=https://colab.research.google.com/notebooks/data_table.ipynb>data table notebook</a>'\n",
              "            + ' to learn more about interactive tables.';\n",
              "          element.innerHTML = '';\n",
              "          dataTable['output_type'] = 'display_data';\n",
              "          await google.colab.output.renderOutput(dataTable, element);\n",
              "          const docLink = document.createElement('div');\n",
              "          docLink.innerHTML = docLinkHtml;\n",
              "          element.appendChild(docLink);\n",
              "        }\n",
              "      </script>\n",
              "    </div>\n",
              "  </div>\n",
              "  "
            ]
          },
          "metadata": {},
          "execution_count": 30
        }
      ],
      "source": [
        "#fractional difference between current day open and current day close\n",
        "df['Parameter2']=(df['Open']/df['Close'])-1\n",
        "df.head(3)"
      ]
    },
    {
      "cell_type": "code",
      "execution_count": null,
      "metadata": {
        "id": "y81ak2rslEwg"
      },
      "outputs": [],
      "source": [
        ""
      ]
    },
    {
      "cell_type": "code",
      "execution_count": null,
      "metadata": {
        "id": "a9Vu1sOClEbn"
      },
      "outputs": [],
      "source": [
        ""
      ]
    },
    {
      "cell_type": "markdown",
      "metadata": {
        "id": "A2_qcyOEk__E"
      },
      "source": [
        "○\tCompute the fractional difference between current day volume and previous day volume (Parameter 3)"
      ]
    },
    {
      "cell_type": "code",
      "execution_count": null,
      "metadata": {
        "colab": {
          "base_uri": "https://localhost:8080/",
          "height": 368
        },
        "id": "ZcwWzxLSk50C",
        "outputId": "d3910784-c846-428a-88ca-162eb907a236"
      },
      "outputs": [
        {
          "output_type": "execute_result",
          "data": {
            "text/plain": [
              "                 Date         Open         High          Low        Close  \\\n",
              "Date                                                                        \n",
              "2000-01-03 2000-01-03  1469.250000  1478.000000  1438.359985  1455.219971   \n",
              "2000-01-04 2000-01-04  1455.219971  1455.219971  1397.430054  1399.420044   \n",
              "2000-01-05 2000-01-05  1399.420044  1413.270020  1377.680054  1402.109985   \n",
              "2000-01-06 2000-01-06  1402.109985  1411.900024  1392.099976  1403.449951   \n",
              "2000-01-07 2000-01-07  1403.449951  1441.469971  1400.729980  1441.469971   \n",
              "\n",
              "              Adj Close      Volume  Parameter1  Parameter2  Parameter3  \n",
              "Date                                                                     \n",
              "2000-01-03  1455.219971   931800000         NaN    0.009641         NaN  \n",
              "2000-01-04  1399.420044  1009000000   -0.009549    0.039874    0.082850  \n",
              "2000-01-05  1402.109985  1085500000   -0.038345   -0.001918    0.075818  \n",
              "2000-01-06  1403.449951  1092300000    0.001922   -0.000955    0.006264  \n",
              "2000-01-07  1441.469971  1225200000    0.000956   -0.026376    0.121670  "
            ],
            "text/html": [
              "\n",
              "  <div id=\"df-df77763e-12d5-4963-b213-21b4898569f5\">\n",
              "    <div class=\"colab-df-container\">\n",
              "      <div>\n",
              "<style scoped>\n",
              "    .dataframe tbody tr th:only-of-type {\n",
              "        vertical-align: middle;\n",
              "    }\n",
              "\n",
              "    .dataframe tbody tr th {\n",
              "        vertical-align: top;\n",
              "    }\n",
              "\n",
              "    .dataframe thead th {\n",
              "        text-align: right;\n",
              "    }\n",
              "</style>\n",
              "<table border=\"1\" class=\"dataframe\">\n",
              "  <thead>\n",
              "    <tr style=\"text-align: right;\">\n",
              "      <th></th>\n",
              "      <th>Date</th>\n",
              "      <th>Open</th>\n",
              "      <th>High</th>\n",
              "      <th>Low</th>\n",
              "      <th>Close</th>\n",
              "      <th>Adj Close</th>\n",
              "      <th>Volume</th>\n",
              "      <th>Parameter1</th>\n",
              "      <th>Parameter2</th>\n",
              "      <th>Parameter3</th>\n",
              "    </tr>\n",
              "    <tr>\n",
              "      <th>Date</th>\n",
              "      <th></th>\n",
              "      <th></th>\n",
              "      <th></th>\n",
              "      <th></th>\n",
              "      <th></th>\n",
              "      <th></th>\n",
              "      <th></th>\n",
              "      <th></th>\n",
              "      <th></th>\n",
              "      <th></th>\n",
              "    </tr>\n",
              "  </thead>\n",
              "  <tbody>\n",
              "    <tr>\n",
              "      <th>2000-01-03</th>\n",
              "      <td>2000-01-03</td>\n",
              "      <td>1469.250000</td>\n",
              "      <td>1478.000000</td>\n",
              "      <td>1438.359985</td>\n",
              "      <td>1455.219971</td>\n",
              "      <td>1455.219971</td>\n",
              "      <td>931800000</td>\n",
              "      <td>NaN</td>\n",
              "      <td>0.009641</td>\n",
              "      <td>NaN</td>\n",
              "    </tr>\n",
              "    <tr>\n",
              "      <th>2000-01-04</th>\n",
              "      <td>2000-01-04</td>\n",
              "      <td>1455.219971</td>\n",
              "      <td>1455.219971</td>\n",
              "      <td>1397.430054</td>\n",
              "      <td>1399.420044</td>\n",
              "      <td>1399.420044</td>\n",
              "      <td>1009000000</td>\n",
              "      <td>-0.009549</td>\n",
              "      <td>0.039874</td>\n",
              "      <td>0.082850</td>\n",
              "    </tr>\n",
              "    <tr>\n",
              "      <th>2000-01-05</th>\n",
              "      <td>2000-01-05</td>\n",
              "      <td>1399.420044</td>\n",
              "      <td>1413.270020</td>\n",
              "      <td>1377.680054</td>\n",
              "      <td>1402.109985</td>\n",
              "      <td>1402.109985</td>\n",
              "      <td>1085500000</td>\n",
              "      <td>-0.038345</td>\n",
              "      <td>-0.001918</td>\n",
              "      <td>0.075818</td>\n",
              "    </tr>\n",
              "    <tr>\n",
              "      <th>2000-01-06</th>\n",
              "      <td>2000-01-06</td>\n",
              "      <td>1402.109985</td>\n",
              "      <td>1411.900024</td>\n",
              "      <td>1392.099976</td>\n",
              "      <td>1403.449951</td>\n",
              "      <td>1403.449951</td>\n",
              "      <td>1092300000</td>\n",
              "      <td>0.001922</td>\n",
              "      <td>-0.000955</td>\n",
              "      <td>0.006264</td>\n",
              "    </tr>\n",
              "    <tr>\n",
              "      <th>2000-01-07</th>\n",
              "      <td>2000-01-07</td>\n",
              "      <td>1403.449951</td>\n",
              "      <td>1441.469971</td>\n",
              "      <td>1400.729980</td>\n",
              "      <td>1441.469971</td>\n",
              "      <td>1441.469971</td>\n",
              "      <td>1225200000</td>\n",
              "      <td>0.000956</td>\n",
              "      <td>-0.026376</td>\n",
              "      <td>0.121670</td>\n",
              "    </tr>\n",
              "  </tbody>\n",
              "</table>\n",
              "</div>\n",
              "      <button class=\"colab-df-convert\" onclick=\"convertToInteractive('df-df77763e-12d5-4963-b213-21b4898569f5')\"\n",
              "              title=\"Convert this dataframe to an interactive table.\"\n",
              "              style=\"display:none;\">\n",
              "        \n",
              "  <svg xmlns=\"http://www.w3.org/2000/svg\" height=\"24px\"viewBox=\"0 0 24 24\"\n",
              "       width=\"24px\">\n",
              "    <path d=\"M0 0h24v24H0V0z\" fill=\"none\"/>\n",
              "    <path d=\"M18.56 5.44l.94 2.06.94-2.06 2.06-.94-2.06-.94-.94-2.06-.94 2.06-2.06.94zm-11 1L8.5 8.5l.94-2.06 2.06-.94-2.06-.94L8.5 2.5l-.94 2.06-2.06.94zm10 10l.94 2.06.94-2.06 2.06-.94-2.06-.94-.94-2.06-.94 2.06-2.06.94z\"/><path d=\"M17.41 7.96l-1.37-1.37c-.4-.4-.92-.59-1.43-.59-.52 0-1.04.2-1.43.59L10.3 9.45l-7.72 7.72c-.78.78-.78 2.05 0 2.83L4 21.41c.39.39.9.59 1.41.59.51 0 1.02-.2 1.41-.59l7.78-7.78 2.81-2.81c.8-.78.8-2.07 0-2.86zM5.41 20L4 18.59l7.72-7.72 1.47 1.35L5.41 20z\"/>\n",
              "  </svg>\n",
              "      </button>\n",
              "      \n",
              "  <style>\n",
              "    .colab-df-container {\n",
              "      display:flex;\n",
              "      flex-wrap:wrap;\n",
              "      gap: 12px;\n",
              "    }\n",
              "\n",
              "    .colab-df-convert {\n",
              "      background-color: #E8F0FE;\n",
              "      border: none;\n",
              "      border-radius: 50%;\n",
              "      cursor: pointer;\n",
              "      display: none;\n",
              "      fill: #1967D2;\n",
              "      height: 32px;\n",
              "      padding: 0 0 0 0;\n",
              "      width: 32px;\n",
              "    }\n",
              "\n",
              "    .colab-df-convert:hover {\n",
              "      background-color: #E2EBFA;\n",
              "      box-shadow: 0px 1px 2px rgba(60, 64, 67, 0.3), 0px 1px 3px 1px rgba(60, 64, 67, 0.15);\n",
              "      fill: #174EA6;\n",
              "    }\n",
              "\n",
              "    [theme=dark] .colab-df-convert {\n",
              "      background-color: #3B4455;\n",
              "      fill: #D2E3FC;\n",
              "    }\n",
              "\n",
              "    [theme=dark] .colab-df-convert:hover {\n",
              "      background-color: #434B5C;\n",
              "      box-shadow: 0px 1px 3px 1px rgba(0, 0, 0, 0.15);\n",
              "      filter: drop-shadow(0px 1px 2px rgba(0, 0, 0, 0.3));\n",
              "      fill: #FFFFFF;\n",
              "    }\n",
              "  </style>\n",
              "\n",
              "      <script>\n",
              "        const buttonEl =\n",
              "          document.querySelector('#df-df77763e-12d5-4963-b213-21b4898569f5 button.colab-df-convert');\n",
              "        buttonEl.style.display =\n",
              "          google.colab.kernel.accessAllowed ? 'block' : 'none';\n",
              "\n",
              "        async function convertToInteractive(key) {\n",
              "          const element = document.querySelector('#df-df77763e-12d5-4963-b213-21b4898569f5');\n",
              "          const dataTable =\n",
              "            await google.colab.kernel.invokeFunction('convertToInteractive',\n",
              "                                                     [key], {});\n",
              "          if (!dataTable) return;\n",
              "\n",
              "          const docLinkHtml = 'Like what you see? Visit the ' +\n",
              "            '<a target=\"_blank\" href=https://colab.research.google.com/notebooks/data_table.ipynb>data table notebook</a>'\n",
              "            + ' to learn more about interactive tables.';\n",
              "          element.innerHTML = '';\n",
              "          dataTable['output_type'] = 'display_data';\n",
              "          await google.colab.output.renderOutput(dataTable, element);\n",
              "          const docLink = document.createElement('div');\n",
              "          docLink.innerHTML = docLinkHtml;\n",
              "          element.appendChild(docLink);\n",
              "        }\n",
              "      </script>\n",
              "    </div>\n",
              "  </div>\n",
              "  "
            ]
          },
          "metadata": {},
          "execution_count": 31
        }
      ],
      "source": [
        "#fractional difference between current day volume and previous day volume\n",
        "df['Parameter3']=df['Volume'].pct_change(1)\n",
        "df.head()"
      ]
    },
    {
      "cell_type": "markdown",
      "metadata": {
        "id": "44OJvqiulUbZ"
      },
      "source": [
        "○\tHow can you cluster the above data set (Parameters 1, 2, 3)?"
      ]
    },
    {
      "cell_type": "code",
      "execution_count": null,
      "metadata": {
        "colab": {
          "base_uri": "https://localhost:8080/",
          "height": 238
        },
        "id": "PDNXjDx6lK9S",
        "outputId": "2dde3d53-72db-4e02-d516-af87285230b8"
      },
      "outputs": [
        {
          "output_type": "execute_result",
          "data": {
            "text/plain": [
              "            Parameter1  Parameter2  Parameter3\n",
              "Date                                          \n",
              "2000-01-03         NaN    0.009641         NaN\n",
              "2000-01-04   -0.009549    0.039874    0.082850\n",
              "2000-01-05   -0.038345   -0.001918    0.075818\n",
              "2000-01-06    0.001922   -0.000955    0.006264\n",
              "2000-01-07    0.000956   -0.026376    0.121670"
            ],
            "text/html": [
              "\n",
              "  <div id=\"df-fa26af2e-b4ac-46f5-92d5-aa505b41e044\">\n",
              "    <div class=\"colab-df-container\">\n",
              "      <div>\n",
              "<style scoped>\n",
              "    .dataframe tbody tr th:only-of-type {\n",
              "        vertical-align: middle;\n",
              "    }\n",
              "\n",
              "    .dataframe tbody tr th {\n",
              "        vertical-align: top;\n",
              "    }\n",
              "\n",
              "    .dataframe thead th {\n",
              "        text-align: right;\n",
              "    }\n",
              "</style>\n",
              "<table border=\"1\" class=\"dataframe\">\n",
              "  <thead>\n",
              "    <tr style=\"text-align: right;\">\n",
              "      <th></th>\n",
              "      <th>Parameter1</th>\n",
              "      <th>Parameter2</th>\n",
              "      <th>Parameter3</th>\n",
              "    </tr>\n",
              "    <tr>\n",
              "      <th>Date</th>\n",
              "      <th></th>\n",
              "      <th></th>\n",
              "      <th></th>\n",
              "    </tr>\n",
              "  </thead>\n",
              "  <tbody>\n",
              "    <tr>\n",
              "      <th>2000-01-03</th>\n",
              "      <td>NaN</td>\n",
              "      <td>0.009641</td>\n",
              "      <td>NaN</td>\n",
              "    </tr>\n",
              "    <tr>\n",
              "      <th>2000-01-04</th>\n",
              "      <td>-0.009549</td>\n",
              "      <td>0.039874</td>\n",
              "      <td>0.082850</td>\n",
              "    </tr>\n",
              "    <tr>\n",
              "      <th>2000-01-05</th>\n",
              "      <td>-0.038345</td>\n",
              "      <td>-0.001918</td>\n",
              "      <td>0.075818</td>\n",
              "    </tr>\n",
              "    <tr>\n",
              "      <th>2000-01-06</th>\n",
              "      <td>0.001922</td>\n",
              "      <td>-0.000955</td>\n",
              "      <td>0.006264</td>\n",
              "    </tr>\n",
              "    <tr>\n",
              "      <th>2000-01-07</th>\n",
              "      <td>0.000956</td>\n",
              "      <td>-0.026376</td>\n",
              "      <td>0.121670</td>\n",
              "    </tr>\n",
              "  </tbody>\n",
              "</table>\n",
              "</div>\n",
              "      <button class=\"colab-df-convert\" onclick=\"convertToInteractive('df-fa26af2e-b4ac-46f5-92d5-aa505b41e044')\"\n",
              "              title=\"Convert this dataframe to an interactive table.\"\n",
              "              style=\"display:none;\">\n",
              "        \n",
              "  <svg xmlns=\"http://www.w3.org/2000/svg\" height=\"24px\"viewBox=\"0 0 24 24\"\n",
              "       width=\"24px\">\n",
              "    <path d=\"M0 0h24v24H0V0z\" fill=\"none\"/>\n",
              "    <path d=\"M18.56 5.44l.94 2.06.94-2.06 2.06-.94-2.06-.94-.94-2.06-.94 2.06-2.06.94zm-11 1L8.5 8.5l.94-2.06 2.06-.94-2.06-.94L8.5 2.5l-.94 2.06-2.06.94zm10 10l.94 2.06.94-2.06 2.06-.94-2.06-.94-.94-2.06-.94 2.06-2.06.94z\"/><path d=\"M17.41 7.96l-1.37-1.37c-.4-.4-.92-.59-1.43-.59-.52 0-1.04.2-1.43.59L10.3 9.45l-7.72 7.72c-.78.78-.78 2.05 0 2.83L4 21.41c.39.39.9.59 1.41.59.51 0 1.02-.2 1.41-.59l7.78-7.78 2.81-2.81c.8-.78.8-2.07 0-2.86zM5.41 20L4 18.59l7.72-7.72 1.47 1.35L5.41 20z\"/>\n",
              "  </svg>\n",
              "      </button>\n",
              "      \n",
              "  <style>\n",
              "    .colab-df-container {\n",
              "      display:flex;\n",
              "      flex-wrap:wrap;\n",
              "      gap: 12px;\n",
              "    }\n",
              "\n",
              "    .colab-df-convert {\n",
              "      background-color: #E8F0FE;\n",
              "      border: none;\n",
              "      border-radius: 50%;\n",
              "      cursor: pointer;\n",
              "      display: none;\n",
              "      fill: #1967D2;\n",
              "      height: 32px;\n",
              "      padding: 0 0 0 0;\n",
              "      width: 32px;\n",
              "    }\n",
              "\n",
              "    .colab-df-convert:hover {\n",
              "      background-color: #E2EBFA;\n",
              "      box-shadow: 0px 1px 2px rgba(60, 64, 67, 0.3), 0px 1px 3px 1px rgba(60, 64, 67, 0.15);\n",
              "      fill: #174EA6;\n",
              "    }\n",
              "\n",
              "    [theme=dark] .colab-df-convert {\n",
              "      background-color: #3B4455;\n",
              "      fill: #D2E3FC;\n",
              "    }\n",
              "\n",
              "    [theme=dark] .colab-df-convert:hover {\n",
              "      background-color: #434B5C;\n",
              "      box-shadow: 0px 1px 3px 1px rgba(0, 0, 0, 0.15);\n",
              "      filter: drop-shadow(0px 1px 2px rgba(0, 0, 0, 0.3));\n",
              "      fill: #FFFFFF;\n",
              "    }\n",
              "  </style>\n",
              "\n",
              "      <script>\n",
              "        const buttonEl =\n",
              "          document.querySelector('#df-fa26af2e-b4ac-46f5-92d5-aa505b41e044 button.colab-df-convert');\n",
              "        buttonEl.style.display =\n",
              "          google.colab.kernel.accessAllowed ? 'block' : 'none';\n",
              "\n",
              "        async function convertToInteractive(key) {\n",
              "          const element = document.querySelector('#df-fa26af2e-b4ac-46f5-92d5-aa505b41e044');\n",
              "          const dataTable =\n",
              "            await google.colab.kernel.invokeFunction('convertToInteractive',\n",
              "                                                     [key], {});\n",
              "          if (!dataTable) return;\n",
              "\n",
              "          const docLinkHtml = 'Like what you see? Visit the ' +\n",
              "            '<a target=\"_blank\" href=https://colab.research.google.com/notebooks/data_table.ipynb>data table notebook</a>'\n",
              "            + ' to learn more about interactive tables.';\n",
              "          element.innerHTML = '';\n",
              "          dataTable['output_type'] = 'display_data';\n",
              "          await google.colab.output.renderOutput(dataTable, element);\n",
              "          const docLink = document.createElement('div');\n",
              "          docLink.innerHTML = docLinkHtml;\n",
              "          element.appendChild(docLink);\n",
              "        }\n",
              "      </script>\n",
              "    </div>\n",
              "  </div>\n",
              "  "
            ]
          },
          "metadata": {},
          "execution_count": 32
        }
      ],
      "source": [
        "#Extract the feature from existing data set and created new dataframe\n",
        "df_cluster=df[['Parameter1', 'Parameter2', 'Parameter3']]\n",
        "df_cluster.head()"
      ]
    },
    {
      "cell_type": "code",
      "source": [
        ""
      ],
      "metadata": {
        "id": "BuNgNqZrSn4y"
      },
      "execution_count": null,
      "outputs": []
    },
    {
      "cell_type": "code",
      "source": [
        ""
      ],
      "metadata": {
        "id": "T260_4cxSsOy"
      },
      "execution_count": null,
      "outputs": []
    },
    {
      "cell_type": "code",
      "source": [
        ""
      ],
      "metadata": {
        "id": "iPp8tDNqSwvS"
      },
      "execution_count": null,
      "outputs": []
    },
    {
      "cell_type": "code",
      "execution_count": null,
      "metadata": {
        "colab": {
          "base_uri": "https://localhost:8080/",
          "height": 292
        },
        "id": "vOe55SQVlaQh",
        "outputId": "05ef8881-1a14-4199-d570-3300629b0d7e"
      },
      "outputs": [
        {
          "output_type": "stream",
          "name": "stderr",
          "text": [
            "/usr/local/lib/python3.7/dist-packages/ipykernel_launcher.py:2: FutureWarning: DataFrame.mean and DataFrame.median with numeric_only=None will include datetime64 and datetime64tz columns in a future version.\n",
            "  \n"
          ]
        },
        {
          "output_type": "execute_result",
          "data": {
            "text/plain": [
              "            Parameter1  Parameter2  Parameter3\n",
              "Date                                          \n",
              "2000-01-03    0.000715    0.009641   -0.001074\n",
              "2000-01-04   -0.009549    0.039874    0.082850\n",
              "2000-01-05   -0.038345   -0.001918    0.075818\n",
              "2000-01-06    0.001922   -0.000955    0.006264\n",
              "2000-01-07    0.000956   -0.026376    0.121670"
            ],
            "text/html": [
              "\n",
              "  <div id=\"df-b7bba2c3-1fc4-48e2-83ff-2dbcf914c21f\">\n",
              "    <div class=\"colab-df-container\">\n",
              "      <div>\n",
              "<style scoped>\n",
              "    .dataframe tbody tr th:only-of-type {\n",
              "        vertical-align: middle;\n",
              "    }\n",
              "\n",
              "    .dataframe tbody tr th {\n",
              "        vertical-align: top;\n",
              "    }\n",
              "\n",
              "    .dataframe thead th {\n",
              "        text-align: right;\n",
              "    }\n",
              "</style>\n",
              "<table border=\"1\" class=\"dataframe\">\n",
              "  <thead>\n",
              "    <tr style=\"text-align: right;\">\n",
              "      <th></th>\n",
              "      <th>Parameter1</th>\n",
              "      <th>Parameter2</th>\n",
              "      <th>Parameter3</th>\n",
              "    </tr>\n",
              "    <tr>\n",
              "      <th>Date</th>\n",
              "      <th></th>\n",
              "      <th></th>\n",
              "      <th></th>\n",
              "    </tr>\n",
              "  </thead>\n",
              "  <tbody>\n",
              "    <tr>\n",
              "      <th>2000-01-03</th>\n",
              "      <td>0.000715</td>\n",
              "      <td>0.009641</td>\n",
              "      <td>-0.001074</td>\n",
              "    </tr>\n",
              "    <tr>\n",
              "      <th>2000-01-04</th>\n",
              "      <td>-0.009549</td>\n",
              "      <td>0.039874</td>\n",
              "      <td>0.082850</td>\n",
              "    </tr>\n",
              "    <tr>\n",
              "      <th>2000-01-05</th>\n",
              "      <td>-0.038345</td>\n",
              "      <td>-0.001918</td>\n",
              "      <td>0.075818</td>\n",
              "    </tr>\n",
              "    <tr>\n",
              "      <th>2000-01-06</th>\n",
              "      <td>0.001922</td>\n",
              "      <td>-0.000955</td>\n",
              "      <td>0.006264</td>\n",
              "    </tr>\n",
              "    <tr>\n",
              "      <th>2000-01-07</th>\n",
              "      <td>0.000956</td>\n",
              "      <td>-0.026376</td>\n",
              "      <td>0.121670</td>\n",
              "    </tr>\n",
              "  </tbody>\n",
              "</table>\n",
              "</div>\n",
              "      <button class=\"colab-df-convert\" onclick=\"convertToInteractive('df-b7bba2c3-1fc4-48e2-83ff-2dbcf914c21f')\"\n",
              "              title=\"Convert this dataframe to an interactive table.\"\n",
              "              style=\"display:none;\">\n",
              "        \n",
              "  <svg xmlns=\"http://www.w3.org/2000/svg\" height=\"24px\"viewBox=\"0 0 24 24\"\n",
              "       width=\"24px\">\n",
              "    <path d=\"M0 0h24v24H0V0z\" fill=\"none\"/>\n",
              "    <path d=\"M18.56 5.44l.94 2.06.94-2.06 2.06-.94-2.06-.94-.94-2.06-.94 2.06-2.06.94zm-11 1L8.5 8.5l.94-2.06 2.06-.94-2.06-.94L8.5 2.5l-.94 2.06-2.06.94zm10 10l.94 2.06.94-2.06 2.06-.94-2.06-.94-.94-2.06-.94 2.06-2.06.94z\"/><path d=\"M17.41 7.96l-1.37-1.37c-.4-.4-.92-.59-1.43-.59-.52 0-1.04.2-1.43.59L10.3 9.45l-7.72 7.72c-.78.78-.78 2.05 0 2.83L4 21.41c.39.39.9.59 1.41.59.51 0 1.02-.2 1.41-.59l7.78-7.78 2.81-2.81c.8-.78.8-2.07 0-2.86zM5.41 20L4 18.59l7.72-7.72 1.47 1.35L5.41 20z\"/>\n",
              "  </svg>\n",
              "      </button>\n",
              "      \n",
              "  <style>\n",
              "    .colab-df-container {\n",
              "      display:flex;\n",
              "      flex-wrap:wrap;\n",
              "      gap: 12px;\n",
              "    }\n",
              "\n",
              "    .colab-df-convert {\n",
              "      background-color: #E8F0FE;\n",
              "      border: none;\n",
              "      border-radius: 50%;\n",
              "      cursor: pointer;\n",
              "      display: none;\n",
              "      fill: #1967D2;\n",
              "      height: 32px;\n",
              "      padding: 0 0 0 0;\n",
              "      width: 32px;\n",
              "    }\n",
              "\n",
              "    .colab-df-convert:hover {\n",
              "      background-color: #E2EBFA;\n",
              "      box-shadow: 0px 1px 2px rgba(60, 64, 67, 0.3), 0px 1px 3px 1px rgba(60, 64, 67, 0.15);\n",
              "      fill: #174EA6;\n",
              "    }\n",
              "\n",
              "    [theme=dark] .colab-df-convert {\n",
              "      background-color: #3B4455;\n",
              "      fill: #D2E3FC;\n",
              "    }\n",
              "\n",
              "    [theme=dark] .colab-df-convert:hover {\n",
              "      background-color: #434B5C;\n",
              "      box-shadow: 0px 1px 3px 1px rgba(0, 0, 0, 0.15);\n",
              "      filter: drop-shadow(0px 1px 2px rgba(0, 0, 0, 0.3));\n",
              "      fill: #FFFFFF;\n",
              "    }\n",
              "  </style>\n",
              "\n",
              "      <script>\n",
              "        const buttonEl =\n",
              "          document.querySelector('#df-b7bba2c3-1fc4-48e2-83ff-2dbcf914c21f button.colab-df-convert');\n",
              "        buttonEl.style.display =\n",
              "          google.colab.kernel.accessAllowed ? 'block' : 'none';\n",
              "\n",
              "        async function convertToInteractive(key) {\n",
              "          const element = document.querySelector('#df-b7bba2c3-1fc4-48e2-83ff-2dbcf914c21f');\n",
              "          const dataTable =\n",
              "            await google.colab.kernel.invokeFunction('convertToInteractive',\n",
              "                                                     [key], {});\n",
              "          if (!dataTable) return;\n",
              "\n",
              "          const docLinkHtml = 'Like what you see? Visit the ' +\n",
              "            '<a target=\"_blank\" href=https://colab.research.google.com/notebooks/data_table.ipynb>data table notebook</a>'\n",
              "            + ' to learn more about interactive tables.';\n",
              "          element.innerHTML = '';\n",
              "          dataTable['output_type'] = 'display_data';\n",
              "          await google.colab.output.renderOutput(dataTable, element);\n",
              "          const docLink = document.createElement('div');\n",
              "          docLink.innerHTML = docLinkHtml;\n",
              "          element.appendChild(docLink);\n",
              "        }\n",
              "      </script>\n",
              "    </div>\n",
              "  </div>\n",
              "  "
            ]
          },
          "metadata": {},
          "execution_count": 33
        }
      ],
      "source": [
        "#Replace the nan values to median values using pandas fillna method\n",
        "df_cluster1=df_cluster.fillna(df.median())\n",
        "df_cluster1.head()"
      ]
    },
    {
      "cell_type": "code",
      "execution_count": null,
      "metadata": {
        "colab": {
          "base_uri": "https://localhost:8080/"
        },
        "id": "RMUsNdaboVzB",
        "outputId": "b6d8cef3-3f38-413b-d00d-4a9359445887"
      },
      "outputs": [
        {
          "output_type": "stream",
          "name": "stdout",
          "text": [
            "MinMaxScaler()\n"
          ]
        },
        {
          "output_type": "execute_result",
          "data": {
            "text/plain": [
              "array([[0.45314556, 0.55467266, 0.19022182],\n",
              "       [0.40019268, 0.71135734, 0.21122521],\n",
              "       [0.25163248, 0.49476273, 0.20946515],\n",
              "       ...,\n",
              "       [0.4223921 , 0.54451904, 0.20683737],\n",
              "       [0.35883648, 0.46063553, 0.18247628],\n",
              "       [0.50888088, 0.51912084, 0.25499841]])"
            ]
          },
          "metadata": {},
          "execution_count": 34
        }
      ],
      "source": [
        "#Preprocessing of the data using minmaxscaler\n",
        "from sklearn.preprocessing import MinMaxScaler\n",
        "data = df_cluster1\n",
        "scaler = MinMaxScaler()\n",
        "print(scaler.fit(data))\n",
        "\n",
        "df_clus1=scaler.transform(data)\n",
        "df_clus1"
      ]
    },
    {
      "cell_type": "code",
      "execution_count": null,
      "metadata": {
        "colab": {
          "base_uri": "https://localhost:8080/",
          "height": 519
        },
        "id": "h4SwB3YLljv-",
        "outputId": "503fa097-5c9a-41f8-98f2-87947f9c4f52"
      },
      "outputs": [
        {
          "output_type": "display_data",
          "data": {
            "text/plain": [
              "<Figure size 720x576 with 1 Axes>"
            ],
            "image/png": "[encoded data removed]"
          },
          "metadata": {}
        }
      ],
      "source": [
        "#Elbow method to identify optimum number of clusters\n",
        "from sklearn.cluster import KMeans\n",
        "cs=[]\n",
        "for i in range(1, 8):\n",
        "  kmeans=KMeans(n_clusters=i, init='k-means++', max_iter=400, n_init=10, random_state=0)\n",
        "  kmeans.fit(df_clus1)\n",
        "  cs.append(kmeans.inertia_)\n",
        "plt.figure(figsize=(10,8))\n",
        "plt.plot(range(1,8), cs)\n",
        "plt.title('The Elbow Method', size=14)\n",
        "plt.xlabel('Number of clusters', size=16)\n",
        "plt.ylabel('CS', size=16)\n",
        "plt.show()"
      ]
    },
    {
      "cell_type": "markdown",
      "source": [
        "It is very difficult to finding out optimal numbers of clusters using elbow method for this dataset of parameter1, parameter2 & parameter3."
      ],
      "metadata": {
        "id": "jA1MlaUpYlIq"
      }
    },
    {
      "cell_type": "code",
      "execution_count": null,
      "metadata": {
        "colab": {
          "base_uri": "https://localhost:8080/"
        },
        "id": "95lQjxRWmAkD",
        "outputId": "0ddb2034-1e79-4bca-c84b-7cc68b603683"
      },
      "outputs": [
        {
          "output_type": "stream",
          "name": "stdout",
          "text": [
            "[0 0 0 ... 0 1 1]\n"
          ]
        }
      ],
      "source": [
        "#Import required module\n",
        "from sklearn.cluster import KMeans\n",
        " \n",
        "#Initialize the class object\n",
        "n_clusters= 2\n",
        "kmeans = KMeans(n_clusters)\n",
        " \n",
        "#predict the labels of clusters.\n",
        "label = kmeans.fit_predict(df_clus1)\n",
        " \n",
        "print(label)"
      ]
    },
    {
      "cell_type": "code",
      "execution_count": null,
      "metadata": {
        "id": "MefD80NUotu8"
      },
      "outputs": [],
      "source": [
        "# import matplotlib.pyplot as plt\n",
        " \n",
        "# #filter rows of original data\n",
        "# filtered_label0 = df_clus1[label == 0]\n",
        " \n",
        "# #plotting the results\n",
        "# plt.scatter(filtered_label0[:,0] , filtered_label0[:,1])\n",
        "# plt.show()"
      ]
    },
    {
      "cell_type": "code",
      "execution_count": null,
      "metadata": {
        "id": "qUed_J1WoxAt"
      },
      "outputs": [],
      "source": [
        "# #filter rows of original data\n",
        "# filtered_label2 = df_clus1[label == 2]\n",
        " \n",
        "# filtered_label8 = df_clus1[label == 1]\n",
        " \n",
        "# #Plotting the results\n",
        "# plt.scatter(filtered_label2[:,0] , filtered_label2[:,1] , color = 'red')\n",
        "# plt.scatter(filtered_label8[:,0] , filtered_label8[:,1] , color = 'black')\n",
        "# plt.show()"
      ]
    },
    {
      "cell_type": "code",
      "execution_count": null,
      "metadata": {
        "colab": {
          "base_uri": "https://localhost:8080/",
          "height": 374
        },
        "id": "VVbtvA-BmQjN",
        "outputId": "6843e586-c0f3-45fa-e432-466ea6ec1030"
      },
      "outputs": [
        {
          "output_type": "display_data",
          "data": {
            "text/plain": [
              "<Figure size 864x432 with 1 Axes>"
            ],
            "image/png": "[encoded data removed]"
          },
          "metadata": {}
        }
      ],
      "source": [
        "#Getting unique labels\n",
        " \n",
        "u_labels = np.unique(label)\n",
        " \n",
        "#plotting the results:\n",
        "plt.figure(figsize=(12,6)) \n",
        "for i in u_labels:\n",
        "    plt.scatter(df_clus1[label == i , 0] , df_clus1[label == i , 1] , label = i)\n",
        "plt.legend()\n",
        "plt.show()"
      ]
    },
    {
      "cell_type": "code",
      "execution_count": null,
      "metadata": {
        "colab": {
          "base_uri": "https://localhost:8080/",
          "height": 409
        },
        "id": "RJ66iKvymroP",
        "outputId": "66263b2b-b9a1-4f20-db20-8e9842699bce"
      },
      "outputs": [
        {
          "output_type": "stream",
          "name": "stdout",
          "text": [
            "[[0.41827097 0.55953663 0.2241566 ]\n",
            " [0.46246707 0.48448166 0.18447593]]\n"
          ]
        },
        {
          "output_type": "display_data",
          "data": {
            "text/plain": [
              "<Figure size 864x432 with 1 Axes>"
            ],
            "image/png": "[encoded data removed]"
          },
          "metadata": {}
        }
      ],
      "source": [
        "#Getting the Centroids\n",
        "centroids = kmeans.cluster_centers_\n",
        "u_labels = np.unique(label)\n",
        "print(centroids)\n",
        " \n",
        "#plotting the results:\n",
        "plt.figure(figsize=(12, 6))\n",
        "for i in u_labels:\n",
        "    plt.scatter(df_clus1[label == i , 0] , df_clus1[label == i , 1] , label = i)\n",
        "plt.scatter(centroids[:,0] , centroids[:,1] , s = 40, color = 'k')\n",
        "plt.legend()\n",
        "plt.show()"
      ]
    },
    {
      "cell_type": "code",
      "execution_count": null,
      "metadata": {
        "colab": {
          "base_uri": "https://localhost:8080/"
        },
        "id": "0KQlqxrPm0Sh",
        "outputId": "72433151-09af-4b71-c7ee-060269d4568b"
      },
      "outputs": [
        {
          "output_type": "execute_result",
          "data": {
            "text/plain": [
              "0.2863507684262025"
            ]
          },
          "metadata": {},
          "execution_count": 41
        }
      ],
      "source": [
        "#calculate silhouette score\n",
        "from sklearn.metrics import silhouette_score, silhouette_samples\n",
        "silhouette_avg= silhouette_score(df_clus1, label)\n",
        "silhouette_avg"
      ]
    },
    {
      "cell_type": "code",
      "execution_count": null,
      "metadata": {
        "colab": {
          "base_uri": "https://localhost:8080/"
        },
        "id": "FC2wS36e3Dfy",
        "outputId": "4be2cfeb-e55f-4255-8dd5-ca02848a6373"
      },
      "outputs": [
        {
          "output_type": "execute_result",
          "data": {
            "text/plain": [
              "array([-0.03343936,  0.26250985,  0.09496798, ...,  0.08660783,\n",
              "        0.18038545,  0.19003815])"
            ]
          },
          "metadata": {},
          "execution_count": 42
        }
      ],
      "source": [
        "#calculate sihouette score for each sample\n",
        "sample_silhouette_values=silhouette_samples(df_clus1, label)\n",
        "sample_silhouette_values"
      ]
    },
    {
      "cell_type": "code",
      "execution_count": null,
      "metadata": {
        "colab": {
          "base_uri": "https://localhost:8080/",
          "height": 393
        },
        "id": "Nj6kAwP8rCzO",
        "outputId": "a41e5603-f5cf-4e67-8bae-e4394be81675"
      },
      "outputs": [
        {
          "output_type": "display_data",
          "data": {
            "text/plain": [
              "<Figure size 576x396 with 1 Axes>"
            ],
            "image/png": "[encoded data removed]"
          },
          "metadata": {}
        },
        {
          "output_type": "execute_result",
          "data": {
            "text/plain": [
              "<matplotlib.axes._subplots.AxesSubplot at 0x7f36370efc50>"
            ]
          },
          "metadata": {},
          "execution_count": 43
        }
      ],
      "source": [
        "#Plotting silhouette plot\n",
        "from yellowbrick.cluster import SilhouetteVisualizer\n",
        "viz=SilhouetteVisualizer(kmeans, color='yellowbrick')\n",
        "viz.fit(df_clus1)\n",
        "viz.show()"
      ]
    },
    {
      "cell_type": "code",
      "source": [
        "print( \"for the\", n_clusters, \"clusters, the silhouette_score is\",silhouette_avg )"
      ],
      "metadata": {
        "colab": {
          "base_uri": "https://localhost:8080/"
        },
        "id": "Gcn5xoNvZVVj",
        "outputId": "f1b7928f-c660-4fb5-8892-4f191f289eff"
      },
      "execution_count": null,
      "outputs": [
        {
          "output_type": "stream",
          "name": "stdout",
          "text": [
            "for the 2 clusters, the silhouette_score is 0.2863507684262025\n"
          ]
        }
      ]
    },
    {
      "cell_type": "markdown",
      "source": [
        ""
      ],
      "metadata": {
        "id": "oW3x9NKUZSi6"
      }
    },
    {
      "cell_type": "markdown",
      "metadata": {
        "id": "QCk-hkfqrDgf"
      },
      "source": [
        "**●\tThere is a saying on Wall Street, “Santa brings the Christmas rally”** "
      ]
    },
    {
      "cell_type": "markdown",
      "metadata": {
        "id": "F6ASA9-XrT48"
      },
      "source": [
        "○\tFor the data set, compute the monthly returns i.e., fractional difference between the month’s closing price and opening price."
      ]
    },
    {
      "cell_type": "code",
      "execution_count": null,
      "metadata": {
        "colab": {
          "base_uri": "https://localhost:8080/",
          "height": 320
        },
        "id": "vZphA4OnrHfw",
        "outputId": "51610be2-5608-448f-e01c-7ff65443bbd3"
      },
      "outputs": [
        {
          "output_type": "execute_result",
          "data": {
            "text/plain": [
              "                 Date         Open         High          Low        Close  \\\n",
              "Date                                                                        \n",
              "2000-01-03 2000-01-03  1469.250000  1478.000000  1438.359985  1455.219971   \n",
              "2000-01-04 2000-01-04  1455.219971  1455.219971  1397.430054  1399.420044   \n",
              "2000-01-05 2000-01-05  1399.420044  1413.270020  1377.680054  1402.109985   \n",
              "2000-01-06 2000-01-06  1402.109985  1411.900024  1392.099976  1403.449951   \n",
              "\n",
              "              Adj Close      Volume  Parameter1  Parameter2  Parameter3  \n",
              "Date                                                                     \n",
              "2000-01-03  1455.219971   931800000         NaN    0.009641         NaN  \n",
              "2000-01-04  1399.420044  1009000000   -0.009549    0.039874    0.082850  \n",
              "2000-01-05  1402.109985  1085500000   -0.038345   -0.001918    0.075818  \n",
              "2000-01-06  1403.449951  1092300000    0.001922   -0.000955    0.006264  "
            ],
            "text/html": [
              "\n",
              "  <div id=\"df-76e03092-4a5d-4667-99a2-6093146c44f2\">\n",
              "    <div class=\"colab-df-container\">\n",
              "      <div>\n",
              "<style scoped>\n",
              "    .dataframe tbody tr th:only-of-type {\n",
              "        vertical-align: middle;\n",
              "    }\n",
              "\n",
              "    .dataframe tbody tr th {\n",
              "        vertical-align: top;\n",
              "    }\n",
              "\n",
              "    .dataframe thead th {\n",
              "        text-align: right;\n",
              "    }\n",
              "</style>\n",
              "<table border=\"1\" class=\"dataframe\">\n",
              "  <thead>\n",
              "    <tr style=\"text-align: right;\">\n",
              "      <th></th>\n",
              "      <th>Date</th>\n",
              "      <th>Open</th>\n",
              "      <th>High</th>\n",
              "      <th>Low</th>\n",
              "      <th>Close</th>\n",
              "      <th>Adj Close</th>\n",
              "      <th>Volume</th>\n",
              "      <th>Parameter1</th>\n",
              "      <th>Parameter2</th>\n",
              "      <th>Parameter3</th>\n",
              "    </tr>\n",
              "    <tr>\n",
              "      <th>Date</th>\n",
              "      <th></th>\n",
              "      <th></th>\n",
              "      <th></th>\n",
              "      <th></th>\n",
              "      <th></th>\n",
              "      <th></th>\n",
              "      <th></th>\n",
              "      <th></th>\n",
              "      <th></th>\n",
              "      <th></th>\n",
              "    </tr>\n",
              "  </thead>\n",
              "  <tbody>\n",
              "    <tr>\n",
              "      <th>2000-01-03</th>\n",
              "      <td>2000-01-03</td>\n",
              "      <td>1469.250000</td>\n",
              "      <td>1478.000000</td>\n",
              "      <td>1438.359985</td>\n",
              "      <td>1455.219971</td>\n",
              "      <td>1455.219971</td>\n",
              "      <td>931800000</td>\n",
              "      <td>NaN</td>\n",
              "      <td>0.009641</td>\n",
              "      <td>NaN</td>\n",
              "    </tr>\n",
              "    <tr>\n",
              "      <th>2000-01-04</th>\n",
              "      <td>2000-01-04</td>\n",
              "      <td>1455.219971</td>\n",
              "      <td>1455.219971</td>\n",
              "      <td>1397.430054</td>\n",
              "      <td>1399.420044</td>\n",
              "      <td>1399.420044</td>\n",
              "      <td>1009000000</td>\n",
              "      <td>-0.009549</td>\n",
              "      <td>0.039874</td>\n",
              "      <td>0.082850</td>\n",
              "    </tr>\n",
              "    <tr>\n",
              "      <th>2000-01-05</th>\n",
              "      <td>2000-01-05</td>\n",
              "      <td>1399.420044</td>\n",
              "      <td>1413.270020</td>\n",
              "      <td>1377.680054</td>\n",
              "      <td>1402.109985</td>\n",
              "      <td>1402.109985</td>\n",
              "      <td>1085500000</td>\n",
              "      <td>-0.038345</td>\n",
              "      <td>-0.001918</td>\n",
              "      <td>0.075818</td>\n",
              "    </tr>\n",
              "    <tr>\n",
              "      <th>2000-01-06</th>\n",
              "      <td>2000-01-06</td>\n",
              "      <td>1402.109985</td>\n",
              "      <td>1411.900024</td>\n",
              "      <td>1392.099976</td>\n",
              "      <td>1403.449951</td>\n",
              "      <td>1403.449951</td>\n",
              "      <td>1092300000</td>\n",
              "      <td>0.001922</td>\n",
              "      <td>-0.000955</td>\n",
              "      <td>0.006264</td>\n",
              "    </tr>\n",
              "  </tbody>\n",
              "</table>\n",
              "</div>\n",
              "      <button class=\"colab-df-convert\" onclick=\"convertToInteractive('df-76e03092-4a5d-4667-99a2-6093146c44f2')\"\n",
              "              title=\"Convert this dataframe to an interactive table.\"\n",
              "              style=\"display:none;\">\n",
              "        \n",
              "  <svg xmlns=\"http://www.w3.org/2000/svg\" height=\"24px\"viewBox=\"0 0 24 24\"\n",
              "       width=\"24px\">\n",
              "    <path d=\"M0 0h24v24H0V0z\" fill=\"none\"/>\n",
              "    <path d=\"M18.56 5.44l.94 2.06.94-2.06 2.06-.94-2.06-.94-.94-2.06-.94 2.06-2.06.94zm-11 1L8.5 8.5l.94-2.06 2.06-.94-2.06-.94L8.5 2.5l-.94 2.06-2.06.94zm10 10l.94 2.06.94-2.06 2.06-.94-2.06-.94-.94-2.06-.94 2.06-2.06.94z\"/><path d=\"M17.41 7.96l-1.37-1.37c-.4-.4-.92-.59-1.43-.59-.52 0-1.04.2-1.43.59L10.3 9.45l-7.72 7.72c-.78.78-.78 2.05 0 2.83L4 21.41c.39.39.9.59 1.41.59.51 0 1.02-.2 1.41-.59l7.78-7.78 2.81-2.81c.8-.78.8-2.07 0-2.86zM5.41 20L4 18.59l7.72-7.72 1.47 1.35L5.41 20z\"/>\n",
              "  </svg>\n",
              "      </button>\n",
              "      \n",
              "  <style>\n",
              "    .colab-df-container {\n",
              "      display:flex;\n",
              "      flex-wrap:wrap;\n",
              "      gap: 12px;\n",
              "    }\n",
              "\n",
              "    .colab-df-convert {\n",
              "      background-color: #E8F0FE;\n",
              "      border: none;\n",
              "      border-radius: 50%;\n",
              "      cursor: pointer;\n",
              "      display: none;\n",
              "      fill: #1967D2;\n",
              "      height: 32px;\n",
              "      padding: 0 0 0 0;\n",
              "      width: 32px;\n",
              "    }\n",
              "\n",
              "    .colab-df-convert:hover {\n",
              "      background-color: #E2EBFA;\n",
              "      box-shadow: 0px 1px 2px rgba(60, 64, 67, 0.3), 0px 1px 3px 1px rgba(60, 64, 67, 0.15);\n",
              "      fill: #174EA6;\n",
              "    }\n",
              "\n",
              "    [theme=dark] .colab-df-convert {\n",
              "      background-color: #3B4455;\n",
              "      fill: #D2E3FC;\n",
              "    }\n",
              "\n",
              "    [theme=dark] .colab-df-convert:hover {\n",
              "      background-color: #434B5C;\n",
              "      box-shadow: 0px 1px 3px 1px rgba(0, 0, 0, 0.15);\n",
              "      filter: drop-shadow(0px 1px 2px rgba(0, 0, 0, 0.3));\n",
              "      fill: #FFFFFF;\n",
              "    }\n",
              "  </style>\n",
              "\n",
              "      <script>\n",
              "        const buttonEl =\n",
              "          document.querySelector('#df-76e03092-4a5d-4667-99a2-6093146c44f2 button.colab-df-convert');\n",
              "        buttonEl.style.display =\n",
              "          google.colab.kernel.accessAllowed ? 'block' : 'none';\n",
              "\n",
              "        async function convertToInteractive(key) {\n",
              "          const element = document.querySelector('#df-76e03092-4a5d-4667-99a2-6093146c44f2');\n",
              "          const dataTable =\n",
              "            await google.colab.kernel.invokeFunction('convertToInteractive',\n",
              "                                                     [key], {});\n",
              "          if (!dataTable) return;\n",
              "\n",
              "          const docLinkHtml = 'Like what you see? Visit the ' +\n",
              "            '<a target=\"_blank\" href=https://colab.research.google.com/notebooks/data_table.ipynb>data table notebook</a>'\n",
              "            + ' to learn more about interactive tables.';\n",
              "          element.innerHTML = '';\n",
              "          dataTable['output_type'] = 'display_data';\n",
              "          await google.colab.output.renderOutput(dataTable, element);\n",
              "          const docLink = document.createElement('div');\n",
              "          docLink.innerHTML = docLinkHtml;\n",
              "          element.appendChild(docLink);\n",
              "        }\n",
              "      </script>\n",
              "    </div>\n",
              "  </div>\n",
              "  "
            ]
          },
          "metadata": {},
          "execution_count": 45
        }
      ],
      "source": [
        "#visualize the first 4 rows of dataset\n",
        "df.head(4)"
      ]
    },
    {
      "cell_type": "code",
      "execution_count": null,
      "metadata": {
        "id": "at4-GZdqrgqB"
      },
      "outputs": [],
      "source": [
        "#Calculate the return\n",
        "df['ret']=df['Close'].pct_change(1)"
      ]
    },
    {
      "cell_type": "code",
      "execution_count": null,
      "metadata": {
        "colab": {
          "base_uri": "https://localhost:8080/",
          "height": 388
        },
        "id": "js--8Wj9r0Zo",
        "outputId": "85dbea74-79c4-4b8a-d135-3421ad3b72fd"
      },
      "outputs": [
        {
          "output_type": "execute_result",
          "data": {
            "text/plain": [
              "                 Date         Open         High          Low        Close  \\\n",
              "Date                                                                        \n",
              "2000-01-03 2000-01-03  1469.250000  1478.000000  1438.359985  1455.219971   \n",
              "2000-01-04 2000-01-04  1455.219971  1455.219971  1397.430054  1399.420044   \n",
              "2000-01-05 2000-01-05  1399.420044  1413.270020  1377.680054  1402.109985   \n",
              "2000-01-06 2000-01-06  1402.109985  1411.900024  1392.099976  1403.449951   \n",
              "2000-01-07 2000-01-07  1403.449951  1441.469971  1400.729980  1441.469971   \n",
              "\n",
              "              Adj Close      Volume  Parameter1  Parameter2  Parameter3  \\\n",
              "Date                                                                      \n",
              "2000-01-03  1455.219971   931800000         NaN    0.009641         NaN   \n",
              "2000-01-04  1399.420044  1009000000   -0.009549    0.039874    0.082850   \n",
              "2000-01-05  1402.109985  1085500000   -0.038345   -0.001918    0.075818   \n",
              "2000-01-06  1403.449951  1092300000    0.001922   -0.000955    0.006264   \n",
              "2000-01-07  1441.469971  1225200000    0.000956   -0.026376    0.121670   \n",
              "\n",
              "                 ret    mdate  \n",
              "Date                           \n",
              "2000-01-03       NaN  2000-01  \n",
              "2000-01-04 -0.038345  2000-01  \n",
              "2000-01-05  0.001922  2000-01  \n",
              "2000-01-06  0.000956  2000-01  \n",
              "2000-01-07  0.027090  2000-01  "
            ],
            "text/html": [
              "\n",
              "  <div id=\"df-189f2e06-ef9f-4fe8-b799-bbcc0fa5b76c\">\n",
              "    <div class=\"colab-df-container\">\n",
              "      <div>\n",
              "<style scoped>\n",
              "    .dataframe tbody tr th:only-of-type {\n",
              "        vertical-align: middle;\n",
              "    }\n",
              "\n",
              "    .dataframe tbody tr th {\n",
              "        vertical-align: top;\n",
              "    }\n",
              "\n",
              "    .dataframe thead th {\n",
              "        text-align: right;\n",
              "    }\n",
              "</style>\n",
              "<table border=\"1\" class=\"dataframe\">\n",
              "  <thead>\n",
              "    <tr style=\"text-align: right;\">\n",
              "      <th></th>\n",
              "      <th>Date</th>\n",
              "      <th>Open</th>\n",
              "      <th>High</th>\n",
              "      <th>Low</th>\n",
              "      <th>Close</th>\n",
              "      <th>Adj Close</th>\n",
              "      <th>Volume</th>\n",
              "      <th>Parameter1</th>\n",
              "      <th>Parameter2</th>\n",
              "      <th>Parameter3</th>\n",
              "      <th>ret</th>\n",
              "      <th>mdate</th>\n",
              "    </tr>\n",
              "    <tr>\n",
              "      <th>Date</th>\n",
              "      <th></th>\n",
              "      <th></th>\n",
              "      <th></th>\n",
              "      <th></th>\n",
              "      <th></th>\n",
              "      <th></th>\n",
              "      <th></th>\n",
              "      <th></th>\n",
              "      <th></th>\n",
              "      <th></th>\n",
              "      <th></th>\n",
              "      <th></th>\n",
              "    </tr>\n",
              "  </thead>\n",
              "  <tbody>\n",
              "    <tr>\n",
              "      <th>2000-01-03</th>\n",
              "      <td>2000-01-03</td>\n",
              "      <td>1469.250000</td>\n",
              "      <td>1478.000000</td>\n",
              "      <td>1438.359985</td>\n",
              "      <td>1455.219971</td>\n",
              "      <td>1455.219971</td>\n",
              "      <td>931800000</td>\n",
              "      <td>NaN</td>\n",
              "      <td>0.009641</td>\n",
              "      <td>NaN</td>\n",
              "      <td>NaN</td>\n",
              "      <td>2000-01</td>\n",
              "    </tr>\n",
              "    <tr>\n",
              "      <th>2000-01-04</th>\n",
              "      <td>2000-01-04</td>\n",
              "      <td>1455.219971</td>\n",
              "      <td>1455.219971</td>\n",
              "      <td>1397.430054</td>\n",
              "      <td>1399.420044</td>\n",
              "      <td>1399.420044</td>\n",
              "      <td>1009000000</td>\n",
              "      <td>-0.009549</td>\n",
              "      <td>0.039874</td>\n",
              "      <td>0.082850</td>\n",
              "      <td>-0.038345</td>\n",
              "      <td>2000-01</td>\n",
              "    </tr>\n",
              "    <tr>\n",
              "      <th>2000-01-05</th>\n",
              "      <td>2000-01-05</td>\n",
              "      <td>1399.420044</td>\n",
              "      <td>1413.270020</td>\n",
              "      <td>1377.680054</td>\n",
              "      <td>1402.109985</td>\n",
              "      <td>1402.109985</td>\n",
              "      <td>1085500000</td>\n",
              "      <td>-0.038345</td>\n",
              "      <td>-0.001918</td>\n",
              "      <td>0.075818</td>\n",
              "      <td>0.001922</td>\n",
              "      <td>2000-01</td>\n",
              "    </tr>\n",
              "    <tr>\n",
              "      <th>2000-01-06</th>\n",
              "      <td>2000-01-06</td>\n",
              "      <td>1402.109985</td>\n",
              "      <td>1411.900024</td>\n",
              "      <td>1392.099976</td>\n",
              "      <td>1403.449951</td>\n",
              "      <td>1403.449951</td>\n",
              "      <td>1092300000</td>\n",
              "      <td>0.001922</td>\n",
              "      <td>-0.000955</td>\n",
              "      <td>0.006264</td>\n",
              "      <td>0.000956</td>\n",
              "      <td>2000-01</td>\n",
              "    </tr>\n",
              "    <tr>\n",
              "      <th>2000-01-07</th>\n",
              "      <td>2000-01-07</td>\n",
              "      <td>1403.449951</td>\n",
              "      <td>1441.469971</td>\n",
              "      <td>1400.729980</td>\n",
              "      <td>1441.469971</td>\n",
              "      <td>1441.469971</td>\n",
              "      <td>1225200000</td>\n",
              "      <td>0.000956</td>\n",
              "      <td>-0.026376</td>\n",
              "      <td>0.121670</td>\n",
              "      <td>0.027090</td>\n",
              "      <td>2000-01</td>\n",
              "    </tr>\n",
              "  </tbody>\n",
              "</table>\n",
              "</div>\n",
              "      <button class=\"colab-df-convert\" onclick=\"convertToInteractive('df-189f2e06-ef9f-4fe8-b799-bbcc0fa5b76c')\"\n",
              "              title=\"Convert this dataframe to an interactive table.\"\n",
              "              style=\"display:none;\">\n",
              "        \n",
              "  <svg xmlns=\"http://www.w3.org/2000/svg\" height=\"24px\"viewBox=\"0 0 24 24\"\n",
              "       width=\"24px\">\n",
              "    <path d=\"M0 0h24v24H0V0z\" fill=\"none\"/>\n",
              "    <path d=\"M18.56 5.44l.94 2.06.94-2.06 2.06-.94-2.06-.94-.94-2.06-.94 2.06-2.06.94zm-11 1L8.5 8.5l.94-2.06 2.06-.94-2.06-.94L8.5 2.5l-.94 2.06-2.06.94zm10 10l.94 2.06.94-2.06 2.06-.94-2.06-.94-.94-2.06-.94 2.06-2.06.94z\"/><path d=\"M17.41 7.96l-1.37-1.37c-.4-.4-.92-.59-1.43-.59-.52 0-1.04.2-1.43.59L10.3 9.45l-7.72 7.72c-.78.78-.78 2.05 0 2.83L4 21.41c.39.39.9.59 1.41.59.51 0 1.02-.2 1.41-.59l7.78-7.78 2.81-2.81c.8-.78.8-2.07 0-2.86zM5.41 20L4 18.59l7.72-7.72 1.47 1.35L5.41 20z\"/>\n",
              "  </svg>\n",
              "      </button>\n",
              "      \n",
              "  <style>\n",
              "    .colab-df-container {\n",
              "      display:flex;\n",
              "      flex-wrap:wrap;\n",
              "      gap: 12px;\n",
              "    }\n",
              "\n",
              "    .colab-df-convert {\n",
              "      background-color: #E8F0FE;\n",
              "      border: none;\n",
              "      border-radius: 50%;\n",
              "      cursor: pointer;\n",
              "      display: none;\n",
              "      fill: #1967D2;\n",
              "      height: 32px;\n",
              "      padding: 0 0 0 0;\n",
              "      width: 32px;\n",
              "    }\n",
              "\n",
              "    .colab-df-convert:hover {\n",
              "      background-color: #E2EBFA;\n",
              "      box-shadow: 0px 1px 2px rgba(60, 64, 67, 0.3), 0px 1px 3px 1px rgba(60, 64, 67, 0.15);\n",
              "      fill: #174EA6;\n",
              "    }\n",
              "\n",
              "    [theme=dark] .colab-df-convert {\n",
              "      background-color: #3B4455;\n",
              "      fill: #D2E3FC;\n",
              "    }\n",
              "\n",
              "    [theme=dark] .colab-df-convert:hover {\n",
              "      background-color: #434B5C;\n",
              "      box-shadow: 0px 1px 3px 1px rgba(0, 0, 0, 0.15);\n",
              "      filter: drop-shadow(0px 1px 2px rgba(0, 0, 0, 0.3));\n",
              "      fill: #FFFFFF;\n",
              "    }\n",
              "  </style>\n",
              "\n",
              "      <script>\n",
              "        const buttonEl =\n",
              "          document.querySelector('#df-189f2e06-ef9f-4fe8-b799-bbcc0fa5b76c button.colab-df-convert');\n",
              "        buttonEl.style.display =\n",
              "          google.colab.kernel.accessAllowed ? 'block' : 'none';\n",
              "\n",
              "        async function convertToInteractive(key) {\n",
              "          const element = document.querySelector('#df-189f2e06-ef9f-4fe8-b799-bbcc0fa5b76c');\n",
              "          const dataTable =\n",
              "            await google.colab.kernel.invokeFunction('convertToInteractive',\n",
              "                                                     [key], {});\n",
              "          if (!dataTable) return;\n",
              "\n",
              "          const docLinkHtml = 'Like what you see? Visit the ' +\n",
              "            '<a target=\"_blank\" href=https://colab.research.google.com/notebooks/data_table.ipynb>data table notebook</a>'\n",
              "            + ' to learn more about interactive tables.';\n",
              "          element.innerHTML = '';\n",
              "          dataTable['output_type'] = 'display_data';\n",
              "          await google.colab.output.renderOutput(dataTable, element);\n",
              "          const docLink = document.createElement('div');\n",
              "          docLink.innerHTML = docLinkHtml;\n",
              "          element.appendChild(docLink);\n",
              "        }\n",
              "      </script>\n",
              "    </div>\n",
              "  </div>\n",
              "  "
            ]
          },
          "metadata": {},
          "execution_count": 47
        }
      ],
      "source": [
        "#Convert the date to monthly period\n",
        "df[\"mdate\"]=df['Date'].dt.to_period('M')\n",
        "df.head()"
      ]
    },
    {
      "cell_type": "code",
      "execution_count": null,
      "metadata": {
        "colab": {
          "base_uri": "https://localhost:8080/",
          "height": 388
        },
        "id": "uQyqezpKr4pP",
        "outputId": "e3155e16-a0d0-4ee7-e692-924201c4e7ed"
      },
      "outputs": [
        {
          "output_type": "execute_result",
          "data": {
            "text/plain": [
              "                 Date         Open         High          Low        Close  \\\n",
              "Date                                                                        \n",
              "2000-01-03 2000-01-03  1469.250000  1478.000000  1438.359985  1455.219971   \n",
              "2000-01-04 2000-01-04  1455.219971  1455.219971  1397.430054  1399.420044   \n",
              "2000-01-05 2000-01-05  1399.420044  1413.270020  1377.680054  1402.109985   \n",
              "2000-01-06 2000-01-06  1402.109985  1411.900024  1392.099976  1403.449951   \n",
              "2000-01-07 2000-01-07  1403.449951  1441.469971  1400.729980  1441.469971   \n",
              "\n",
              "              Adj Close      Volume  Parameter1  Parameter2  Parameter3  \\\n",
              "Date                                                                      \n",
              "2000-01-03  1455.219971   931800000         NaN    0.009641         NaN   \n",
              "2000-01-04  1399.420044  1009000000   -0.009549    0.039874    0.082850   \n",
              "2000-01-05  1402.109985  1085500000   -0.038345   -0.001918    0.075818   \n",
              "2000-01-06  1403.449951  1092300000    0.001922   -0.000955    0.006264   \n",
              "2000-01-07  1441.469971  1225200000    0.000956   -0.026376    0.121670   \n",
              "\n",
              "                 ret    mdate     ret_1  \n",
              "Date                                     \n",
              "2000-01-03       NaN  2000-01       NaN  \n",
              "2000-01-04 -0.038345  2000-01  0.961655  \n",
              "2000-01-05  0.001922  2000-01  1.001922  \n",
              "2000-01-06  0.000956  2000-01  1.000956  \n",
              "2000-01-07  0.027090  2000-01  1.027090  "
            ],
            "text/html": [
              "\n",
              "  <div id=\"df-d903c9fc-528d-40af-9f3f-608025b76923\">\n",
              "    <div class=\"colab-df-container\">\n",
              "      <div>\n",
              "<style scoped>\n",
              "    .dataframe tbody tr th:only-of-type {\n",
              "        vertical-align: middle;\n",
              "    }\n",
              "\n",
              "    .dataframe tbody tr th {\n",
              "        vertical-align: top;\n",
              "    }\n",
              "\n",
              "    .dataframe thead th {\n",
              "        text-align: right;\n",
              "    }\n",
              "</style>\n",
              "<table border=\"1\" class=\"dataframe\">\n",
              "  <thead>\n",
              "    <tr style=\"text-align: right;\">\n",
              "      <th></th>\n",
              "      <th>Date</th>\n",
              "      <th>Open</th>\n",
              "      <th>High</th>\n",
              "      <th>Low</th>\n",
              "      <th>Close</th>\n",
              "      <th>Adj Close</th>\n",
              "      <th>Volume</th>\n",
              "      <th>Parameter1</th>\n",
              "      <th>Parameter2</th>\n",
              "      <th>Parameter3</th>\n",
              "      <th>ret</th>\n",
              "      <th>mdate</th>\n",
              "      <th>ret_1</th>\n",
              "    </tr>\n",
              "    <tr>\n",
              "      <th>Date</th>\n",
              "      <th></th>\n",
              "      <th></th>\n",
              "      <th></th>\n",
              "      <th></th>\n",
              "      <th></th>\n",
              "      <th></th>\n",
              "      <th></th>\n",
              "      <th></th>\n",
              "      <th></th>\n",
              "      <th></th>\n",
              "      <th></th>\n",
              "      <th></th>\n",
              "      <th></th>\n",
              "    </tr>\n",
              "  </thead>\n",
              "  <tbody>\n",
              "    <tr>\n",
              "      <th>2000-01-03</th>\n",
              "      <td>2000-01-03</td>\n",
              "      <td>1469.250000</td>\n",
              "      <td>1478.000000</td>\n",
              "      <td>1438.359985</td>\n",
              "      <td>1455.219971</td>\n",
              "      <td>1455.219971</td>\n",
              "      <td>931800000</td>\n",
              "      <td>NaN</td>\n",
              "      <td>0.009641</td>\n",
              "      <td>NaN</td>\n",
              "      <td>NaN</td>\n",
              "      <td>2000-01</td>\n",
              "      <td>NaN</td>\n",
              "    </tr>\n",
              "    <tr>\n",
              "      <th>2000-01-04</th>\n",
              "      <td>2000-01-04</td>\n",
              "      <td>1455.219971</td>\n",
              "      <td>1455.219971</td>\n",
              "      <td>1397.430054</td>\n",
              "      <td>1399.420044</td>\n",
              "      <td>1399.420044</td>\n",
              "      <td>1009000000</td>\n",
              "      <td>-0.009549</td>\n",
              "      <td>0.039874</td>\n",
              "      <td>0.082850</td>\n",
              "      <td>-0.038345</td>\n",
              "      <td>2000-01</td>\n",
              "      <td>0.961655</td>\n",
              "    </tr>\n",
              "    <tr>\n",
              "      <th>2000-01-05</th>\n",
              "      <td>2000-01-05</td>\n",
              "      <td>1399.420044</td>\n",
              "      <td>1413.270020</td>\n",
              "      <td>1377.680054</td>\n",
              "      <td>1402.109985</td>\n",
              "      <td>1402.109985</td>\n",
              "      <td>1085500000</td>\n",
              "      <td>-0.038345</td>\n",
              "      <td>-0.001918</td>\n",
              "      <td>0.075818</td>\n",
              "      <td>0.001922</td>\n",
              "      <td>2000-01</td>\n",
              "      <td>1.001922</td>\n",
              "    </tr>\n",
              "    <tr>\n",
              "      <th>2000-01-06</th>\n",
              "      <td>2000-01-06</td>\n",
              "      <td>1402.109985</td>\n",
              "      <td>1411.900024</td>\n",
              "      <td>1392.099976</td>\n",
              "      <td>1403.449951</td>\n",
              "      <td>1403.449951</td>\n",
              "      <td>1092300000</td>\n",
              "      <td>0.001922</td>\n",
              "      <td>-0.000955</td>\n",
              "      <td>0.006264</td>\n",
              "      <td>0.000956</td>\n",
              "      <td>2000-01</td>\n",
              "      <td>1.000956</td>\n",
              "    </tr>\n",
              "    <tr>\n",
              "      <th>2000-01-07</th>\n",
              "      <td>2000-01-07</td>\n",
              "      <td>1403.449951</td>\n",
              "      <td>1441.469971</td>\n",
              "      <td>1400.729980</td>\n",
              "      <td>1441.469971</td>\n",
              "      <td>1441.469971</td>\n",
              "      <td>1225200000</td>\n",
              "      <td>0.000956</td>\n",
              "      <td>-0.026376</td>\n",
              "      <td>0.121670</td>\n",
              "      <td>0.027090</td>\n",
              "      <td>2000-01</td>\n",
              "      <td>1.027090</td>\n",
              "    </tr>\n",
              "  </tbody>\n",
              "</table>\n",
              "</div>\n",
              "      <button class=\"colab-df-convert\" onclick=\"convertToInteractive('df-d903c9fc-528d-40af-9f3f-608025b76923')\"\n",
              "              title=\"Convert this dataframe to an interactive table.\"\n",
              "              style=\"display:none;\">\n",
              "        \n",
              "  <svg xmlns=\"http://www.w3.org/2000/svg\" height=\"24px\"viewBox=\"0 0 24 24\"\n",
              "       width=\"24px\">\n",
              "    <path d=\"M0 0h24v24H0V0z\" fill=\"none\"/>\n",
              "    <path d=\"M18.56 5.44l.94 2.06.94-2.06 2.06-.94-2.06-.94-.94-2.06-.94 2.06-2.06.94zm-11 1L8.5 8.5l.94-2.06 2.06-.94-2.06-.94L8.5 2.5l-.94 2.06-2.06.94zm10 10l.94 2.06.94-2.06 2.06-.94-2.06-.94-.94-2.06-.94 2.06-2.06.94z\"/><path d=\"M17.41 7.96l-1.37-1.37c-.4-.4-.92-.59-1.43-.59-.52 0-1.04.2-1.43.59L10.3 9.45l-7.72 7.72c-.78.78-.78 2.05 0 2.83L4 21.41c.39.39.9.59 1.41.59.51 0 1.02-.2 1.41-.59l7.78-7.78 2.81-2.81c.8-.78.8-2.07 0-2.86zM5.41 20L4 18.59l7.72-7.72 1.47 1.35L5.41 20z\"/>\n",
              "  </svg>\n",
              "      </button>\n",
              "      \n",
              "  <style>\n",
              "    .colab-df-container {\n",
              "      display:flex;\n",
              "      flex-wrap:wrap;\n",
              "      gap: 12px;\n",
              "    }\n",
              "\n",
              "    .colab-df-convert {\n",
              "      background-color: #E8F0FE;\n",
              "      border: none;\n",
              "      border-radius: 50%;\n",
              "      cursor: pointer;\n",
              "      display: none;\n",
              "      fill: #1967D2;\n",
              "      height: 32px;\n",
              "      padding: 0 0 0 0;\n",
              "      width: 32px;\n",
              "    }\n",
              "\n",
              "    .colab-df-convert:hover {\n",
              "      background-color: #E2EBFA;\n",
              "      box-shadow: 0px 1px 2px rgba(60, 64, 67, 0.3), 0px 1px 3px 1px rgba(60, 64, 67, 0.15);\n",
              "      fill: #174EA6;\n",
              "    }\n",
              "\n",
              "    [theme=dark] .colab-df-convert {\n",
              "      background-color: #3B4455;\n",
              "      fill: #D2E3FC;\n",
              "    }\n",
              "\n",
              "    [theme=dark] .colab-df-convert:hover {\n",
              "      background-color: #434B5C;\n",
              "      box-shadow: 0px 1px 3px 1px rgba(0, 0, 0, 0.15);\n",
              "      filter: drop-shadow(0px 1px 2px rgba(0, 0, 0, 0.3));\n",
              "      fill: #FFFFFF;\n",
              "    }\n",
              "  </style>\n",
              "\n",
              "      <script>\n",
              "        const buttonEl =\n",
              "          document.querySelector('#df-d903c9fc-528d-40af-9f3f-608025b76923 button.colab-df-convert');\n",
              "        buttonEl.style.display =\n",
              "          google.colab.kernel.accessAllowed ? 'block' : 'none';\n",
              "\n",
              "        async function convertToInteractive(key) {\n",
              "          const element = document.querySelector('#df-d903c9fc-528d-40af-9f3f-608025b76923');\n",
              "          const dataTable =\n",
              "            await google.colab.kernel.invokeFunction('convertToInteractive',\n",
              "                                                     [key], {});\n",
              "          if (!dataTable) return;\n",
              "\n",
              "          const docLinkHtml = 'Like what you see? Visit the ' +\n",
              "            '<a target=\"_blank\" href=https://colab.research.google.com/notebooks/data_table.ipynb>data table notebook</a>'\n",
              "            + ' to learn more about interactive tables.';\n",
              "          element.innerHTML = '';\n",
              "          dataTable['output_type'] = 'display_data';\n",
              "          await google.colab.output.renderOutput(dataTable, element);\n",
              "          const docLink = document.createElement('div');\n",
              "          docLink.innerHTML = docLinkHtml;\n",
              "          element.appendChild(docLink);\n",
              "        }\n",
              "      </script>\n",
              "    </div>\n",
              "  </div>\n",
              "  "
            ]
          },
          "metadata": {},
          "execution_count": 48
        }
      ],
      "source": [
        "#Add one to the all values of daily return\n",
        "df[\"ret_1\"]=df[\"ret\"]+1\n",
        "df.head()"
      ]
    },
    {
      "cell_type": "code",
      "execution_count": null,
      "metadata": {
        "id": "IwUiOoQKsAm_"
      },
      "outputs": [],
      "source": [
        "group=df.groupby(['mdate'])"
      ]
    },
    {
      "cell_type": "code",
      "execution_count": null,
      "metadata": {
        "colab": {
          "base_uri": "https://localhost:8080/",
          "height": 388
        },
        "id": "_nUQ46T1sGNU",
        "outputId": "6d7d2501-f9df-432d-c926-730384897e81"
      },
      "outputs": [
        {
          "output_type": "execute_result",
          "data": {
            "text/plain": [
              "                 Date         Open         High          Low        Close  \\\n",
              "Date                                                                        \n",
              "2000-01-03 2000-01-03  1469.250000  1478.000000  1438.359985  1455.219971   \n",
              "2000-01-04 2000-01-04  1455.219971  1455.219971  1397.430054  1399.420044   \n",
              "2000-01-05 2000-01-05  1399.420044  1413.270020  1377.680054  1402.109985   \n",
              "2000-01-06 2000-01-06  1402.109985  1411.900024  1392.099976  1403.449951   \n",
              "2000-01-07 2000-01-07  1403.449951  1441.469971  1400.729980  1441.469971   \n",
              "\n",
              "              Adj Close      Volume  Parameter1  Parameter2  Parameter3  \\\n",
              "Date                                                                      \n",
              "2000-01-03  1455.219971   931800000         NaN    0.009641         NaN   \n",
              "2000-01-04  1399.420044  1009000000   -0.009549    0.039874    0.082850   \n",
              "2000-01-05  1402.109985  1085500000   -0.038345   -0.001918    0.075818   \n",
              "2000-01-06  1403.449951  1092300000    0.001922   -0.000955    0.006264   \n",
              "2000-01-07  1441.469971  1225200000    0.000956   -0.026376    0.121670   \n",
              "\n",
              "                 ret    mdate     ret_1  Monthly_Return  \n",
              "Date                                                     \n",
              "2000-01-03       NaN  2000-01       NaN       -0.041753  \n",
              "2000-01-04 -0.038345  2000-01  0.961655       -0.041753  \n",
              "2000-01-05  0.001922  2000-01  1.001922       -0.041753  \n",
              "2000-01-06  0.000956  2000-01  1.000956       -0.041753  \n",
              "2000-01-07  0.027090  2000-01  1.027090       -0.041753  "
            ],
            "text/html": [
              "\n",
              "  <div id=\"df-2b90c473-827d-4fd6-bba4-8219f6121066\">\n",
              "    <div class=\"colab-df-container\">\n",
              "      <div>\n",
              "<style scoped>\n",
              "    .dataframe tbody tr th:only-of-type {\n",
              "        vertical-align: middle;\n",
              "    }\n",
              "\n",
              "    .dataframe tbody tr th {\n",
              "        vertical-align: top;\n",
              "    }\n",
              "\n",
              "    .dataframe thead th {\n",
              "        text-align: right;\n",
              "    }\n",
              "</style>\n",
              "<table border=\"1\" class=\"dataframe\">\n",
              "  <thead>\n",
              "    <tr style=\"text-align: right;\">\n",
              "      <th></th>\n",
              "      <th>Date</th>\n",
              "      <th>Open</th>\n",
              "      <th>High</th>\n",
              "      <th>Low</th>\n",
              "      <th>Close</th>\n",
              "      <th>Adj Close</th>\n",
              "      <th>Volume</th>\n",
              "      <th>Parameter1</th>\n",
              "      <th>Parameter2</th>\n",
              "      <th>Parameter3</th>\n",
              "      <th>ret</th>\n",
              "      <th>mdate</th>\n",
              "      <th>ret_1</th>\n",
              "      <th>Monthly_Return</th>\n",
              "    </tr>\n",
              "    <tr>\n",
              "      <th>Date</th>\n",
              "      <th></th>\n",
              "      <th></th>\n",
              "      <th></th>\n",
              "      <th></th>\n",
              "      <th></th>\n",
              "      <th></th>\n",
              "      <th></th>\n",
              "      <th></th>\n",
              "      <th></th>\n",
              "      <th></th>\n",
              "      <th></th>\n",
              "      <th></th>\n",
              "      <th></th>\n",
              "      <th></th>\n",
              "    </tr>\n",
              "  </thead>\n",
              "  <tbody>\n",
              "    <tr>\n",
              "      <th>2000-01-03</th>\n",
              "      <td>2000-01-03</td>\n",
              "      <td>1469.250000</td>\n",
              "      <td>1478.000000</td>\n",
              "      <td>1438.359985</td>\n",
              "      <td>1455.219971</td>\n",
              "      <td>1455.219971</td>\n",
              "      <td>931800000</td>\n",
              "      <td>NaN</td>\n",
              "      <td>0.009641</td>\n",
              "      <td>NaN</td>\n",
              "      <td>NaN</td>\n",
              "      <td>2000-01</td>\n",
              "      <td>NaN</td>\n",
              "      <td>-0.041753</td>\n",
              "    </tr>\n",
              "    <tr>\n",
              "      <th>2000-01-04</th>\n",
              "      <td>2000-01-04</td>\n",
              "      <td>1455.219971</td>\n",
              "      <td>1455.219971</td>\n",
              "      <td>1397.430054</td>\n",
              "      <td>1399.420044</td>\n",
              "      <td>1399.420044</td>\n",
              "      <td>1009000000</td>\n",
              "      <td>-0.009549</td>\n",
              "      <td>0.039874</td>\n",
              "      <td>0.082850</td>\n",
              "      <td>-0.038345</td>\n",
              "      <td>2000-01</td>\n",
              "      <td>0.961655</td>\n",
              "      <td>-0.041753</td>\n",
              "    </tr>\n",
              "    <tr>\n",
              "      <th>2000-01-05</th>\n",
              "      <td>2000-01-05</td>\n",
              "      <td>1399.420044</td>\n",
              "      <td>1413.270020</td>\n",
              "      <td>1377.680054</td>\n",
              "      <td>1402.109985</td>\n",
              "      <td>1402.109985</td>\n",
              "      <td>1085500000</td>\n",
              "      <td>-0.038345</td>\n",
              "      <td>-0.001918</td>\n",
              "      <td>0.075818</td>\n",
              "      <td>0.001922</td>\n",
              "      <td>2000-01</td>\n",
              "      <td>1.001922</td>\n",
              "      <td>-0.041753</td>\n",
              "    </tr>\n",
              "    <tr>\n",
              "      <th>2000-01-06</th>\n",
              "      <td>2000-01-06</td>\n",
              "      <td>1402.109985</td>\n",
              "      <td>1411.900024</td>\n",
              "      <td>1392.099976</td>\n",
              "      <td>1403.449951</td>\n",
              "      <td>1403.449951</td>\n",
              "      <td>1092300000</td>\n",
              "      <td>0.001922</td>\n",
              "      <td>-0.000955</td>\n",
              "      <td>0.006264</td>\n",
              "      <td>0.000956</td>\n",
              "      <td>2000-01</td>\n",
              "      <td>1.000956</td>\n",
              "      <td>-0.041753</td>\n",
              "    </tr>\n",
              "    <tr>\n",
              "      <th>2000-01-07</th>\n",
              "      <td>2000-01-07</td>\n",
              "      <td>1403.449951</td>\n",
              "      <td>1441.469971</td>\n",
              "      <td>1400.729980</td>\n",
              "      <td>1441.469971</td>\n",
              "      <td>1441.469971</td>\n",
              "      <td>1225200000</td>\n",
              "      <td>0.000956</td>\n",
              "      <td>-0.026376</td>\n",
              "      <td>0.121670</td>\n",
              "      <td>0.027090</td>\n",
              "      <td>2000-01</td>\n",
              "      <td>1.027090</td>\n",
              "      <td>-0.041753</td>\n",
              "    </tr>\n",
              "  </tbody>\n",
              "</table>\n",
              "</div>\n",
              "      <button class=\"colab-df-convert\" onclick=\"convertToInteractive('df-2b90c473-827d-4fd6-bba4-8219f6121066')\"\n",
              "              title=\"Convert this dataframe to an interactive table.\"\n",
              "              style=\"display:none;\">\n",
              "        \n",
              "  <svg xmlns=\"http://www.w3.org/2000/svg\" height=\"24px\"viewBox=\"0 0 24 24\"\n",
              "       width=\"24px\">\n",
              "    <path d=\"M0 0h24v24H0V0z\" fill=\"none\"/>\n",
              "    <path d=\"M18.56 5.44l.94 2.06.94-2.06 2.06-.94-2.06-.94-.94-2.06-.94 2.06-2.06.94zm-11 1L8.5 8.5l.94-2.06 2.06-.94-2.06-.94L8.5 2.5l-.94 2.06-2.06.94zm10 10l.94 2.06.94-2.06 2.06-.94-2.06-.94-.94-2.06-.94 2.06-2.06.94z\"/><path d=\"M17.41 7.96l-1.37-1.37c-.4-.4-.92-.59-1.43-.59-.52 0-1.04.2-1.43.59L10.3 9.45l-7.72 7.72c-.78.78-.78 2.05 0 2.83L4 21.41c.39.39.9.59 1.41.59.51 0 1.02-.2 1.41-.59l7.78-7.78 2.81-2.81c.8-.78.8-2.07 0-2.86zM5.41 20L4 18.59l7.72-7.72 1.47 1.35L5.41 20z\"/>\n",
              "  </svg>\n",
              "      </button>\n",
              "      \n",
              "  <style>\n",
              "    .colab-df-container {\n",
              "      display:flex;\n",
              "      flex-wrap:wrap;\n",
              "      gap: 12px;\n",
              "    }\n",
              "\n",
              "    .colab-df-convert {\n",
              "      background-color: #E8F0FE;\n",
              "      border: none;\n",
              "      border-radius: 50%;\n",
              "      cursor: pointer;\n",
              "      display: none;\n",
              "      fill: #1967D2;\n",
              "      height: 32px;\n",
              "      padding: 0 0 0 0;\n",
              "      width: 32px;\n",
              "    }\n",
              "\n",
              "    .colab-df-convert:hover {\n",
              "      background-color: #E2EBFA;\n",
              "      box-shadow: 0px 1px 2px rgba(60, 64, 67, 0.3), 0px 1px 3px 1px rgba(60, 64, 67, 0.15);\n",
              "      fill: #174EA6;\n",
              "    }\n",
              "\n",
              "    [theme=dark] .colab-df-convert {\n",
              "      background-color: #3B4455;\n",
              "      fill: #D2E3FC;\n",
              "    }\n",
              "\n",
              "    [theme=dark] .colab-df-convert:hover {\n",
              "      background-color: #434B5C;\n",
              "      box-shadow: 0px 1px 3px 1px rgba(0, 0, 0, 0.15);\n",
              "      filter: drop-shadow(0px 1px 2px rgba(0, 0, 0, 0.3));\n",
              "      fill: #FFFFFF;\n",
              "    }\n",
              "  </style>\n",
              "\n",
              "      <script>\n",
              "        const buttonEl =\n",
              "          document.querySelector('#df-2b90c473-827d-4fd6-bba4-8219f6121066 button.colab-df-convert');\n",
              "        buttonEl.style.display =\n",
              "          google.colab.kernel.accessAllowed ? 'block' : 'none';\n",
              "\n",
              "        async function convertToInteractive(key) {\n",
              "          const element = document.querySelector('#df-2b90c473-827d-4fd6-bba4-8219f6121066');\n",
              "          const dataTable =\n",
              "            await google.colab.kernel.invokeFunction('convertToInteractive',\n",
              "                                                     [key], {});\n",
              "          if (!dataTable) return;\n",
              "\n",
              "          const docLinkHtml = 'Like what you see? Visit the ' +\n",
              "            '<a target=\"_blank\" href=https://colab.research.google.com/notebooks/data_table.ipynb>data table notebook</a>'\n",
              "            + ' to learn more about interactive tables.';\n",
              "          element.innerHTML = '';\n",
              "          dataTable['output_type'] = 'display_data';\n",
              "          await google.colab.output.renderOutput(dataTable, element);\n",
              "          const docLink = document.createElement('div');\n",
              "          docLink.innerHTML = docLinkHtml;\n",
              "          element.appendChild(docLink);\n",
              "        }\n",
              "      </script>\n",
              "    </div>\n",
              "  </div>\n",
              "  "
            ]
          },
          "metadata": {},
          "execution_count": 50
        }
      ],
      "source": [
        "#Monthly return\n",
        "#product of all values of ret_1 and substract 1 \n",
        "df['Monthly_Return']=group['ret_1'].transform(np.product)-1\n",
        "df.head(5)"
      ]
    },
    {
      "cell_type": "code",
      "execution_count": null,
      "metadata": {
        "id": "eX6AN2w4tWOs"
      },
      "outputs": [],
      "source": [
        ""
      ]
    },
    {
      "cell_type": "code",
      "execution_count": null,
      "metadata": {
        "id": "whxaJqoBtWCL"
      },
      "outputs": [],
      "source": [
        ""
      ]
    },
    {
      "cell_type": "markdown",
      "metadata": {
        "id": "hsTkvcv_tENT"
      },
      "source": [
        "○\tUse decision tree to classify if investing in any month can be a profitable strategy"
      ]
    },
    {
      "cell_type": "code",
      "execution_count": null,
      "metadata": {
        "colab": {
          "base_uri": "https://localhost:8080/",
          "height": 388
        },
        "id": "4Fvax_ilsKZL",
        "outputId": "84b04a42-ccf3-4e11-dc33-9de3ff31f598"
      },
      "outputs": [
        {
          "output_type": "execute_result",
          "data": {
            "text/plain": [
              "                 Date         Open         High          Low        Close  \\\n",
              "Date                                                                        \n",
              "2000-01-03 2000-01-03  1469.250000  1478.000000  1438.359985  1455.219971   \n",
              "2000-01-04 2000-01-04  1455.219971  1455.219971  1397.430054  1399.420044   \n",
              "2000-01-05 2000-01-05  1399.420044  1413.270020  1377.680054  1402.109985   \n",
              "2000-01-06 2000-01-06  1402.109985  1411.900024  1392.099976  1403.449951   \n",
              "2000-01-07 2000-01-07  1403.449951  1441.469971  1400.729980  1441.469971   \n",
              "\n",
              "              Adj Close      Volume  Parameter1  Parameter2  Parameter3  \\\n",
              "Date                                                                      \n",
              "2000-01-03  1455.219971   931800000         NaN    0.009641         NaN   \n",
              "2000-01-04  1399.420044  1009000000   -0.009549    0.039874    0.082850   \n",
              "2000-01-05  1402.109985  1085500000   -0.038345   -0.001918    0.075818   \n",
              "2000-01-06  1403.449951  1092300000    0.001922   -0.000955    0.006264   \n",
              "2000-01-07  1441.469971  1225200000    0.000956   -0.026376    0.121670   \n",
              "\n",
              "                 ret    mdate     ret_1  Monthly_Return  Price_up  \n",
              "Date                                                               \n",
              "2000-01-03       NaN  2000-01       NaN       -0.041753         0  \n",
              "2000-01-04 -0.038345  2000-01  0.961655       -0.041753         0  \n",
              "2000-01-05  0.001922  2000-01  1.001922       -0.041753         0  \n",
              "2000-01-06  0.000956  2000-01  1.000956       -0.041753         0  \n",
              "2000-01-07  0.027090  2000-01  1.027090       -0.041753         0  "
            ],
            "text/html": [
              "\n",
              "  <div id=\"df-495faa52-997e-4ff7-8484-5b888f4d09a4\">\n",
              "    <div class=\"colab-df-container\">\n",
              "      <div>\n",
              "<style scoped>\n",
              "    .dataframe tbody tr th:only-of-type {\n",
              "        vertical-align: middle;\n",
              "    }\n",
              "\n",
              "    .dataframe tbody tr th {\n",
              "        vertical-align: top;\n",
              "    }\n",
              "\n",
              "    .dataframe thead th {\n",
              "        text-align: right;\n",
              "    }\n",
              "</style>\n",
              "<table border=\"1\" class=\"dataframe\">\n",
              "  <thead>\n",
              "    <tr style=\"text-align: right;\">\n",
              "      <th></th>\n",
              "      <th>Date</th>\n",
              "      <th>Open</th>\n",
              "      <th>High</th>\n",
              "      <th>Low</th>\n",
              "      <th>Close</th>\n",
              "      <th>Adj Close</th>\n",
              "      <th>Volume</th>\n",
              "      <th>Parameter1</th>\n",
              "      <th>Parameter2</th>\n",
              "      <th>Parameter3</th>\n",
              "      <th>ret</th>\n",
              "      <th>mdate</th>\n",
              "      <th>ret_1</th>\n",
              "      <th>Monthly_Return</th>\n",
              "      <th>Price_up</th>\n",
              "    </tr>\n",
              "    <tr>\n",
              "      <th>Date</th>\n",
              "      <th></th>\n",
              "      <th></th>\n",
              "      <th></th>\n",
              "      <th></th>\n",
              "      <th></th>\n",
              "      <th></th>\n",
              "      <th></th>\n",
              "      <th></th>\n",
              "      <th></th>\n",
              "      <th></th>\n",
              "      <th></th>\n",
              "      <th></th>\n",
              "      <th></th>\n",
              "      <th></th>\n",
              "      <th></th>\n",
              "    </tr>\n",
              "  </thead>\n",
              "  <tbody>\n",
              "    <tr>\n",
              "      <th>2000-01-03</th>\n",
              "      <td>2000-01-03</td>\n",
              "      <td>1469.250000</td>\n",
              "      <td>1478.000000</td>\n",
              "      <td>1438.359985</td>\n",
              "      <td>1455.219971</td>\n",
              "      <td>1455.219971</td>\n",
              "      <td>931800000</td>\n",
              "      <td>NaN</td>\n",
              "      <td>0.009641</td>\n",
              "      <td>NaN</td>\n",
              "      <td>NaN</td>\n",
              "      <td>2000-01</td>\n",
              "      <td>NaN</td>\n",
              "      <td>-0.041753</td>\n",
              "      <td>0</td>\n",
              "    </tr>\n",
              "    <tr>\n",
              "      <th>2000-01-04</th>\n",
              "      <td>2000-01-04</td>\n",
              "      <td>1455.219971</td>\n",
              "      <td>1455.219971</td>\n",
              "      <td>1397.430054</td>\n",
              "      <td>1399.420044</td>\n",
              "      <td>1399.420044</td>\n",
              "      <td>1009000000</td>\n",
              "      <td>-0.009549</td>\n",
              "      <td>0.039874</td>\n",
              "      <td>0.082850</td>\n",
              "      <td>-0.038345</td>\n",
              "      <td>2000-01</td>\n",
              "      <td>0.961655</td>\n",
              "      <td>-0.041753</td>\n",
              "      <td>0</td>\n",
              "    </tr>\n",
              "    <tr>\n",
              "      <th>2000-01-05</th>\n",
              "      <td>2000-01-05</td>\n",
              "      <td>1399.420044</td>\n",
              "      <td>1413.270020</td>\n",
              "      <td>1377.680054</td>\n",
              "      <td>1402.109985</td>\n",
              "      <td>1402.109985</td>\n",
              "      <td>1085500000</td>\n",
              "      <td>-0.038345</td>\n",
              "      <td>-0.001918</td>\n",
              "      <td>0.075818</td>\n",
              "      <td>0.001922</td>\n",
              "      <td>2000-01</td>\n",
              "      <td>1.001922</td>\n",
              "      <td>-0.041753</td>\n",
              "      <td>0</td>\n",
              "    </tr>\n",
              "    <tr>\n",
              "      <th>2000-01-06</th>\n",
              "      <td>2000-01-06</td>\n",
              "      <td>1402.109985</td>\n",
              "      <td>1411.900024</td>\n",
              "      <td>1392.099976</td>\n",
              "      <td>1403.449951</td>\n",
              "      <td>1403.449951</td>\n",
              "      <td>1092300000</td>\n",
              "      <td>0.001922</td>\n",
              "      <td>-0.000955</td>\n",
              "      <td>0.006264</td>\n",
              "      <td>0.000956</td>\n",
              "      <td>2000-01</td>\n",
              "      <td>1.000956</td>\n",
              "      <td>-0.041753</td>\n",
              "      <td>0</td>\n",
              "    </tr>\n",
              "    <tr>\n",
              "      <th>2000-01-07</th>\n",
              "      <td>2000-01-07</td>\n",
              "      <td>1403.449951</td>\n",
              "      <td>1441.469971</td>\n",
              "      <td>1400.729980</td>\n",
              "      <td>1441.469971</td>\n",
              "      <td>1441.469971</td>\n",
              "      <td>1225200000</td>\n",
              "      <td>0.000956</td>\n",
              "      <td>-0.026376</td>\n",
              "      <td>0.121670</td>\n",
              "      <td>0.027090</td>\n",
              "      <td>2000-01</td>\n",
              "      <td>1.027090</td>\n",
              "      <td>-0.041753</td>\n",
              "      <td>0</td>\n",
              "    </tr>\n",
              "  </tbody>\n",
              "</table>\n",
              "</div>\n",
              "      <button class=\"colab-df-convert\" onclick=\"convertToInteractive('df-495faa52-997e-4ff7-8484-5b888f4d09a4')\"\n",
              "              title=\"Convert this dataframe to an interactive table.\"\n",
              "              style=\"display:none;\">\n",
              "        \n",
              "  <svg xmlns=\"http://www.w3.org/2000/svg\" height=\"24px\"viewBox=\"0 0 24 24\"\n",
              "       width=\"24px\">\n",
              "    <path d=\"M0 0h24v24H0V0z\" fill=\"none\"/>\n",
              "    <path d=\"M18.56 5.44l.94 2.06.94-2.06 2.06-.94-2.06-.94-.94-2.06-.94 2.06-2.06.94zm-11 1L8.5 8.5l.94-2.06 2.06-.94-2.06-.94L8.5 2.5l-.94 2.06-2.06.94zm10 10l.94 2.06.94-2.06 2.06-.94-2.06-.94-.94-2.06-.94 2.06-2.06.94z\"/><path d=\"M17.41 7.96l-1.37-1.37c-.4-.4-.92-.59-1.43-.59-.52 0-1.04.2-1.43.59L10.3 9.45l-7.72 7.72c-.78.78-.78 2.05 0 2.83L4 21.41c.39.39.9.59 1.41.59.51 0 1.02-.2 1.41-.59l7.78-7.78 2.81-2.81c.8-.78.8-2.07 0-2.86zM5.41 20L4 18.59l7.72-7.72 1.47 1.35L5.41 20z\"/>\n",
              "  </svg>\n",
              "      </button>\n",
              "      \n",
              "  <style>\n",
              "    .colab-df-container {\n",
              "      display:flex;\n",
              "      flex-wrap:wrap;\n",
              "      gap: 12px;\n",
              "    }\n",
              "\n",
              "    .colab-df-convert {\n",
              "      background-color: #E8F0FE;\n",
              "      border: none;\n",
              "      border-radius: 50%;\n",
              "      cursor: pointer;\n",
              "      display: none;\n",
              "      fill: #1967D2;\n",
              "      height: 32px;\n",
              "      padding: 0 0 0 0;\n",
              "      width: 32px;\n",
              "    }\n",
              "\n",
              "    .colab-df-convert:hover {\n",
              "      background-color: #E2EBFA;\n",
              "      box-shadow: 0px 1px 2px rgba(60, 64, 67, 0.3), 0px 1px 3px 1px rgba(60, 64, 67, 0.15);\n",
              "      fill: #174EA6;\n",
              "    }\n",
              "\n",
              "    [theme=dark] .colab-df-convert {\n",
              "      background-color: #3B4455;\n",
              "      fill: #D2E3FC;\n",
              "    }\n",
              "\n",
              "    [theme=dark] .colab-df-convert:hover {\n",
              "      background-color: #434B5C;\n",
              "      box-shadow: 0px 1px 3px 1px rgba(0, 0, 0, 0.15);\n",
              "      filter: drop-shadow(0px 1px 2px rgba(0, 0, 0, 0.3));\n",
              "      fill: #FFFFFF;\n",
              "    }\n",
              "  </style>\n",
              "\n",
              "      <script>\n",
              "        const buttonEl =\n",
              "          document.querySelector('#df-495faa52-997e-4ff7-8484-5b888f4d09a4 button.colab-df-convert');\n",
              "        buttonEl.style.display =\n",
              "          google.colab.kernel.accessAllowed ? 'block' : 'none';\n",
              "\n",
              "        async function convertToInteractive(key) {\n",
              "          const element = document.querySelector('#df-495faa52-997e-4ff7-8484-5b888f4d09a4');\n",
              "          const dataTable =\n",
              "            await google.colab.kernel.invokeFunction('convertToInteractive',\n",
              "                                                     [key], {});\n",
              "          if (!dataTable) return;\n",
              "\n",
              "          const docLinkHtml = 'Like what you see? Visit the ' +\n",
              "            '<a target=\"_blank\" href=https://colab.research.google.com/notebooks/data_table.ipynb>data table notebook</a>'\n",
              "            + ' to learn more about interactive tables.';\n",
              "          element.innerHTML = '';\n",
              "          dataTable['output_type'] = 'display_data';\n",
              "          await google.colab.output.renderOutput(dataTable, element);\n",
              "          const docLink = document.createElement('div');\n",
              "          docLink.innerHTML = docLinkHtml;\n",
              "          element.appendChild(docLink);\n",
              "        }\n",
              "      </script>\n",
              "    </div>\n",
              "  </div>\n",
              "  "
            ]
          },
          "metadata": {},
          "execution_count": 51
        }
      ],
      "source": [
        "\n",
        "df['Price_up']=np.where(df['Monthly_Return'] > 0, 1,0)\n",
        "df.head()"
      ]
    },
    {
      "cell_type": "code",
      "execution_count": null,
      "metadata": {
        "colab": {
          "base_uri": "https://localhost:8080/",
          "height": 238
        },
        "id": "ZBtFBDfytDG7",
        "outputId": "ba842863-331b-470d-eb60-1fe92c26a632"
      },
      "outputs": [
        {
          "output_type": "execute_result",
          "data": {
            "text/plain": [
              "              mdate  Monthly_Return  Price_up\n",
              "Date                                         \n",
              "2000-01-03  2000-01       -0.041753         0\n",
              "2000-01-04  2000-01       -0.041753         0\n",
              "2000-01-05  2000-01       -0.041753         0\n",
              "2000-01-06  2000-01       -0.041753         0\n",
              "2000-01-07  2000-01       -0.041753         0"
            ],
            "text/html": [
              "\n",
              "  <div id=\"df-cd8b74ea-2a7f-4119-b931-318cfc56adc0\">\n",
              "    <div class=\"colab-df-container\">\n",
              "      <div>\n",
              "<style scoped>\n",
              "    .dataframe tbody tr th:only-of-type {\n",
              "        vertical-align: middle;\n",
              "    }\n",
              "\n",
              "    .dataframe tbody tr th {\n",
              "        vertical-align: top;\n",
              "    }\n",
              "\n",
              "    .dataframe thead th {\n",
              "        text-align: right;\n",
              "    }\n",
              "</style>\n",
              "<table border=\"1\" class=\"dataframe\">\n",
              "  <thead>\n",
              "    <tr style=\"text-align: right;\">\n",
              "      <th></th>\n",
              "      <th>mdate</th>\n",
              "      <th>Monthly_Return</th>\n",
              "      <th>Price_up</th>\n",
              "    </tr>\n",
              "    <tr>\n",
              "      <th>Date</th>\n",
              "      <th></th>\n",
              "      <th></th>\n",
              "      <th></th>\n",
              "    </tr>\n",
              "  </thead>\n",
              "  <tbody>\n",
              "    <tr>\n",
              "      <th>2000-01-03</th>\n",
              "      <td>2000-01</td>\n",
              "      <td>-0.041753</td>\n",
              "      <td>0</td>\n",
              "    </tr>\n",
              "    <tr>\n",
              "      <th>2000-01-04</th>\n",
              "      <td>2000-01</td>\n",
              "      <td>-0.041753</td>\n",
              "      <td>0</td>\n",
              "    </tr>\n",
              "    <tr>\n",
              "      <th>2000-01-05</th>\n",
              "      <td>2000-01</td>\n",
              "      <td>-0.041753</td>\n",
              "      <td>0</td>\n",
              "    </tr>\n",
              "    <tr>\n",
              "      <th>2000-01-06</th>\n",
              "      <td>2000-01</td>\n",
              "      <td>-0.041753</td>\n",
              "      <td>0</td>\n",
              "    </tr>\n",
              "    <tr>\n",
              "      <th>2000-01-07</th>\n",
              "      <td>2000-01</td>\n",
              "      <td>-0.041753</td>\n",
              "      <td>0</td>\n",
              "    </tr>\n",
              "  </tbody>\n",
              "</table>\n",
              "</div>\n",
              "      <button class=\"colab-df-convert\" onclick=\"convertToInteractive('df-cd8b74ea-2a7f-4119-b931-318cfc56adc0')\"\n",
              "              title=\"Convert this dataframe to an interactive table.\"\n",
              "              style=\"display:none;\">\n",
              "        \n",
              "  <svg xmlns=\"http://www.w3.org/2000/svg\" height=\"24px\"viewBox=\"0 0 24 24\"\n",
              "       width=\"24px\">\n",
              "    <path d=\"M0 0h24v24H0V0z\" fill=\"none\"/>\n",
              "    <path d=\"M18.56 5.44l.94 2.06.94-2.06 2.06-.94-2.06-.94-.94-2.06-.94 2.06-2.06.94zm-11 1L8.5 8.5l.94-2.06 2.06-.94-2.06-.94L8.5 2.5l-.94 2.06-2.06.94zm10 10l.94 2.06.94-2.06 2.06-.94-2.06-.94-.94-2.06-.94 2.06-2.06.94z\"/><path d=\"M17.41 7.96l-1.37-1.37c-.4-.4-.92-.59-1.43-.59-.52 0-1.04.2-1.43.59L10.3 9.45l-7.72 7.72c-.78.78-.78 2.05 0 2.83L4 21.41c.39.39.9.59 1.41.59.51 0 1.02-.2 1.41-.59l7.78-7.78 2.81-2.81c.8-.78.8-2.07 0-2.86zM5.41 20L4 18.59l7.72-7.72 1.47 1.35L5.41 20z\"/>\n",
              "  </svg>\n",
              "      </button>\n",
              "      \n",
              "  <style>\n",
              "    .colab-df-container {\n",
              "      display:flex;\n",
              "      flex-wrap:wrap;\n",
              "      gap: 12px;\n",
              "    }\n",
              "\n",
              "    .colab-df-convert {\n",
              "      background-color: #E8F0FE;\n",
              "      border: none;\n",
              "      border-radius: 50%;\n",
              "      cursor: pointer;\n",
              "      display: none;\n",
              "      fill: #1967D2;\n",
              "      height: 32px;\n",
              "      padding: 0 0 0 0;\n",
              "      width: 32px;\n",
              "    }\n",
              "\n",
              "    .colab-df-convert:hover {\n",
              "      background-color: #E2EBFA;\n",
              "      box-shadow: 0px 1px 2px rgba(60, 64, 67, 0.3), 0px 1px 3px 1px rgba(60, 64, 67, 0.15);\n",
              "      fill: #174EA6;\n",
              "    }\n",
              "\n",
              "    [theme=dark] .colab-df-convert {\n",
              "      background-color: #3B4455;\n",
              "      fill: #D2E3FC;\n",
              "    }\n",
              "\n",
              "    [theme=dark] .colab-df-convert:hover {\n",
              "      background-color: #434B5C;\n",
              "      box-shadow: 0px 1px 3px 1px rgba(0, 0, 0, 0.15);\n",
              "      filter: drop-shadow(0px 1px 2px rgba(0, 0, 0, 0.3));\n",
              "      fill: #FFFFFF;\n",
              "    }\n",
              "  </style>\n",
              "\n",
              "      <script>\n",
              "        const buttonEl =\n",
              "          document.querySelector('#df-cd8b74ea-2a7f-4119-b931-318cfc56adc0 button.colab-df-convert');\n",
              "        buttonEl.style.display =\n",
              "          google.colab.kernel.accessAllowed ? 'block' : 'none';\n",
              "\n",
              "        async function convertToInteractive(key) {\n",
              "          const element = document.querySelector('#df-cd8b74ea-2a7f-4119-b931-318cfc56adc0');\n",
              "          const dataTable =\n",
              "            await google.colab.kernel.invokeFunction('convertToInteractive',\n",
              "                                                     [key], {});\n",
              "          if (!dataTable) return;\n",
              "\n",
              "          const docLinkHtml = 'Like what you see? Visit the ' +\n",
              "            '<a target=\"_blank\" href=https://colab.research.google.com/notebooks/data_table.ipynb>data table notebook</a>'\n",
              "            + ' to learn more about interactive tables.';\n",
              "          element.innerHTML = '';\n",
              "          dataTable['output_type'] = 'display_data';\n",
              "          await google.colab.output.renderOutput(dataTable, element);\n",
              "          const docLink = document.createElement('div');\n",
              "          docLink.innerHTML = docLinkHtml;\n",
              "          element.appendChild(docLink);\n",
              "        }\n",
              "      </script>\n",
              "    </div>\n",
              "  </div>\n",
              "  "
            ]
          },
          "metadata": {},
          "execution_count": 52
        }
      ],
      "source": [
        "df_mret=df[['mdate', 'Monthly_Return', 'Price_up']]\n",
        "df_mret.head()"
      ]
    },
    {
      "cell_type": "code",
      "execution_count": null,
      "metadata": {
        "colab": {
          "base_uri": "https://localhost:8080/",
          "height": 238
        },
        "id": "P9x07fyrtC4m",
        "outputId": "2df79841-1229-42db-bb69-8f7e2df65f44"
      },
      "outputs": [
        {
          "output_type": "execute_result",
          "data": {
            "text/plain": [
              "              mdate  Monthly_Return  Price_up\n",
              "Date                                         \n",
              "2000-01-03  2000-01       -0.041753         0\n",
              "2000-02-01  2000-02       -0.020108         0\n",
              "2000-03-01  2000-03        0.096720         1\n",
              "2000-04-03  2000-04       -0.030796         0\n",
              "2000-05-01  2000-05       -0.021915         0"
            ],
            "text/html": [
              "\n",
              "  <div id=\"df-72c63bd5-2dff-4d72-8b78-1fcbf46b011b\">\n",
              "    <div class=\"colab-df-container\">\n",
              "      <div>\n",
              "<style scoped>\n",
              "    .dataframe tbody tr th:only-of-type {\n",
              "        vertical-align: middle;\n",
              "    }\n",
              "\n",
              "    .dataframe tbody tr th {\n",
              "        vertical-align: top;\n",
              "    }\n",
              "\n",
              "    .dataframe thead th {\n",
              "        text-align: right;\n",
              "    }\n",
              "</style>\n",
              "<table border=\"1\" class=\"dataframe\">\n",
              "  <thead>\n",
              "    <tr style=\"text-align: right;\">\n",
              "      <th></th>\n",
              "      <th>mdate</th>\n",
              "      <th>Monthly_Return</th>\n",
              "      <th>Price_up</th>\n",
              "    </tr>\n",
              "    <tr>\n",
              "      <th>Date</th>\n",
              "      <th></th>\n",
              "      <th></th>\n",
              "      <th></th>\n",
              "    </tr>\n",
              "  </thead>\n",
              "  <tbody>\n",
              "    <tr>\n",
              "      <th>2000-01-03</th>\n",
              "      <td>2000-01</td>\n",
              "      <td>-0.041753</td>\n",
              "      <td>0</td>\n",
              "    </tr>\n",
              "    <tr>\n",
              "      <th>2000-02-01</th>\n",
              "      <td>2000-02</td>\n",
              "      <td>-0.020108</td>\n",
              "      <td>0</td>\n",
              "    </tr>\n",
              "    <tr>\n",
              "      <th>2000-03-01</th>\n",
              "      <td>2000-03</td>\n",
              "      <td>0.096720</td>\n",
              "      <td>1</td>\n",
              "    </tr>\n",
              "    <tr>\n",
              "      <th>2000-04-03</th>\n",
              "      <td>2000-04</td>\n",
              "      <td>-0.030796</td>\n",
              "      <td>0</td>\n",
              "    </tr>\n",
              "    <tr>\n",
              "      <th>2000-05-01</th>\n",
              "      <td>2000-05</td>\n",
              "      <td>-0.021915</td>\n",
              "      <td>0</td>\n",
              "    </tr>\n",
              "  </tbody>\n",
              "</table>\n",
              "</div>\n",
              "      <button class=\"colab-df-convert\" onclick=\"convertToInteractive('df-72c63bd5-2dff-4d72-8b78-1fcbf46b011b')\"\n",
              "              title=\"Convert this dataframe to an interactive table.\"\n",
              "              style=\"display:none;\">\n",
              "        \n",
              "  <svg xmlns=\"http://www.w3.org/2000/svg\" height=\"24px\"viewBox=\"0 0 24 24\"\n",
              "       width=\"24px\">\n",
              "    <path d=\"M0 0h24v24H0V0z\" fill=\"none\"/>\n",
              "    <path d=\"M18.56 5.44l.94 2.06.94-2.06 2.06-.94-2.06-.94-.94-2.06-.94 2.06-2.06.94zm-11 1L8.5 8.5l.94-2.06 2.06-.94-2.06-.94L8.5 2.5l-.94 2.06-2.06.94zm10 10l.94 2.06.94-2.06 2.06-.94-2.06-.94-.94-2.06-.94 2.06-2.06.94z\"/><path d=\"M17.41 7.96l-1.37-1.37c-.4-.4-.92-.59-1.43-.59-.52 0-1.04.2-1.43.59L10.3 9.45l-7.72 7.72c-.78.78-.78 2.05 0 2.83L4 21.41c.39.39.9.59 1.41.59.51 0 1.02-.2 1.41-.59l7.78-7.78 2.81-2.81c.8-.78.8-2.07 0-2.86zM5.41 20L4 18.59l7.72-7.72 1.47 1.35L5.41 20z\"/>\n",
              "  </svg>\n",
              "      </button>\n",
              "      \n",
              "  <style>\n",
              "    .colab-df-container {\n",
              "      display:flex;\n",
              "      flex-wrap:wrap;\n",
              "      gap: 12px;\n",
              "    }\n",
              "\n",
              "    .colab-df-convert {\n",
              "      background-color: #E8F0FE;\n",
              "      border: none;\n",
              "      border-radius: 50%;\n",
              "      cursor: pointer;\n",
              "      display: none;\n",
              "      fill: #1967D2;\n",
              "      height: 32px;\n",
              "      padding: 0 0 0 0;\n",
              "      width: 32px;\n",
              "    }\n",
              "\n",
              "    .colab-df-convert:hover {\n",
              "      background-color: #E2EBFA;\n",
              "      box-shadow: 0px 1px 2px rgba(60, 64, 67, 0.3), 0px 1px 3px 1px rgba(60, 64, 67, 0.15);\n",
              "      fill: #174EA6;\n",
              "    }\n",
              "\n",
              "    [theme=dark] .colab-df-convert {\n",
              "      background-color: #3B4455;\n",
              "      fill: #D2E3FC;\n",
              "    }\n",
              "\n",
              "    [theme=dark] .colab-df-convert:hover {\n",
              "      background-color: #434B5C;\n",
              "      box-shadow: 0px 1px 3px 1px rgba(0, 0, 0, 0.15);\n",
              "      filter: drop-shadow(0px 1px 2px rgba(0, 0, 0, 0.3));\n",
              "      fill: #FFFFFF;\n",
              "    }\n",
              "  </style>\n",
              "\n",
              "      <script>\n",
              "        const buttonEl =\n",
              "          document.querySelector('#df-72c63bd5-2dff-4d72-8b78-1fcbf46b011b button.colab-df-convert');\n",
              "        buttonEl.style.display =\n",
              "          google.colab.kernel.accessAllowed ? 'block' : 'none';\n",
              "\n",
              "        async function convertToInteractive(key) {\n",
              "          const element = document.querySelector('#df-72c63bd5-2dff-4d72-8b78-1fcbf46b011b');\n",
              "          const dataTable =\n",
              "            await google.colab.kernel.invokeFunction('convertToInteractive',\n",
              "                                                     [key], {});\n",
              "          if (!dataTable) return;\n",
              "\n",
              "          const docLinkHtml = 'Like what you see? Visit the ' +\n",
              "            '<a target=\"_blank\" href=https://colab.research.google.com/notebooks/data_table.ipynb>data table notebook</a>'\n",
              "            + ' to learn more about interactive tables.';\n",
              "          element.innerHTML = '';\n",
              "          dataTable['output_type'] = 'display_data';\n",
              "          await google.colab.output.renderOutput(dataTable, element);\n",
              "          const docLink = document.createElement('div');\n",
              "          docLink.innerHTML = docLinkHtml;\n",
              "          element.appendChild(docLink);\n",
              "        }\n",
              "      </script>\n",
              "    </div>\n",
              "  </div>\n",
              "  "
            ]
          },
          "metadata": {},
          "execution_count": 53
        }
      ],
      "source": [
        "#Drop the duplicates row from datasets\n",
        "df_mod=df_mret.drop_duplicates()\n",
        "df_mod.head()"
      ]
    },
    {
      "cell_type": "code",
      "execution_count": null,
      "metadata": {
        "colab": {
          "base_uri": "https://localhost:8080/"
        },
        "id": "Gosw3-Eis5dZ",
        "outputId": "5a28c8e0-d717-46b9-ffe5-fe7cad568ebc"
      },
      "outputs": [
        {
          "output_type": "stream",
          "name": "stdout",
          "text": [
            "<class 'pandas.core.frame.DataFrame'>\n",
            "DatetimeIndex: 250 entries, 2000-01-03 to 2020-10-01\n",
            "Data columns (total 3 columns):\n",
            " #   Column          Non-Null Count  Dtype    \n",
            "---  ------          --------------  -----    \n",
            " 0   mdate           250 non-null    period[M]\n",
            " 1   Monthly_Return  250 non-null    float64  \n",
            " 2   Price_up        250 non-null    int64    \n",
            "dtypes: float64(1), int64(1), period[M](1)\n",
            "memory usage: 7.8 KB\n"
          ]
        }
      ],
      "source": [
        "#Detailed information of dataset\n",
        "df_mod.info()"
      ]
    },
    {
      "cell_type": "code",
      "execution_count": null,
      "metadata": {
        "colab": {
          "base_uri": "https://localhost:8080/"
        },
        "id": "WaxPG-uytIoL",
        "outputId": "bdd34c34-a601-4748-9941-b34fb8a028d8"
      },
      "outputs": [
        {
          "output_type": "execute_result",
          "data": {
            "text/plain": [
              "mdate             0\n",
              "Monthly_Return    0\n",
              "Price_up          0\n",
              "dtype: int64"
            ]
          },
          "metadata": {},
          "execution_count": 55
        }
      ],
      "source": [
        "df_mod.isnull().sum()"
      ]
    },
    {
      "cell_type": "markdown",
      "metadata": {
        "id": "KuymY_NGt6nk"
      },
      "source": [
        "*No null value in dataset*"
      ]
    },
    {
      "cell_type": "code",
      "execution_count": null,
      "metadata": {
        "id": "bSRMPPEvt5MZ"
      },
      "outputs": [],
      "source": [
        "#Feature selection\n",
        "x=df_mod[['Monthly_Return']]\n",
        "y=df_mod[['Price_up']]"
      ]
    },
    {
      "cell_type": "code",
      "execution_count": null,
      "metadata": {
        "id": "vTsmBAG5t2aw"
      },
      "outputs": [],
      "source": [
        "#Split the dataset into train and test\n",
        "from sklearn.model_selection import train_test_split\n",
        "x_train, x_test, y_train, y_test= train_test_split(x, y, test_size=0.25)"
      ]
    },
    {
      "cell_type": "code",
      "execution_count": null,
      "metadata": {
        "id": "jAltBg-7uU-T"
      },
      "outputs": [],
      "source": [
        "#import decision tree classification model\n",
        "from sklearn.tree import DecisionTreeClassifier\n",
        "clf=DecisionTreeClassifier()"
      ]
    },
    {
      "cell_type": "code",
      "execution_count": null,
      "metadata": {
        "colab": {
          "base_uri": "https://localhost:8080/"
        },
        "id": "DEsl5ozquX-J",
        "outputId": "1b7e8f28-7959-4ec5-c576-9561b556e300"
      },
      "outputs": [
        {
          "output_type": "execute_result",
          "data": {
            "text/plain": [
              "DecisionTreeClassifier()"
            ]
          },
          "metadata": {},
          "execution_count": 59
        }
      ],
      "source": [
        "#fit the data on model\n",
        "clf.fit(x_train, y_train)"
      ]
    },
    {
      "cell_type": "code",
      "execution_count": null,
      "metadata": {
        "id": "fcK07qTcubPE"
      },
      "outputs": [],
      "source": [
        "#predict the data on test dataset\n",
        "y_pred=clf.predict(x_test)"
      ]
    },
    {
      "cell_type": "code",
      "execution_count": null,
      "metadata": {
        "colab": {
          "base_uri": "https://localhost:8080/"
        },
        "id": "dR68maVlun4P",
        "outputId": "224c0c2f-8c25-4408-fac8-6efead9a7acd"
      },
      "outputs": [
        {
          "output_type": "execute_result",
          "data": {
            "text/plain": [
              "array([[28,  0],\n",
              "       [ 0, 35]])"
            ]
          },
          "metadata": {},
          "execution_count": 61
        }
      ],
      "source": [
        "#Error matics- Confusion matrics\n",
        "from sklearn.metrics import confusion_matrix\n",
        "confusion_matrix(y_test, y_pred)"
      ]
    },
    {
      "cell_type": "code",
      "execution_count": null,
      "metadata": {
        "colab": {
          "base_uri": "https://localhost:8080/"
        },
        "id": "cpVWYK2IurVe",
        "outputId": "42fc283a-e037-4551-d8f9-6bd4bfdfd75b"
      },
      "outputs": [
        {
          "output_type": "stream",
          "name": "stdout",
          "text": [
            "1.0\n"
          ]
        }
      ],
      "source": [
        "#check accuracy of the model\n",
        "from sklearn.metrics import accuracy_score\n",
        "print(accuracy_score(y_test, y_pred))"
      ]
    },
    {
      "cell_type": "code",
      "execution_count": null,
      "metadata": {
        "colab": {
          "base_uri": "https://localhost:8080/"
        },
        "id": "j9D0CuOkuxwm",
        "outputId": "48184038-85ee-4887-d8af-2e2ba6782f1c"
      },
      "outputs": [
        {
          "output_type": "stream",
          "name": "stdout",
          "text": [
            "              precision    recall  f1-score   support\n",
            "\n",
            "           0       1.00      1.00      1.00        28\n",
            "           1       1.00      1.00      1.00        35\n",
            "\n",
            "    accuracy                           1.00        63\n",
            "   macro avg       1.00      1.00      1.00        63\n",
            "weighted avg       1.00      1.00      1.00        63\n",
            "\n"
          ]
        }
      ],
      "source": [
        "from sklearn.metrics import classification_report\n",
        "print(classification_report(y_test, y_pred))"
      ]
    },
    {
      "cell_type": "code",
      "execution_count": null,
      "metadata": {
        "id": "VLnh3uAuu1ep"
      },
      "outputs": [],
      "source": [
        "from sklearn import tree"
      ]
    },
    {
      "cell_type": "code",
      "source": [
        "text_representation=tree.export_text(clf)\n",
        "print(text_representation)"
      ],
      "metadata": {
        "colab": {
          "base_uri": "https://localhost:8080/"
        },
        "id": "1oVgi2r_9Qwt",
        "outputId": "8a7f3f78-4ef5-4435-d961-8f9917b7eca7"
      },
      "execution_count": null,
      "outputs": [
        {
          "output_type": "stream",
          "name": "stdout",
          "text": [
            "|--- feature_0 <= 0.00\n",
            "|   |--- class: 0\n",
            "|--- feature_0 >  0.00\n",
            "|   |--- class: 1\n",
            "\n"
          ]
        }
      ]
    },
    {
      "cell_type": "code",
      "source": [
        ""
      ],
      "metadata": {
        "id": "RqNeFbcr9foW"
      },
      "execution_count": null,
      "outputs": []
    },
    {
      "cell_type": "code",
      "source": [
        "#visualize the decision tree classifier\n",
        "from sklearn.tree import export_graphviz\n",
        "export_graphviz(clf, out_file='tree.dot',\n",
        "                feature_names=x_train.columns,\n",
        "                #class_names=y_train.columns,\n",
        "                max_depth=3,\n",
        "                filled=True)"
      ],
      "metadata": {
        "id": "Fp9BpPwo_JeR"
      },
      "execution_count": null,
      "outputs": []
    },
    {
      "cell_type": "markdown",
      "source": [
        ""
      ],
      "metadata": {
        "id": "395k5KOuI5AP"
      }
    },
    {
      "cell_type": "code",
      "source": [
        "#convert image into dot format to png format  \n",
        "!dot -Tpng tree.dot -o tree.png"
      ],
      "metadata": {
        "id": "K3aLxuW3AlhF"
      },
      "execution_count": null,
      "outputs": []
    },
    {
      "cell_type": "code",
      "source": [
        ""
      ],
      "metadata": {
        "id": "FuCeaIPGCCu4"
      },
      "execution_count": null,
      "outputs": []
    },
    {
      "cell_type": "code",
      "source": [
        ""
      ],
      "metadata": {
        "id": "EaigXWAHHLDA"
      },
      "execution_count": null,
      "outputs": []
    }
  ],
  "metadata": {
    "colab": {
      "collapsed_sections": [],
      "name": "StockAnalysis.ipynb",
      "provenance": []
    },
    "kernelspec": {
      "display_name": "Python 3",
      "name": "python3"
    },
    "language_info": {
      "name": "python"
    }
  },
  "nbformat": 4,
  "nbformat_minor": 0
}